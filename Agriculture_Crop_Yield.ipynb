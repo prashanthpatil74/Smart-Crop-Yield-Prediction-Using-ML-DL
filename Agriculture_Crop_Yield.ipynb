{
 "cells": [
  {
   "cell_type": "code",
   "execution_count": 1,
   "id": "a7116297-47ab-46f4-a180-a2c471656b21",
   "metadata": {},
   "outputs": [],
   "source": [
    "import pandas as pd\n",
    "import numpy as np"
   ]
  },
  {
   "cell_type": "code",
   "execution_count": 2,
   "id": "093d1d85-996a-4cf8-ac09-bcc9f853ef89",
   "metadata": {},
   "outputs": [],
   "source": [
    "# Load the dataset\n",
    "df = pd.read_csv(\"P:\\\\crop_yield.csv\")"
   ]
  },
  {
   "cell_type": "code",
   "execution_count": 3,
   "id": "feab3a97-9804-4d7c-a019-4d6f0e9d31cb",
   "metadata": {},
   "outputs": [
    {
     "data": {
      "text/plain": [
       "0"
      ]
     },
     "execution_count": 3,
     "metadata": {},
     "output_type": "execute_result"
    }
   ],
   "source": [
    "df.duplicated().sum()"
   ]
  },
  {
   "cell_type": "code",
   "execution_count": 4,
   "id": "b38919bd-5b50-49c9-a562-1854a77ab946",
   "metadata": {},
   "outputs": [
    {
     "data": {
      "text/html": [
       "<div>\n",
       "<style scoped>\n",
       "    .dataframe tbody tr th:only-of-type {\n",
       "        vertical-align: middle;\n",
       "    }\n",
       "\n",
       "    .dataframe tbody tr th {\n",
       "        vertical-align: top;\n",
       "    }\n",
       "\n",
       "    .dataframe thead th {\n",
       "        text-align: right;\n",
       "    }\n",
       "</style>\n",
       "<table border=\"1\" class=\"dataframe\">\n",
       "  <thead>\n",
       "    <tr style=\"text-align: right;\">\n",
       "      <th></th>\n",
       "      <th>Region</th>\n",
       "      <th>Soil_Type</th>\n",
       "      <th>Crop</th>\n",
       "      <th>Rainfall_mm</th>\n",
       "      <th>Temperature_Celsius</th>\n",
       "      <th>Fertilizer_Used</th>\n",
       "      <th>Irrigation_Used</th>\n",
       "      <th>Weather_Condition</th>\n",
       "      <th>Days_to_Harvest</th>\n",
       "      <th>Yield_tons_per_hectare</th>\n",
       "    </tr>\n",
       "  </thead>\n",
       "  <tbody>\n",
       "    <tr>\n",
       "      <th>0</th>\n",
       "      <td>West</td>\n",
       "      <td>Sandy</td>\n",
       "      <td>Cotton</td>\n",
       "      <td>897.077239</td>\n",
       "      <td>27.676966</td>\n",
       "      <td>False</td>\n",
       "      <td>True</td>\n",
       "      <td>Cloudy</td>\n",
       "      <td>122</td>\n",
       "      <td>6.555816</td>\n",
       "    </tr>\n",
       "    <tr>\n",
       "      <th>1</th>\n",
       "      <td>South</td>\n",
       "      <td>Clay</td>\n",
       "      <td>Rice</td>\n",
       "      <td>992.673282</td>\n",
       "      <td>18.026142</td>\n",
       "      <td>True</td>\n",
       "      <td>True</td>\n",
       "      <td>Rainy</td>\n",
       "      <td>140</td>\n",
       "      <td>8.527341</td>\n",
       "    </tr>\n",
       "    <tr>\n",
       "      <th>2</th>\n",
       "      <td>North</td>\n",
       "      <td>Loam</td>\n",
       "      <td>Barley</td>\n",
       "      <td>147.998025</td>\n",
       "      <td>29.794042</td>\n",
       "      <td>False</td>\n",
       "      <td>False</td>\n",
       "      <td>Sunny</td>\n",
       "      <td>106</td>\n",
       "      <td>1.127443</td>\n",
       "    </tr>\n",
       "    <tr>\n",
       "      <th>3</th>\n",
       "      <td>North</td>\n",
       "      <td>Sandy</td>\n",
       "      <td>Soybean</td>\n",
       "      <td>986.866331</td>\n",
       "      <td>16.644190</td>\n",
       "      <td>False</td>\n",
       "      <td>True</td>\n",
       "      <td>Rainy</td>\n",
       "      <td>146</td>\n",
       "      <td>6.517573</td>\n",
       "    </tr>\n",
       "    <tr>\n",
       "      <th>4</th>\n",
       "      <td>South</td>\n",
       "      <td>Silt</td>\n",
       "      <td>Wheat</td>\n",
       "      <td>730.379174</td>\n",
       "      <td>31.620687</td>\n",
       "      <td>True</td>\n",
       "      <td>True</td>\n",
       "      <td>Cloudy</td>\n",
       "      <td>110</td>\n",
       "      <td>7.248251</td>\n",
       "    </tr>\n",
       "  </tbody>\n",
       "</table>\n",
       "</div>"
      ],
      "text/plain": [
       "  Region Soil_Type     Crop  Rainfall_mm  Temperature_Celsius  \\\n",
       "0   West     Sandy   Cotton   897.077239            27.676966   \n",
       "1  South      Clay     Rice   992.673282            18.026142   \n",
       "2  North      Loam   Barley   147.998025            29.794042   \n",
       "3  North     Sandy  Soybean   986.866331            16.644190   \n",
       "4  South      Silt    Wheat   730.379174            31.620687   \n",
       "\n",
       "   Fertilizer_Used  Irrigation_Used Weather_Condition  Days_to_Harvest  \\\n",
       "0            False             True            Cloudy              122   \n",
       "1             True             True             Rainy              140   \n",
       "2            False            False             Sunny              106   \n",
       "3            False             True             Rainy              146   \n",
       "4             True             True            Cloudy              110   \n",
       "\n",
       "   Yield_tons_per_hectare  \n",
       "0                6.555816  \n",
       "1                8.527341  \n",
       "2                1.127443  \n",
       "3                6.517573  \n",
       "4                7.248251  "
      ]
     },
     "execution_count": 4,
     "metadata": {},
     "output_type": "execute_result"
    }
   ],
   "source": [
    "df.head()"
   ]
  },
  {
   "cell_type": "code",
   "execution_count": 5,
   "id": "1da0512b-7b9e-44c7-a7a6-3cf9280474c8",
   "metadata": {},
   "outputs": [
    {
     "data": {
      "text/html": [
       "<div>\n",
       "<style scoped>\n",
       "    .dataframe tbody tr th:only-of-type {\n",
       "        vertical-align: middle;\n",
       "    }\n",
       "\n",
       "    .dataframe tbody tr th {\n",
       "        vertical-align: top;\n",
       "    }\n",
       "\n",
       "    .dataframe thead th {\n",
       "        text-align: right;\n",
       "    }\n",
       "</style>\n",
       "<table border=\"1\" class=\"dataframe\">\n",
       "  <thead>\n",
       "    <tr style=\"text-align: right;\">\n",
       "      <th></th>\n",
       "      <th>Region</th>\n",
       "      <th>Soil_Type</th>\n",
       "      <th>Crop</th>\n",
       "      <th>Rainfall_mm</th>\n",
       "      <th>Temperature_Celsius</th>\n",
       "      <th>Fertilizer_Used</th>\n",
       "      <th>Irrigation_Used</th>\n",
       "      <th>Weather_Condition</th>\n",
       "      <th>Days_to_Harvest</th>\n",
       "      <th>Yield_tons_per_hectare</th>\n",
       "    </tr>\n",
       "  </thead>\n",
       "  <tbody>\n",
       "    <tr>\n",
       "      <th>999995</th>\n",
       "      <td>West</td>\n",
       "      <td>Silt</td>\n",
       "      <td>Rice</td>\n",
       "      <td>302.805345</td>\n",
       "      <td>27.987428</td>\n",
       "      <td>False</td>\n",
       "      <td>False</td>\n",
       "      <td>Sunny</td>\n",
       "      <td>76</td>\n",
       "      <td>1.347586</td>\n",
       "    </tr>\n",
       "    <tr>\n",
       "      <th>999996</th>\n",
       "      <td>South</td>\n",
       "      <td>Chalky</td>\n",
       "      <td>Barley</td>\n",
       "      <td>932.991383</td>\n",
       "      <td>39.661039</td>\n",
       "      <td>True</td>\n",
       "      <td>False</td>\n",
       "      <td>Rainy</td>\n",
       "      <td>93</td>\n",
       "      <td>7.311594</td>\n",
       "    </tr>\n",
       "    <tr>\n",
       "      <th>999997</th>\n",
       "      <td>North</td>\n",
       "      <td>Peaty</td>\n",
       "      <td>Cotton</td>\n",
       "      <td>867.362046</td>\n",
       "      <td>24.370042</td>\n",
       "      <td>True</td>\n",
       "      <td>False</td>\n",
       "      <td>Cloudy</td>\n",
       "      <td>108</td>\n",
       "      <td>5.763182</td>\n",
       "    </tr>\n",
       "    <tr>\n",
       "      <th>999998</th>\n",
       "      <td>West</td>\n",
       "      <td>Silt</td>\n",
       "      <td>Wheat</td>\n",
       "      <td>492.812857</td>\n",
       "      <td>33.045505</td>\n",
       "      <td>False</td>\n",
       "      <td>False</td>\n",
       "      <td>Sunny</td>\n",
       "      <td>102</td>\n",
       "      <td>2.070159</td>\n",
       "    </tr>\n",
       "    <tr>\n",
       "      <th>999999</th>\n",
       "      <td>West</td>\n",
       "      <td>Sandy</td>\n",
       "      <td>Maize</td>\n",
       "      <td>180.936180</td>\n",
       "      <td>27.298847</td>\n",
       "      <td>True</td>\n",
       "      <td>False</td>\n",
       "      <td>Sunny</td>\n",
       "      <td>76</td>\n",
       "      <td>2.937243</td>\n",
       "    </tr>\n",
       "  </tbody>\n",
       "</table>\n",
       "</div>"
      ],
      "text/plain": [
       "       Region Soil_Type    Crop  Rainfall_mm  Temperature_Celsius  \\\n",
       "999995   West      Silt    Rice   302.805345            27.987428   \n",
       "999996  South    Chalky  Barley   932.991383            39.661039   \n",
       "999997  North     Peaty  Cotton   867.362046            24.370042   \n",
       "999998   West      Silt   Wheat   492.812857            33.045505   \n",
       "999999   West     Sandy   Maize   180.936180            27.298847   \n",
       "\n",
       "        Fertilizer_Used  Irrigation_Used Weather_Condition  Days_to_Harvest  \\\n",
       "999995            False            False             Sunny               76   \n",
       "999996             True            False             Rainy               93   \n",
       "999997             True            False            Cloudy              108   \n",
       "999998            False            False             Sunny              102   \n",
       "999999             True            False             Sunny               76   \n",
       "\n",
       "        Yield_tons_per_hectare  \n",
       "999995                1.347586  \n",
       "999996                7.311594  \n",
       "999997                5.763182  \n",
       "999998                2.070159  \n",
       "999999                2.937243  "
      ]
     },
     "execution_count": 5,
     "metadata": {},
     "output_type": "execute_result"
    }
   ],
   "source": [
    "df.tail()"
   ]
  },
  {
   "cell_type": "code",
   "execution_count": 6,
   "id": "f6af1f0e-226a-46f0-98ba-f4a8c8702700",
   "metadata": {},
   "outputs": [
    {
     "name": "stdout",
     "output_type": "stream",
     "text": [
      "<class 'pandas.core.frame.DataFrame'>\n",
      "RangeIndex: 1000000 entries, 0 to 999999\n",
      "Data columns (total 10 columns):\n",
      " #   Column                  Non-Null Count    Dtype  \n",
      "---  ------                  --------------    -----  \n",
      " 0   Region                  1000000 non-null  object \n",
      " 1   Soil_Type               1000000 non-null  object \n",
      " 2   Crop                    1000000 non-null  object \n",
      " 3   Rainfall_mm             1000000 non-null  float64\n",
      " 4   Temperature_Celsius     1000000 non-null  float64\n",
      " 5   Fertilizer_Used         1000000 non-null  bool   \n",
      " 6   Irrigation_Used         1000000 non-null  bool   \n",
      " 7   Weather_Condition       1000000 non-null  object \n",
      " 8   Days_to_Harvest         1000000 non-null  int64  \n",
      " 9   Yield_tons_per_hectare  1000000 non-null  float64\n",
      "dtypes: bool(2), float64(3), int64(1), object(4)\n",
      "memory usage: 62.9+ MB\n"
     ]
    }
   ],
   "source": [
    "df.info()"
   ]
  },
  {
   "cell_type": "code",
   "execution_count": 7,
   "id": "30f1cbe2-4511-4b52-b8b2-7d65b3123267",
   "metadata": {},
   "outputs": [
    {
     "data": {
      "text/plain": [
       "Index(['Region', 'Soil_Type', 'Crop', 'Rainfall_mm', 'Temperature_Celsius',\n",
       "       'Fertilizer_Used', 'Irrigation_Used', 'Weather_Condition',\n",
       "       'Days_to_Harvest', 'Yield_tons_per_hectare'],\n",
       "      dtype='object')"
      ]
     },
     "execution_count": 7,
     "metadata": {},
     "output_type": "execute_result"
    }
   ],
   "source": [
    "df.columns"
   ]
  },
  {
   "cell_type": "code",
   "execution_count": 8,
   "id": "fed12e42-f918-4065-a349-8addf88746d9",
   "metadata": {},
   "outputs": [
    {
     "data": {
      "text/plain": [
       "Region                     object\n",
       "Soil_Type                  object\n",
       "Crop                       object\n",
       "Rainfall_mm               float64\n",
       "Temperature_Celsius       float64\n",
       "Fertilizer_Used              bool\n",
       "Irrigation_Used              bool\n",
       "Weather_Condition          object\n",
       "Days_to_Harvest             int64\n",
       "Yield_tons_per_hectare    float64\n",
       "dtype: object"
      ]
     },
     "execution_count": 8,
     "metadata": {},
     "output_type": "execute_result"
    }
   ],
   "source": [
    "df.dtypes"
   ]
  },
  {
   "cell_type": "code",
   "execution_count": 9,
   "id": "8833f08f-9b37-4aaa-a2e5-30fd31b0c9c3",
   "metadata": {},
   "outputs": [
    {
     "data": {
      "text/plain": [
       "(1000000, 10)"
      ]
     },
     "execution_count": 9,
     "metadata": {},
     "output_type": "execute_result"
    }
   ],
   "source": [
    "df.shape"
   ]
  },
  {
   "cell_type": "code",
   "execution_count": 10,
   "id": "0c5551e2-b9be-4753-bbd5-baeeab946e91",
   "metadata": {},
   "outputs": [
    {
     "data": {
      "text/plain": [
       "Region                    0\n",
       "Soil_Type                 0\n",
       "Crop                      0\n",
       "Rainfall_mm               0\n",
       "Temperature_Celsius       0\n",
       "Fertilizer_Used           0\n",
       "Irrigation_Used           0\n",
       "Weather_Condition         0\n",
       "Days_to_Harvest           0\n",
       "Yield_tons_per_hectare    0\n",
       "dtype: int64"
      ]
     },
     "execution_count": 10,
     "metadata": {},
     "output_type": "execute_result"
    }
   ],
   "source": [
    "df.isnull().sum()"
   ]
  },
  {
   "cell_type": "code",
   "execution_count": 11,
   "id": "77989fbb-5a47-4a8e-8bd0-e39e10b11107",
   "metadata": {},
   "outputs": [
    {
     "data": {
      "text/html": [
       "<div>\n",
       "<style scoped>\n",
       "    .dataframe tbody tr th:only-of-type {\n",
       "        vertical-align: middle;\n",
       "    }\n",
       "\n",
       "    .dataframe tbody tr th {\n",
       "        vertical-align: top;\n",
       "    }\n",
       "\n",
       "    .dataframe thead th {\n",
       "        text-align: right;\n",
       "    }\n",
       "</style>\n",
       "<table border=\"1\" class=\"dataframe\">\n",
       "  <thead>\n",
       "    <tr style=\"text-align: right;\">\n",
       "      <th></th>\n",
       "      <th>count</th>\n",
       "      <th>mean</th>\n",
       "      <th>std</th>\n",
       "      <th>min</th>\n",
       "      <th>25%</th>\n",
       "      <th>50%</th>\n",
       "      <th>75%</th>\n",
       "      <th>max</th>\n",
       "    </tr>\n",
       "  </thead>\n",
       "  <tbody>\n",
       "    <tr>\n",
       "      <th>Rainfall_mm</th>\n",
       "      <td>1000000.0</td>\n",
       "      <td>549.981901</td>\n",
       "      <td>259.851320</td>\n",
       "      <td>100.000896</td>\n",
       "      <td>324.891090</td>\n",
       "      <td>550.124061</td>\n",
       "      <td>774.738520</td>\n",
       "      <td>999.998098</td>\n",
       "    </tr>\n",
       "    <tr>\n",
       "      <th>Temperature_Celsius</th>\n",
       "      <td>1000000.0</td>\n",
       "      <td>27.504965</td>\n",
       "      <td>7.220608</td>\n",
       "      <td>15.000034</td>\n",
       "      <td>21.254502</td>\n",
       "      <td>27.507365</td>\n",
       "      <td>33.753267</td>\n",
       "      <td>39.999997</td>\n",
       "    </tr>\n",
       "    <tr>\n",
       "      <th>Days_to_Harvest</th>\n",
       "      <td>1000000.0</td>\n",
       "      <td>104.495025</td>\n",
       "      <td>25.953412</td>\n",
       "      <td>60.000000</td>\n",
       "      <td>82.000000</td>\n",
       "      <td>104.000000</td>\n",
       "      <td>127.000000</td>\n",
       "      <td>149.000000</td>\n",
       "    </tr>\n",
       "    <tr>\n",
       "      <th>Yield_tons_per_hectare</th>\n",
       "      <td>1000000.0</td>\n",
       "      <td>4.649472</td>\n",
       "      <td>1.696572</td>\n",
       "      <td>-1.147613</td>\n",
       "      <td>3.417637</td>\n",
       "      <td>4.651808</td>\n",
       "      <td>5.879200</td>\n",
       "      <td>9.963372</td>\n",
       "    </tr>\n",
       "  </tbody>\n",
       "</table>\n",
       "</div>"
      ],
      "text/plain": [
       "                            count        mean         std         min  \\\n",
       "Rainfall_mm             1000000.0  549.981901  259.851320  100.000896   \n",
       "Temperature_Celsius     1000000.0   27.504965    7.220608   15.000034   \n",
       "Days_to_Harvest         1000000.0  104.495025   25.953412   60.000000   \n",
       "Yield_tons_per_hectare  1000000.0    4.649472    1.696572   -1.147613   \n",
       "\n",
       "                               25%         50%         75%         max  \n",
       "Rainfall_mm             324.891090  550.124061  774.738520  999.998098  \n",
       "Temperature_Celsius      21.254502   27.507365   33.753267   39.999997  \n",
       "Days_to_Harvest          82.000000  104.000000  127.000000  149.000000  \n",
       "Yield_tons_per_hectare    3.417637    4.651808    5.879200    9.963372  "
      ]
     },
     "execution_count": 11,
     "metadata": {},
     "output_type": "execute_result"
    }
   ],
   "source": [
    "df.describe().T"
   ]
  },
  {
   "cell_type": "code",
   "execution_count": 12,
   "id": "b19e12e3-efc6-4e80-8681-abad3d610d2a",
   "metadata": {},
   "outputs": [
    {
     "data": {
      "text/plain": [
       "Crop\n",
       "Maize      166824\n",
       "Rice       166792\n",
       "Barley     166777\n",
       "Wheat      166673\n",
       "Cotton     166585\n",
       "Soybean    166349\n",
       "Name: count, dtype: int64"
      ]
     },
     "execution_count": 12,
     "metadata": {},
     "output_type": "execute_result"
    }
   ],
   "source": [
    "df['Crop'].value_counts()"
   ]
  },
  {
   "cell_type": "markdown",
   "id": "2ca9a799-007d-4e5e-a050-3e3f1b201cab",
   "metadata": {},
   "source": [
    "#  Feature Understanding\n",
    "Histogram\n",
    "\n",
    "Pie\n",
    "\n",
    "Scatter\n",
    "\n",
    "Boxplot\n",
    "\n",
    "KDE"
   ]
  },
  {
   "cell_type": "code",
   "execution_count": 14,
   "id": "9403e61c-5189-47f0-8dd6-d6f95fd3c287",
   "metadata": {},
   "outputs": [],
   "source": [
    "import matplotlib.pyplot as plt\n",
    "import seaborn as sns"
   ]
  },
  {
   "cell_type": "code",
   "execution_count": 15,
   "id": "f9db2164-5a4d-4419-bca0-7ddc137d6b96",
   "metadata": {},
   "outputs": [
    {
     "data": {
      "image/png": "[encoded data removed]",
      "text/plain": [
       "<Figure size 1200x800 with 4 Axes>"
      ]
     },
     "metadata": {},
     "output_type": "display_data"
    }
   ],
   "source": [
    "df.hist(bins=60, figsize =(12,8))\n",
    "plt.show()"
   ]
  },
  {
   "cell_type": "code",
   "execution_count": 16,
   "id": "26dc1d78-a63b-4b2b-894e-98d22aa1847c",
   "metadata": {},
   "outputs": [
    {
     "data": {
      "image/png": "[encoded data removed]",
      "text/plain": [
       "<Figure size 640x480 with 1 Axes>"
      ]
     },
     "metadata": {},
     "output_type": "display_data"
    }
   ],
   "source": [
    "ax = df['Crop'].value_counts().plot(kind='pie', autopct='%1.1f%%', title='Crop Count')\n",
    "\n",
    "plt.show()"
   ]
  },
  {
   "cell_type": "code",
   "execution_count": 17,
   "id": "715e61c2-8cac-4485-86a6-544e45df4663",
   "metadata": {},
   "outputs": [
    {
     "data": {
      "text/html": [
       "<div>\n",
       "<style scoped>\n",
       "    .dataframe tbody tr th:only-of-type {\n",
       "        vertical-align: middle;\n",
       "    }\n",
       "\n",
       "    .dataframe tbody tr th {\n",
       "        vertical-align: top;\n",
       "    }\n",
       "\n",
       "    .dataframe thead th {\n",
       "        text-align: right;\n",
       "    }\n",
       "</style>\n",
       "<table border=\"1\" class=\"dataframe\">\n",
       "  <thead>\n",
       "    <tr style=\"text-align: right;\">\n",
       "      <th></th>\n",
       "      <th>Rainfall_mm</th>\n",
       "      <th>Temperature_Celsius</th>\n",
       "      <th>Fertilizer_Used</th>\n",
       "      <th>Irrigation_Used</th>\n",
       "      <th>Days_to_Harvest</th>\n",
       "      <th>Yield_tons_per_hectare</th>\n",
       "    </tr>\n",
       "  </thead>\n",
       "  <tbody>\n",
       "    <tr>\n",
       "      <th>Rainfall_mm</th>\n",
       "      <td>1.000000</td>\n",
       "      <td>-0.000123</td>\n",
       "      <td>-0.001076</td>\n",
       "      <td>-0.000568</td>\n",
       "      <td>-0.002669</td>\n",
       "      <td>0.764618</td>\n",
       "    </tr>\n",
       "    <tr>\n",
       "      <th>Temperature_Celsius</th>\n",
       "      <td>-0.000123</td>\n",
       "      <td>1.000000</td>\n",
       "      <td>0.002343</td>\n",
       "      <td>-0.000484</td>\n",
       "      <td>-0.000731</td>\n",
       "      <td>0.085565</td>\n",
       "    </tr>\n",
       "    <tr>\n",
       "      <th>Fertilizer_Used</th>\n",
       "      <td>-0.001076</td>\n",
       "      <td>0.002343</td>\n",
       "      <td>1.000000</td>\n",
       "      <td>0.001510</td>\n",
       "      <td>-0.001029</td>\n",
       "      <td>0.442099</td>\n",
       "    </tr>\n",
       "    <tr>\n",
       "      <th>Irrigation_Used</th>\n",
       "      <td>-0.000568</td>\n",
       "      <td>-0.000484</td>\n",
       "      <td>0.001510</td>\n",
       "      <td>1.000000</td>\n",
       "      <td>-0.001234</td>\n",
       "      <td>0.353741</td>\n",
       "    </tr>\n",
       "    <tr>\n",
       "      <th>Days_to_Harvest</th>\n",
       "      <td>-0.002669</td>\n",
       "      <td>-0.000731</td>\n",
       "      <td>-0.001029</td>\n",
       "      <td>-0.001234</td>\n",
       "      <td>1.000000</td>\n",
       "      <td>-0.002591</td>\n",
       "    </tr>\n",
       "    <tr>\n",
       "      <th>Yield_tons_per_hectare</th>\n",
       "      <td>0.764618</td>\n",
       "      <td>0.085565</td>\n",
       "      <td>0.442099</td>\n",
       "      <td>0.353741</td>\n",
       "      <td>-0.002591</td>\n",
       "      <td>1.000000</td>\n",
       "    </tr>\n",
       "  </tbody>\n",
       "</table>\n",
       "</div>"
      ],
      "text/plain": [
       "                        Rainfall_mm  Temperature_Celsius  Fertilizer_Used  \\\n",
       "Rainfall_mm                1.000000            -0.000123        -0.001076   \n",
       "Temperature_Celsius       -0.000123             1.000000         0.002343   \n",
       "Fertilizer_Used           -0.001076             0.002343         1.000000   \n",
       "Irrigation_Used           -0.000568            -0.000484         0.001510   \n",
       "Days_to_Harvest           -0.002669            -0.000731        -0.001029   \n",
       "Yield_tons_per_hectare     0.764618             0.085565         0.442099   \n",
       "\n",
       "                        Irrigation_Used  Days_to_Harvest  \\\n",
       "Rainfall_mm                   -0.000568        -0.002669   \n",
       "Temperature_Celsius           -0.000484        -0.000731   \n",
       "Fertilizer_Used                0.001510        -0.001029   \n",
       "Irrigation_Used                1.000000        -0.001234   \n",
       "Days_to_Harvest               -0.001234         1.000000   \n",
       "Yield_tons_per_hectare         0.353741        -0.002591   \n",
       "\n",
       "                        Yield_tons_per_hectare  \n",
       "Rainfall_mm                           0.764618  \n",
       "Temperature_Celsius                   0.085565  \n",
       "Fertilizer_Used                       0.442099  \n",
       "Irrigation_Used                       0.353741  \n",
       "Days_to_Harvest                      -0.002591  \n",
       "Yield_tons_per_hectare                1.000000  "
      ]
     },
     "execution_count": 17,
     "metadata": {},
     "output_type": "execute_result"
    }
   ],
   "source": [
    "df.corr(numeric_only=True)"
   ]
  },
  {
   "cell_type": "code",
   "execution_count": 18,
   "id": "613e269c-8082-49b0-99d5-5f5c50d862d0",
   "metadata": {},
   "outputs": [
    {
     "data": {
      "text/plain": [
       "<Axes: >"
      ]
     },
     "execution_count": 18,
     "metadata": {},
     "output_type": "execute_result"
    },
    {
     "data": {
      "image/png": "[encoded data removed]",
      "text/plain": [
       "<Figure size 640x480 with 2 Axes>"
      ]
     },
     "metadata": {},
     "output_type": "display_data"
    }
   ],
   "source": [
    "sns.heatmap(df.corr(numeric_only=True),annot = True)"
   ]
  },
  {
   "cell_type": "markdown",
   "id": "3d116141-e65b-425a-ae64-77dca0cebadc",
   "metadata": {},
   "source": [
    "The correlation matrix shows that Rainfall_mm has the highest positive correlation with Yield_tons_per_hectare.\n",
    "\n",
    "Scatter plots help check if the relationship is linear or non-linear.\n",
    "\n",
    "Since Rainfall has the strongest impact, it is the best feature to visualize with Yield first."
   ]
  },
  {
   "cell_type": "code",
   "execution_count": 20,
   "id": "ca21e2c0-3381-4bb6-80f1-86ebc17d413d",
   "metadata": {},
   "outputs": [
    {
     "data": {
      "image/png": "[encoded data removed]",
      "text/plain": [
       "<Figure size 640x480 with 1 Axes>"
      ]
     },
     "metadata": {},
     "output_type": "display_data"
    }
   ],
   "source": [
    "bx = df.plot.scatter(x='Rainfall_mm', y='Yield_tons_per_hectare', title='Yield vs Rainfall')\n",
    "bx.set_xlabel('Rainfall (mm)')\n",
    "bx.set_ylabel('Yield (tons per hectare)')\n",
    "\n",
    "plt.show()"
   ]
  },
  {
   "cell_type": "code",
   "execution_count": 21,
   "id": "ec34396d-6c8b-48ac-bde6-3406b7b0c2dd",
   "metadata": {},
   "outputs": [
    {
     "data": {
      "image/png": "[encoded data removed]",
      "text/plain": [
       "<Figure size 1000x600 with 1 Axes>"
      ]
     },
     "metadata": {},
     "output_type": "display_data"
    }
   ],
   "source": [
    "plt.figure(figsize=(10, 6))\n",
    "ax = sns.boxplot(x='Fertilizer_Used', y='Yield_tons_per_hectare', data=df)\n",
    "ax.set_title('Yield by Fertilizer Usage')\n",
    "ax.set_xlabel('Fertilizer Used')\n",
    "ax.set_ylabel('Yield (tons per hectare)')\n",
    "\n",
    "plt.show()"
   ]
  },
  {
   "cell_type": "code",
   "execution_count": 22,
   "id": "28fd82b5-c3c8-44fe-a8e4-d147220c4c41",
   "metadata": {},
   "outputs": [
    {
     "name": "stdout",
     "output_type": "stream",
     "text": [
      "Outliers in Fertilizer_Used = False: 9 \n",
      "Outliers in Fertilizer_Used = True: 6 \n"
     ]
    }
   ],
   "source": [
    "# Group data by 'Fertilizer_Used'\n",
    "groups = df.groupby('Fertilizer_Used')\n",
    "\n",
    "outliers_count = {}\n",
    "\n",
    "for Fertilizer, group in groups:\n",
    "    Q1 = group['Yield_tons_per_hectare'].quantile(0.25)\n",
    "    Q3 = group['Yield_tons_per_hectare'].quantile(0.75)\n",
    "\n",
    "    # Calculate IQR\n",
    "    IQR = Q3 - Q1\n",
    "\n",
    "    lower_bound = Q1 - 1.5 * IQR\n",
    "    upper_bound = Q3 + 1.5 * IQR\n",
    "\n",
    "    # Find the outliers\n",
    "    outliers = group[(group['Yield_tons_per_hectare'] < lower_bound) | (group['Yield_tons_per_hectare'] > upper_bound)]\n",
    "\n",
    "    # Store the count of outliers for each group\n",
    "    outliers_count[Fertilizer] = outliers.shape[0]\n",
    "\n",
    "\n",
    "for Fertilizer, count in outliers_count.items():\n",
    "    print(f\"Outliers in Fertilizer_Used = {Fertilizer}: {count} \")"
   ]
  },
  {
   "cell_type": "code",
   "execution_count": 23,
   "id": "99db782a-4ce3-425b-bd9c-1810ec28d0fe",
   "metadata": {},
   "outputs": [
    {
     "data": {
      "image/png": "[encoded data removed]",
      "text/plain": [
       "<Figure size 1000x600 with 1 Axes>"
      ]
     },
     "metadata": {},
     "output_type": "display_data"
    }
   ],
   "source": [
    "plt.figure(figsize=(10, 6))\n",
    "ax = sns.boxplot(x='Irrigation_Used', y='Yield_tons_per_hectare', data=df)\n",
    "ax.set_title('Yield by Fertilizer Usage')\n",
    "ax.set_xlabel('Irrigation_Used')\n",
    "ax.set_ylabel('Yield (tons per hectare)')\n",
    "\n",
    "plt.show()"
   ]
  },
  {
   "cell_type": "code",
   "execution_count": 24,
   "id": "e847d2d7-291b-4335-beb1-52d71e99ea37",
   "metadata": {},
   "outputs": [
    {
     "name": "stdout",
     "output_type": "stream",
     "text": [
      "Outliers in Irrigation_Used = False: 14 \n",
      "Outliers in Irrigation_Used = True: 7 \n"
     ]
    }
   ],
   "source": [
    "# Group data by 'Irrigation_Used'\n",
    "groups = df.groupby('Irrigation_Used')\n",
    "\n",
    "outliers_count = {}\n",
    "\n",
    "\n",
    "for irrigation, group in groups:\n",
    "\n",
    "    Q1 = group['Yield_tons_per_hectare'].quantile(0.25)\n",
    "    Q3 = group['Yield_tons_per_hectare'].quantile(0.75)\n",
    "\n",
    "    IQR = Q3 - Q1\n",
    "\n",
    "    lower_bound = Q1 - 1.5 * IQR\n",
    "    upper_bound = Q3 + 1.5 * IQR\n",
    "\n",
    "    # Find the outliers\n",
    "    outliers = group[(group['Yield_tons_per_hectare'] < lower_bound) | (group['Yield_tons_per_hectare'] > upper_bound)]\n",
    "\n",
    "    # Store the count of outliers for each group\n",
    "    outliers_count[irrigation] = outliers.shape[0]\n",
    "\n",
    "for irrigation, count in outliers_count.items():\n",
    "    print(f\"Outliers in Irrigation_Used = {irrigation}: {count} \")"
   ]
  },
  {
   "cell_type": "markdown",
   "id": "9e62d12f-af8d-4981-95d6-f39956e89748",
   "metadata": {},
   "source": [
    "Z-score > 3 or Z-score < -3 indicates that the data point is far from the mean and likely an outlier."
   ]
  },
  {
   "cell_type": "code",
   "execution_count": 26,
   "id": "e76a9863-3f0e-42fd-8f1f-1d2ec1b20100",
   "metadata": {},
   "outputs": [],
   "source": [
    "# List of numerical columns\n",
    "num_cols = [\"Rainfall_mm\", \"Temperature_Celsius\", \"Days_to_Harvest\", \"Yield_tons_per_hectare\"]\n",
    "\n",
    "# Set Z-score threshold\n",
    "threshold = 3\n",
    "\n",
    "# Find and count outliers using Z-score\n",
    "outliers = {}\n",
    "\n",
    "for col in num_cols:\n",
    "    if col in df.columns:\n",
    "        mean = df[col].mean()\n",
    "        std = df[col].std()\n",
    "        z_scores = np.abs((df[col] - mean) / std)\n",
    "        # Find rows where |Z| > 3 (outliers)\n",
    "        outliers[col] = df[z_scores > threshold]"
   ]
  },
  {
   "cell_type": "code",
   "execution_count": 27,
   "id": "98ea8867-dc5b-436c-be17-e24f701ed239",
   "metadata": {},
   "outputs": [
    {
     "name": "stdout",
     "output_type": "stream",
     "text": [
      "\n",
      "Outliers in Rainfall_mm: 0 \n",
      "\n",
      "Outliers in Temperature_Celsius: 0 \n",
      "\n",
      "Outliers in Days_to_Harvest: 0 \n",
      "\n",
      "Outliers in Yield_tons_per_hectare: 37 \n"
     ]
    }
   ],
   "source": [
    "# Print number of outliers for each column\n",
    "for col, outlier_data in outliers.items():\n",
    "    print(f\"\\nOutliers in {col}: {outlier_data.shape[0]} \")"
   ]
  },
  {
   "cell_type": "code",
   "execution_count": 28,
   "id": "9db441fd-6674-4079-a78e-773c1d1b79b8",
   "metadata": {},
   "outputs": [],
   "source": [
    "df = df[z_scores <= threshold]"
   ]
  },
  {
   "cell_type": "code",
   "execution_count": 29,
   "id": "b9c99ee4-4ba2-436f-a3a6-f8fd4f0a3bfe",
   "metadata": {},
   "outputs": [
    {
     "data": {
      "text/plain": [
       "(999963, 10)"
      ]
     },
     "execution_count": 29,
     "metadata": {},
     "output_type": "execute_result"
    }
   ],
   "source": [
    "df.shape"
   ]
  },
  {
   "cell_type": "code",
   "execution_count": 30,
   "id": "f5813cf8-30b5-4d49-aa99-5b11cc67d14e",
   "metadata": {},
   "outputs": [
    {
     "data": {
      "image/png": "[encoded data removed]",
      "text/plain": [
       "<Figure size 640x480 with 1 Axes>"
      ]
     },
     "metadata": {},
     "output_type": "display_data"
    }
   ],
   "source": [
    "sns.kdeplot(df['Yield_tons_per_hectare'], fill=True)\n",
    "plt.title('Yield Distribution (Tons per Hectare)')\n",
    "plt.show()"
   ]
  },
  {
   "cell_type": "code",
   "execution_count": 31,
   "id": "44eb1a21-4870-4d0c-8e1b-9ac988fb801e",
   "metadata": {},
   "outputs": [
    {
     "data": {
      "text/html": [
       "<div>\n",
       "<style scoped>\n",
       "    .dataframe tbody tr th:only-of-type {\n",
       "        vertical-align: middle;\n",
       "    }\n",
       "\n",
       "    .dataframe tbody tr th {\n",
       "        vertical-align: top;\n",
       "    }\n",
       "\n",
       "    .dataframe thead th {\n",
       "        text-align: right;\n",
       "    }\n",
       "</style>\n",
       "<table border=\"1\" class=\"dataframe\">\n",
       "  <thead>\n",
       "    <tr style=\"text-align: right;\">\n",
       "      <th></th>\n",
       "      <th>Region</th>\n",
       "      <th>Soil_Type</th>\n",
       "      <th>Crop</th>\n",
       "      <th>Rainfall_mm</th>\n",
       "      <th>Temperature_Celsius</th>\n",
       "      <th>Fertilizer_Used</th>\n",
       "      <th>Irrigation_Used</th>\n",
       "      <th>Weather_Condition</th>\n",
       "      <th>Days_to_Harvest</th>\n",
       "      <th>Yield_tons_per_hectare</th>\n",
       "    </tr>\n",
       "  </thead>\n",
       "  <tbody>\n",
       "    <tr>\n",
       "      <th>0</th>\n",
       "      <td>West</td>\n",
       "      <td>Sandy</td>\n",
       "      <td>Cotton</td>\n",
       "      <td>897.077239</td>\n",
       "      <td>27.676966</td>\n",
       "      <td>False</td>\n",
       "      <td>True</td>\n",
       "      <td>Cloudy</td>\n",
       "      <td>122</td>\n",
       "      <td>6.555816</td>\n",
       "    </tr>\n",
       "    <tr>\n",
       "      <th>1</th>\n",
       "      <td>South</td>\n",
       "      <td>Clay</td>\n",
       "      <td>Rice</td>\n",
       "      <td>992.673282</td>\n",
       "      <td>18.026142</td>\n",
       "      <td>True</td>\n",
       "      <td>True</td>\n",
       "      <td>Rainy</td>\n",
       "      <td>140</td>\n",
       "      <td>8.527341</td>\n",
       "    </tr>\n",
       "    <tr>\n",
       "      <th>2</th>\n",
       "      <td>North</td>\n",
       "      <td>Loam</td>\n",
       "      <td>Barley</td>\n",
       "      <td>147.998025</td>\n",
       "      <td>29.794042</td>\n",
       "      <td>False</td>\n",
       "      <td>False</td>\n",
       "      <td>Sunny</td>\n",
       "      <td>106</td>\n",
       "      <td>1.127443</td>\n",
       "    </tr>\n",
       "    <tr>\n",
       "      <th>3</th>\n",
       "      <td>North</td>\n",
       "      <td>Sandy</td>\n",
       "      <td>Soybean</td>\n",
       "      <td>986.866331</td>\n",
       "      <td>16.644190</td>\n",
       "      <td>False</td>\n",
       "      <td>True</td>\n",
       "      <td>Rainy</td>\n",
       "      <td>146</td>\n",
       "      <td>6.517573</td>\n",
       "    </tr>\n",
       "    <tr>\n",
       "      <th>4</th>\n",
       "      <td>South</td>\n",
       "      <td>Silt</td>\n",
       "      <td>Wheat</td>\n",
       "      <td>730.379174</td>\n",
       "      <td>31.620687</td>\n",
       "      <td>True</td>\n",
       "      <td>True</td>\n",
       "      <td>Cloudy</td>\n",
       "      <td>110</td>\n",
       "      <td>7.248251</td>\n",
       "    </tr>\n",
       "  </tbody>\n",
       "</table>\n",
       "</div>"
      ],
      "text/plain": [
       "  Region Soil_Type     Crop  Rainfall_mm  Temperature_Celsius  \\\n",
       "0   West     Sandy   Cotton   897.077239            27.676966   \n",
       "1  South      Clay     Rice   992.673282            18.026142   \n",
       "2  North      Loam   Barley   147.998025            29.794042   \n",
       "3  North     Sandy  Soybean   986.866331            16.644190   \n",
       "4  South      Silt    Wheat   730.379174            31.620687   \n",
       "\n",
       "   Fertilizer_Used  Irrigation_Used Weather_Condition  Days_to_Harvest  \\\n",
       "0            False             True            Cloudy              122   \n",
       "1             True             True             Rainy              140   \n",
       "2            False            False             Sunny              106   \n",
       "3            False             True             Rainy              146   \n",
       "4             True             True            Cloudy              110   \n",
       "\n",
       "   Yield_tons_per_hectare  \n",
       "0                6.555816  \n",
       "1                8.527341  \n",
       "2                1.127443  \n",
       "3                6.517573  \n",
       "4                7.248251  "
      ]
     },
     "execution_count": 31,
     "metadata": {},
     "output_type": "execute_result"
    }
   ],
   "source": [
    "df.head()"
   ]
  },
  {
   "cell_type": "markdown",
   "id": "329d3c64-6cd3-4114-bfc4-be58cc522211",
   "metadata": {},
   "source": [
    "#  Data Preprocessing"
   ]
  },
  {
   "cell_type": "code",
   "execution_count": 33,
   "id": "4f1351f2-093a-4f8c-b722-842830a2edef",
   "metadata": {},
   "outputs": [],
   "source": [
    "X = df.drop('Yield_tons_per_hectare',axis=1)\n",
    "y = df.loc[:,'Yield_tons_per_hectare']"
   ]
  },
  {
   "cell_type": "code",
   "execution_count": 34,
   "id": "76714913-b156-4261-9bb5-9110c651d6ff",
   "metadata": {},
   "outputs": [
    {
     "data": {
      "text/plain": [
       "((999963, 9), (999963,))"
      ]
     },
     "execution_count": 34,
     "metadata": {},
     "output_type": "execute_result"
    }
   ],
   "source": [
    "X.shape,y.shape"
   ]
  },
  {
   "cell_type": "markdown",
   "id": "db963748-8da2-4bbf-ba44-1d5495dc3c24",
   "metadata": {},
   "source": [
    "#  Encoding the categorical data\n",
    "Most ML algorithms handle Boolean values as 0 and 1 internally ,so there is no need to do encoding for boolean column"
   ]
  },
  {
   "cell_type": "code",
   "execution_count": 36,
   "id": "e034d0a2-b8b8-4f3b-829f-a53aede58e30",
   "metadata": {},
   "outputs": [],
   "source": [
    "# label_map = {'Fertilizer_Used': {False: 0, True: 1}, 'Irrigation_Used': {False: 0, True: 1}}\n",
    "# X.replace(label_map, inplace=True)\n",
    "# X.head()"
   ]
  },
  {
   "cell_type": "markdown",
   "id": "04bc2393-108b-4f57-a45d-1ab83dadce55",
   "metadata": {},
   "source": [
    "If using tree-based models (Random Forest, XGBoost), multicollinearity is not a problem, so you can keep all categories,so drop_first=False\n",
    "\n",
    "But The dummy variable trap happens when all categories of a categorical variable are included in a regression model, creating perfect multicollinearity so drop_first=True"
   ]
  },
  {
   "cell_type": "code",
   "execution_count": 38,
   "id": "8f524bdb-509b-4a65-894a-ef19284cfd57",
   "metadata": {},
   "outputs": [],
   "source": [
    "X_ohe= pd.get_dummies(X,columns=['Region','Soil_Type','Crop','Weather_Condition'],drop_first=True)"
   ]
  },
  {
   "cell_type": "code",
   "execution_count": 39,
   "id": "1beef259-a2aa-45cb-8701-be6ec3c63855",
   "metadata": {},
   "outputs": [
    {
     "data": {
      "text/plain": [
       "(999963, 20)"
      ]
     },
     "execution_count": 39,
     "metadata": {},
     "output_type": "execute_result"
    }
   ],
   "source": [
    "X_ohe.shape"
   ]
  },
  {
   "cell_type": "code",
   "execution_count": 40,
   "id": "79d83823-21b6-43cc-bb58-7f0ccd4218d7",
   "metadata": {},
   "outputs": [
    {
     "data": {
      "text/html": [
       "<div>\n",
       "<style scoped>\n",
       "    .dataframe tbody tr th:only-of-type {\n",
       "        vertical-align: middle;\n",
       "    }\n",
       "\n",
       "    .dataframe tbody tr th {\n",
       "        vertical-align: top;\n",
       "    }\n",
       "\n",
       "    .dataframe thead th {\n",
       "        text-align: right;\n",
       "    }\n",
       "</style>\n",
       "<table border=\"1\" class=\"dataframe\">\n",
       "  <thead>\n",
       "    <tr style=\"text-align: right;\">\n",
       "      <th></th>\n",
       "      <th>Rainfall_mm</th>\n",
       "      <th>Temperature_Celsius</th>\n",
       "      <th>Fertilizer_Used</th>\n",
       "      <th>Irrigation_Used</th>\n",
       "      <th>Days_to_Harvest</th>\n",
       "      <th>Region_North</th>\n",
       "      <th>Region_South</th>\n",
       "      <th>Region_West</th>\n",
       "      <th>Soil_Type_Clay</th>\n",
       "      <th>Soil_Type_Loam</th>\n",
       "      <th>Soil_Type_Peaty</th>\n",
       "      <th>Soil_Type_Sandy</th>\n",
       "      <th>Soil_Type_Silt</th>\n",
       "      <th>Crop_Cotton</th>\n",
       "      <th>Crop_Maize</th>\n",
       "      <th>Crop_Rice</th>\n",
       "      <th>Crop_Soybean</th>\n",
       "      <th>Crop_Wheat</th>\n",
       "      <th>Weather_Condition_Rainy</th>\n",
       "      <th>Weather_Condition_Sunny</th>\n",
       "    </tr>\n",
       "  </thead>\n",
       "  <tbody>\n",
       "    <tr>\n",
       "      <th>0</th>\n",
       "      <td>897.077239</td>\n",
       "      <td>27.676966</td>\n",
       "      <td>False</td>\n",
       "      <td>True</td>\n",
       "      <td>122</td>\n",
       "      <td>False</td>\n",
       "      <td>False</td>\n",
       "      <td>True</td>\n",
       "      <td>False</td>\n",
       "      <td>False</td>\n",
       "      <td>False</td>\n",
       "      <td>True</td>\n",
       "      <td>False</td>\n",
       "      <td>True</td>\n",
       "      <td>False</td>\n",
       "      <td>False</td>\n",
       "      <td>False</td>\n",
       "      <td>False</td>\n",
       "      <td>False</td>\n",
       "      <td>False</td>\n",
       "    </tr>\n",
       "    <tr>\n",
       "      <th>1</th>\n",
       "      <td>992.673282</td>\n",
       "      <td>18.026142</td>\n",
       "      <td>True</td>\n",
       "      <td>True</td>\n",
       "      <td>140</td>\n",
       "      <td>False</td>\n",
       "      <td>True</td>\n",
       "      <td>False</td>\n",
       "      <td>True</td>\n",
       "      <td>False</td>\n",
       "      <td>False</td>\n",
       "      <td>False</td>\n",
       "      <td>False</td>\n",
       "      <td>False</td>\n",
       "      <td>False</td>\n",
       "      <td>True</td>\n",
       "      <td>False</td>\n",
       "      <td>False</td>\n",
       "      <td>True</td>\n",
       "      <td>False</td>\n",
       "    </tr>\n",
       "    <tr>\n",
       "      <th>2</th>\n",
       "      <td>147.998025</td>\n",
       "      <td>29.794042</td>\n",
       "      <td>False</td>\n",
       "      <td>False</td>\n",
       "      <td>106</td>\n",
       "      <td>True</td>\n",
       "      <td>False</td>\n",
       "      <td>False</td>\n",
       "      <td>False</td>\n",
       "      <td>True</td>\n",
       "      <td>False</td>\n",
       "      <td>False</td>\n",
       "      <td>False</td>\n",
       "      <td>False</td>\n",
       "      <td>False</td>\n",
       "      <td>False</td>\n",
       "      <td>False</td>\n",
       "      <td>False</td>\n",
       "      <td>False</td>\n",
       "      <td>True</td>\n",
       "    </tr>\n",
       "    <tr>\n",
       "      <th>3</th>\n",
       "      <td>986.866331</td>\n",
       "      <td>16.644190</td>\n",
       "      <td>False</td>\n",
       "      <td>True</td>\n",
       "      <td>146</td>\n",
       "      <td>True</td>\n",
       "      <td>False</td>\n",
       "      <td>False</td>\n",
       "      <td>False</td>\n",
       "      <td>False</td>\n",
       "      <td>False</td>\n",
       "      <td>True</td>\n",
       "      <td>False</td>\n",
       "      <td>False</td>\n",
       "      <td>False</td>\n",
       "      <td>False</td>\n",
       "      <td>True</td>\n",
       "      <td>False</td>\n",
       "      <td>True</td>\n",
       "      <td>False</td>\n",
       "    </tr>\n",
       "    <tr>\n",
       "      <th>4</th>\n",
       "      <td>730.379174</td>\n",
       "      <td>31.620687</td>\n",
       "      <td>True</td>\n",
       "      <td>True</td>\n",
       "      <td>110</td>\n",
       "      <td>False</td>\n",
       "      <td>True</td>\n",
       "      <td>False</td>\n",
       "      <td>False</td>\n",
       "      <td>False</td>\n",
       "      <td>False</td>\n",
       "      <td>False</td>\n",
       "      <td>True</td>\n",
       "      <td>False</td>\n",
       "      <td>False</td>\n",
       "      <td>False</td>\n",
       "      <td>False</td>\n",
       "      <td>True</td>\n",
       "      <td>False</td>\n",
       "      <td>False</td>\n",
       "    </tr>\n",
       "  </tbody>\n",
       "</table>\n",
       "</div>"
      ],
      "text/plain": [
       "   Rainfall_mm  Temperature_Celsius  Fertilizer_Used  Irrigation_Used  \\\n",
       "0   897.077239            27.676966            False             True   \n",
       "1   992.673282            18.026142             True             True   \n",
       "2   147.998025            29.794042            False            False   \n",
       "3   986.866331            16.644190            False             True   \n",
       "4   730.379174            31.620687             True             True   \n",
       "\n",
       "   Days_to_Harvest  Region_North  Region_South  Region_West  Soil_Type_Clay  \\\n",
       "0              122         False         False         True           False   \n",
       "1              140         False          True        False            True   \n",
       "2              106          True         False        False           False   \n",
       "3              146          True         False        False           False   \n",
       "4              110         False          True        False           False   \n",
       "\n",
       "   Soil_Type_Loam  Soil_Type_Peaty  Soil_Type_Sandy  Soil_Type_Silt  \\\n",
       "0           False            False             True           False   \n",
       "1           False            False            False           False   \n",
       "2            True            False            False           False   \n",
       "3           False            False             True           False   \n",
       "4           False            False            False            True   \n",
       "\n",
       "   Crop_Cotton  Crop_Maize  Crop_Rice  Crop_Soybean  Crop_Wheat  \\\n",
       "0         True       False      False         False       False   \n",
       "1        False       False       True         False       False   \n",
       "2        False       False      False         False       False   \n",
       "3        False       False      False          True       False   \n",
       "4        False       False      False         False        True   \n",
       "\n",
       "   Weather_Condition_Rainy  Weather_Condition_Sunny  \n",
       "0                    False                    False  \n",
       "1                     True                    False  \n",
       "2                    False                     True  \n",
       "3                     True                    False  \n",
       "4                    False                    False  "
      ]
     },
     "execution_count": 40,
     "metadata": {},
     "output_type": "execute_result"
    }
   ],
   "source": [
    "X_ohe.head(5)"
   ]
  },
  {
   "cell_type": "code",
   "execution_count": 41,
   "id": "c7c57d15-0bf2-41cd-bca3-5e9461953b20",
   "metadata": {},
   "outputs": [
    {
     "data": {
      "text/plain": [
       "Rainfall_mm                float64\n",
       "Temperature_Celsius        float64\n",
       "Fertilizer_Used               bool\n",
       "Irrigation_Used               bool\n",
       "Days_to_Harvest              int64\n",
       "Region_North                  bool\n",
       "Region_South                  bool\n",
       "Region_West                   bool\n",
       "Soil_Type_Clay                bool\n",
       "Soil_Type_Loam                bool\n",
       "Soil_Type_Peaty               bool\n",
       "Soil_Type_Sandy               bool\n",
       "Soil_Type_Silt                bool\n",
       "Crop_Cotton                   bool\n",
       "Crop_Maize                    bool\n",
       "Crop_Rice                     bool\n",
       "Crop_Soybean                  bool\n",
       "Crop_Wheat                    bool\n",
       "Weather_Condition_Rainy       bool\n",
       "Weather_Condition_Sunny       bool\n",
       "dtype: object"
      ]
     },
     "execution_count": 41,
     "metadata": {},
     "output_type": "execute_result"
    }
   ],
   "source": [
    "X_ohe.dtypes"
   ]
  },
  {
   "cell_type": "markdown",
   "id": "2e806abf-b023-432b-814f-e0027ebb4a4f",
   "metadata": {},
   "source": [
    "Splitting the dataset into the Training set and Test set"
   ]
  },
  {
   "cell_type": "code",
   "execution_count": 43,
   "id": "7f7fa082-2afd-46fc-8eb5-6d0564a06e0c",
   "metadata": {},
   "outputs": [],
   "source": [
    "#x_ohe_std = (X - X.mean()) / X.std()"
   ]
  },
  {
   "cell_type": "code",
   "execution_count": 44,
   "id": "37e5af22-6698-4a1c-8080-1079431befb4",
   "metadata": {},
   "outputs": [],
   "source": [
    "from sklearn.model_selection import train_test_split\n",
    "X_train, X_test, y_train, y_test = train_test_split(X_ohe, y, test_size = 0.2, random_state = 42)"
   ]
  },
  {
   "cell_type": "code",
   "execution_count": 45,
   "id": "49da2215-5e05-4a1c-bff2-c99ab6a5b64a",
   "metadata": {},
   "outputs": [
    {
     "data": {
      "text/plain": [
       "((799970, 20), (799970,), (199993, 20), (199993,))"
      ]
     },
     "execution_count": 45,
     "metadata": {},
     "output_type": "execute_result"
    }
   ],
   "source": [
    "X_train.shape,y_train.shape,X_test.shape,y_test.shape"
   ]
  },
  {
   "cell_type": "markdown",
   "id": "d97eaffd-e2a6-4ff6-846b-7182cdcad4bb",
   "metadata": {},
   "source": [
    "#   We are planning to apply\n",
    "Linear Regression\n",
    "\n",
    "Random Forest\n",
    "\n",
    "Gradient Boosting\n",
    "\n",
    "Neural Networks\n",
    "\n",
    "#  Linear Regression\n",
    "Linear Regression is one of the simplest and most widely used machine learning algorithms for regression tasks. It is used to model the relationship between a dependent (target) variable and one or more independent (predictor) variables by fitting a linear equation to observed data"
   ]
  },
  {
   "cell_type": "code",
   "execution_count": 47,
   "id": "1ca9f547-94da-4a9b-bbf7-4833cb6e4d45",
   "metadata": {},
   "outputs": [],
   "source": [
    "from sklearn.metrics import mean_absolute_error,\\\n",
    "mean_squared_error, r2_score"
   ]
  },
  {
   "cell_type": "code",
   "execution_count": 48,
   "id": "c6aa3520-ff45-434c-8bb4-e2e172648510",
   "metadata": {},
   "outputs": [
    {
     "name": "stdout",
     "output_type": "stream",
     "text": [
      "Degree 1, Mean R²: 0.9128750016266706\n",
      "Degree 2, Mean R²: 0.9128598692941475\n"
     ]
    }
   ],
   "source": [
    "from sklearn.model_selection import cross_val_score\n",
    "from sklearn.preprocessing import PolynomialFeatures\n",
    "from sklearn.pipeline import make_pipeline\n",
    "from sklearn.linear_model import LinearRegression\n",
    "\n",
    "for d in range(1, 3):  # Try different degrees\n",
    "    model = make_pipeline(PolynomialFeatures(degree=d), LinearRegression())\n",
    "    scores = cross_val_score(model, X_train, y_train, cv=5, scoring='r2')\n",
    "\n",
    "    print(f\"Degree {d}, Mean R²: {scores.mean()}\")"
   ]
  },
  {
   "cell_type": "code",
   "execution_count": 49,
   "id": "193f5170-cb30-48bc-b413-c0dc0ac4cfc5",
   "metadata": {},
   "outputs": [],
   "source": [
    "best_degree = 2\n",
    "lr = make_pipeline(PolynomialFeatures(degree=best_degree), LinearRegression())\n",
    "lr.fit(X_train, y_train)\n",
    "y_test_pred = lr.predict(X_test)"
   ]
  },
  {
   "cell_type": "code",
   "execution_count": 50,
   "id": "a0d87137-58fe-4871-9951-4338f6eed870",
   "metadata": {},
   "outputs": [
    {
     "name": "stdout",
     "output_type": "stream",
     "text": [
      "Testing MAE: 0.39848644943390976\n",
      "Testing MSE: 0.24927944149799997\n",
      "Testing R²: 0.9133823623728715\n"
     ]
    }
   ],
   "source": [
    "test_mae=mean_absolute_error( y_test, y_test_pred)\n",
    "print(f\"Testing MAE: {test_mae}\")\n",
    "test_mse=mean_squared_error( y_test, y_test_pred)\n",
    "print(f\"Testing MSE: {test_mse}\")\n",
    "test_r2 = r2_score(y_test, y_test_pred)\n",
    "print(f\"Testing R²: {test_r2}\")"
   ]
  },
  {
   "cell_type": "markdown",
   "id": "4d631525-2161-4aaf-95b0-631cb2275e8a",
   "metadata": {},
   "source": [
    "#  Ridge\n",
    "Ridge Regression is a type of linear regression that includes L2 regularization to address multicollinearity and prevent overfitting by adding a penalty to the size of the coefficients. It is particularly useful when the model has many features or the dataset is highly prone to overfitting."
   ]
  },
  {
   "cell_type": "code",
   "execution_count": 52,
   "id": "e6b0455d-802f-4637-94ba-5abdba3bdb38",
   "metadata": {},
   "outputs": [
    {
     "name": "stdout",
     "output_type": "stream",
     "text": [
      "Fitting 2 folds for each of 9 candidates, totalling 18 fits\n",
      "[CV] END ............................alpha=0.01, max_iter=20; total time=   0.2s\n",
      "[CV] END ............................alpha=0.01, max_iter=20; total time=   0.1s\n",
      "[CV] END ............................alpha=0.01, max_iter=50; total time=   0.2s\n",
      "[CV] END ............................alpha=0.01, max_iter=50; total time=   0.2s\n",
      "[CV] END ..........................alpha=0.01, max_iter=2000; total time=   0.2s\n",
      "[CV] END ..........................alpha=0.01, max_iter=2000; total time=   0.2s\n",
      "[CV] END .............................alpha=0.1, max_iter=20; total time=   0.2s\n",
      "[CV] END .............................alpha=0.1, max_iter=20; total time=   0.2s\n",
      "[CV] END .............................alpha=0.1, max_iter=50; total time=   0.1s\n",
      "[CV] END .............................alpha=0.1, max_iter=50; total time=   0.1s\n",
      "[CV] END ...........................alpha=0.1, max_iter=2000; total time=   0.1s\n",
      "[CV] END ...........................alpha=0.1, max_iter=2000; total time=   0.1s\n",
      "[CV] END .............................alpha=0.2, max_iter=20; total time=   0.1s\n",
      "[CV] END .............................alpha=0.2, max_iter=20; total time=   0.1s\n",
      "[CV] END .............................alpha=0.2, max_iter=50; total time=   0.1s\n",
      "[CV] END .............................alpha=0.2, max_iter=50; total time=   0.1s\n",
      "[CV] END ...........................alpha=0.2, max_iter=2000; total time=   0.1s\n",
      "[CV] END ...........................alpha=0.2, max_iter=2000; total time=   0.1s\n",
      "0.9128749961024706\n",
      "{'alpha': 0.2, 'max_iter': 20}\n"
     ]
    }
   ],
   "source": [
    "from sklearn.linear_model import Ridge\n",
    "from sklearn.model_selection import GridSearchCV\n",
    "param_grid={\n",
    "    \"alpha\" : [0.01,0.1,0.2],\n",
    "    \"max_iter\" : [20, 50, 2000]\n",
    "}\n",
    "gscv = GridSearchCV(Ridge(random_state=7), param_grid, cv=2, verbose=2)\n",
    "gscv.fit(X_train,y_train)\n",
    "print(gscv.best_score_)\n",
    "print(gscv.best_params_)"
   ]
  },
  {
   "cell_type": "code",
   "execution_count": 53,
   "id": "8da9b95a-affc-4749-8c0d-54cedeaee5e4",
   "metadata": {},
   "outputs": [
    {
     "name": "stderr",
     "output_type": "stream",
     "text": [
      "P:\\Users\\Lenovo\\anaconda3\\Lib\\site-packages\\sklearn\\linear_model\\_ridge.py:215: LinAlgWarning: Ill-conditioned matrix (rcond=2.61865e-18): result may not be accurate.\n",
      "  return linalg.solve(A, Xy, assume_a=\"pos\", overwrite_a=True).T\n"
     ]
    }
   ],
   "source": [
    "best_degree = 2\n",
    "ridge = make_pipeline(PolynomialFeatures(degree=best_degree),Ridge(alpha= 0.2 , max_iter = 20, random_state = 7))\n",
    "ridge.fit(X_train, y_train)\n",
    "y_pred = ridge.predict(X_test)"
   ]
  },
  {
   "cell_type": "code",
   "execution_count": 54,
   "id": "3c0867cc-78c4-46e7-badc-96d8e6f1e6fb",
   "metadata": {},
   "outputs": [
    {
     "name": "stdout",
     "output_type": "stream",
     "text": [
      "Testing MAE: 0.39848645848956754\n",
      "Testing MSE: 0.249279443512216\n",
      "Testing R²: 0.9133823616729877\n"
     ]
    }
   ],
   "source": [
    "test_mae=mean_absolute_error( y_test, y_pred)\n",
    "print(f\"Testing MAE: {test_mae}\")\n",
    "test_mse=mean_squared_error( y_test, y_pred)\n",
    "print(f\"Testing MSE: {test_mse}\")\n",
    "test_r2 = r2_score(y_test, y_pred)\n",
    "print(f\"Testing R²: {test_r2}\")"
   ]
  },
  {
   "cell_type": "markdown",
   "id": "7f90d390-010b-48fb-813e-0b8e0af16086",
   "metadata": {},
   "source": [
    "#  Lasso\n",
    "The Lasso (Least Absolute Shrinkage and Selection Operator) regression model is a type of linear regression that applies L1 regularization\n",
    "\n",
    "Lasso adds a penalty to the linear regression cost function, which is the sum of squared residuals (errors) between predicted and actual values. The penalty is proportional to the absolute value of the coefficients, and it shrinks the less important feature coefficients to zero, effectively removing some features from the model"
   ]
  },
  {
   "cell_type": "code",
   "execution_count": 56,
   "id": "9afd6ec7-9444-418f-8031-070e99793ba3",
   "metadata": {},
   "outputs": [
    {
     "name": "stdout",
     "output_type": "stream",
     "text": [
      "Fitting 2 folds for each of 9 candidates, totalling 18 fits\n",
      "[CV] END ............................alpha=0.01, max_iter=20; total time=   0.4s\n",
      "[CV] END ............................alpha=0.01, max_iter=20; total time=   0.4s\n",
      "[CV] END ............................alpha=0.01, max_iter=50; total time=   0.4s\n",
      "[CV] END ............................alpha=0.01, max_iter=50; total time=   0.3s\n",
      "[CV] END ..........................alpha=0.01, max_iter=2000; total time=   0.4s\n",
      "[CV] END ..........................alpha=0.01, max_iter=2000; total time=   0.3s\n",
      "[CV] END .............................alpha=0.1, max_iter=20; total time=   0.3s\n",
      "[CV] END .............................alpha=0.1, max_iter=20; total time=   0.3s\n",
      "[CV] END .............................alpha=0.1, max_iter=50; total time=   0.3s\n",
      "[CV] END .............................alpha=0.1, max_iter=50; total time=   0.4s\n",
      "[CV] END ...........................alpha=0.1, max_iter=2000; total time=   0.3s\n",
      "[CV] END ...........................alpha=0.1, max_iter=2000; total time=   0.4s\n",
      "[CV] END .............................alpha=0.2, max_iter=20; total time=   0.3s\n",
      "[CV] END .............................alpha=0.2, max_iter=20; total time=   0.3s\n",
      "[CV] END .............................alpha=0.2, max_iter=50; total time=   0.3s\n",
      "[CV] END .............................alpha=0.2, max_iter=50; total time=   0.3s\n",
      "[CV] END ...........................alpha=0.2, max_iter=2000; total time=   0.3s\n",
      "[CV] END ...........................alpha=0.2, max_iter=2000; total time=   0.3s\n",
      "0.9125989502053894\n",
      "{'alpha': 0.01, 'max_iter': 20}\n"
     ]
    }
   ],
   "source": [
    "from sklearn.linear_model import Lasso\n",
    "gscv = GridSearchCV(Lasso(random_state=7), param_grid, cv=2, verbose=2)\n",
    "gscv.fit(X_train,y_train)\n",
    "print(gscv.best_score_)\n",
    "print(gscv.best_params_)"
   ]
  },
  {
   "cell_type": "code",
   "execution_count": 57,
   "id": "a3a35223-9327-4332-a0f6-795dd89515b4",
   "metadata": {},
   "outputs": [
    {
     "name": "stderr",
     "output_type": "stream",
     "text": [
      "P:\\Users\\Lenovo\\anaconda3\\Lib\\site-packages\\sklearn\\linear_model\\_coordinate_descent.py:695: ConvergenceWarning: Objective did not converge. You might want to increase the number of iterations, check the scale of the features or consider increasing regularisation. Duality gap: 1.142e+05, tolerance: 2.302e+02\n",
      "  model = cd_fast.enet_coordinate_descent(\n"
     ]
    }
   ],
   "source": [
    "best_degree = 2\n",
    "lasso = make_pipeline(PolynomialFeatures(degree=best_degree),Lasso(alpha= 0.01 , max_iter = 20, random_state = 7))\n",
    "lasso.fit(X_train, y_train)\n",
    "y_pred = lasso.predict(X_test)"
   ]
  },
  {
   "cell_type": "code",
   "execution_count": 58,
   "id": "201edbb5-9d33-4b11-b1f7-91e502d4fa22",
   "metadata": {},
   "outputs": [
    {
     "name": "stdout",
     "output_type": "stream",
     "text": [
      "Testing MAE: 0.4053791252175813\n",
      "Testing MSE: 0.2579362489771202\n",
      "Testing R²: 0.9103743637640481\n"
     ]
    }
   ],
   "source": [
    "test_mae=mean_absolute_error( y_test, y_pred)\n",
    "print(f\"Testing MAE: {test_mae}\")\n",
    "test_mse=mean_squared_error( y_test, y_pred)\n",
    "print(f\"Testing MSE: {test_mse}\")\n",
    "test_r2 = r2_score(y_test, y_pred)\n",
    "print(f\"Testing R²: {test_r2}\")"
   ]
  },
  {
   "cell_type": "raw",
   "id": "ce547c75-37f9-4e08-aa18-6e5b4d85cdc7",
   "metadata": {},
   "source": [
    "#  Ensemble Technique\n",
    "#  Random Forest\n",
    "Random Forest Regressor, which is an ensemble learning method based on multiple decision trees. The algorithm combines several decision trees to improve prediction accuracy and reduce overfitting."
   ]
  },
  {
   "cell_type": "code",
   "execution_count": 59,
   "id": "ac69890e-fa1f-4ea3-bd80-46941bcb2213",
   "metadata": {},
   "outputs": [
    {
     "data": {
      "text/html": [
       "<style>#sk-container-id-1 {\n",
       "  /* Definition of color scheme common for light and dark mode */\n",
       "  --sklearn-color-text: #000;\n",
       "  --sklearn-color-text-muted: #666;\n",
       "  --sklearn-color-line: gray;\n",
       "  /* Definition of color scheme for unfitted estimators */\n",
       "  --sklearn-color-unfitted-level-0: #fff5e6;\n",
       "  --sklearn-color-unfitted-level-1: #f6e4d2;\n",
       "  --sklearn-color-unfitted-level-2: #ffe0b3;\n",
       "  --sklearn-color-unfitted-level-3: chocolate;\n",
       "  /* Definition of color scheme for fitted estimators */\n",
       "  --sklearn-color-fitted-level-0: #f0f8ff;\n",
       "  --sklearn-color-fitted-level-1: #d4ebff;\n",
       "  --sklearn-color-fitted-level-2: #b3dbfd;\n",
       "  --sklearn-color-fitted-level-3: cornflowerblue;\n",
       "\n",
       "  /* Specific color for light theme */\n",
       "  --sklearn-color-text-on-default-background: var(--sg-text-color, var(--theme-code-foreground, var(--jp-content-font-color1, black)));\n",
       "  --sklearn-color-background: var(--sg-background-color, var(--theme-background, var(--jp-layout-color0, white)));\n",
       "  --sklearn-color-border-box: var(--sg-text-color, var(--theme-code-foreground, var(--jp-content-font-color1, black)));\n",
       "  --sklearn-color-icon: #696969;\n",
       "\n",
       "  @media (prefers-color-scheme: dark) {\n",
       "    /* Redefinition of color scheme for dark theme */\n",
       "    --sklearn-color-text-on-default-background: var(--sg-text-color, var(--theme-code-foreground, var(--jp-content-font-color1, white)));\n",
       "    --sklearn-color-background: var(--sg-background-color, var(--theme-background, var(--jp-layout-color0, #111)));\n",
       "    --sklearn-color-border-box: var(--sg-text-color, var(--theme-code-foreground, var(--jp-content-font-color1, white)));\n",
       "    --sklearn-color-icon: #878787;\n",
       "  }\n",
       "}\n",
       "\n",
       "#sk-container-id-1 {\n",
       "  color: var(--sklearn-color-text);\n",
       "}\n",
       "\n",
       "#sk-container-id-1 pre {\n",
       "  padding: 0;\n",
       "}\n",
       "\n",
       "#sk-container-id-1 input.sk-hidden--visually {\n",
       "  border: 0;\n",
       "  clip: rect(1px 1px 1px 1px);\n",
       "  clip: rect(1px, 1px, 1px, 1px);\n",
       "  height: 1px;\n",
       "  margin: -1px;\n",
       "  overflow: hidden;\n",
       "  padding: 0;\n",
       "  position: absolute;\n",
       "  width: 1px;\n",
       "}\n",
       "\n",
       "#sk-container-id-1 div.sk-dashed-wrapped {\n",
       "  border: 1px dashed var(--sklearn-color-line);\n",
       "  margin: 0 0.4em 0.5em 0.4em;\n",
       "  box-sizing: border-box;\n",
       "  padding-bottom: 0.4em;\n",
       "  background-color: var(--sklearn-color-background);\n",
       "}\n",
       "\n",
       "#sk-container-id-1 div.sk-container {\n",
       "  /* jupyter's `normalize.less` sets `[hidden] { display: none; }`\n",
       "     but bootstrap.min.css set `[hidden] { display: none !important; }`\n",
       "     so we also need the `!important` here to be able to override the\n",
       "     default hidden behavior on the sphinx rendered scikit-learn.org.\n",
       "     See: https://github.com/scikit-learn/scikit-learn/issues/21755 */\n",
       "  display: inline-block !important;\n",
       "  position: relative;\n",
       "}\n",
       "\n",
       "#sk-container-id-1 div.sk-text-repr-fallback {\n",
       "  display: none;\n",
       "}\n",
       "\n",
       "div.sk-parallel-item,\n",
       "div.sk-serial,\n",
       "div.sk-item {\n",
       "  /* draw centered vertical line to link estimators */\n",
       "  background-image: linear-gradient(var(--sklearn-color-text-on-default-background), var(--sklearn-color-text-on-default-background));\n",
       "  background-size: 2px 100%;\n",
       "  background-repeat: no-repeat;\n",
       "  background-position: center center;\n",
       "}\n",
       "\n",
       "/* Parallel-specific style estimator block */\n",
       "\n",
       "#sk-container-id-1 div.sk-parallel-item::after {\n",
       "  content: \"\";\n",
       "  width: 100%;\n",
       "  border-bottom: 2px solid var(--sklearn-color-text-on-default-background);\n",
       "  flex-grow: 1;\n",
       "}\n",
       "\n",
       "#sk-container-id-1 div.sk-parallel {\n",
       "  display: flex;\n",
       "  align-items: stretch;\n",
       "  justify-content: center;\n",
       "  background-color: var(--sklearn-color-background);\n",
       "  position: relative;\n",
       "}\n",
       "\n",
       "#sk-container-id-1 div.sk-parallel-item {\n",
       "  display: flex;\n",
       "  flex-direction: column;\n",
       "}\n",
       "\n",
       "#sk-container-id-1 div.sk-parallel-item:first-child::after {\n",
       "  align-self: flex-end;\n",
       "  width: 50%;\n",
       "}\n",
       "\n",
       "#sk-container-id-1 div.sk-parallel-item:last-child::after {\n",
       "  align-self: flex-start;\n",
       "  width: 50%;\n",
       "}\n",
       "\n",
       "#sk-container-id-1 div.sk-parallel-item:only-child::after {\n",
       "  width: 0;\n",
       "}\n",
       "\n",
       "/* Serial-specific style estimator block */\n",
       "\n",
       "#sk-container-id-1 div.sk-serial {\n",
       "  display: flex;\n",
       "  flex-direction: column;\n",
       "  align-items: center;\n",
       "  background-color: var(--sklearn-color-background);\n",
       "  padding-right: 1em;\n",
       "  padding-left: 1em;\n",
       "}\n",
       "\n",
       "\n",
       "/* Toggleable style: style used for estimator/Pipeline/ColumnTransformer box that is\n",
       "clickable and can be expanded/collapsed.\n",
       "- Pipeline and ColumnTransformer use this feature and define the default style\n",
       "- Estimators will overwrite some part of the style using the `sk-estimator` class\n",
       "*/\n",
       "\n",
       "/* Pipeline and ColumnTransformer style (default) */\n",
       "\n",
       "#sk-container-id-1 div.sk-toggleable {\n",
       "  /* Default theme specific background. It is overwritten whether we have a\n",
       "  specific estimator or a Pipeline/ColumnTransformer */\n",
       "  background-color: var(--sklearn-color-background);\n",
       "}\n",
       "\n",
       "/* Toggleable label */\n",
       "#sk-container-id-1 label.sk-toggleable__label {\n",
       "  cursor: pointer;\n",
       "  display: flex;\n",
       "  width: 100%;\n",
       "  margin-bottom: 0;\n",
       "  padding: 0.5em;\n",
       "  box-sizing: border-box;\n",
       "  text-align: center;\n",
       "  align-items: start;\n",
       "  justify-content: space-between;\n",
       "  gap: 0.5em;\n",
       "}\n",
       "\n",
       "#sk-container-id-1 label.sk-toggleable__label .caption {\n",
       "  font-size: 0.6rem;\n",
       "  font-weight: lighter;\n",
       "  color: var(--sklearn-color-text-muted);\n",
       "}\n",
       "\n",
       "#sk-container-id-1 label.sk-toggleable__label-arrow:before {\n",
       "  /* Arrow on the left of the label */\n",
       "  content: \"▸\";\n",
       "  float: left;\n",
       "  margin-right: 0.25em;\n",
       "  color: var(--sklearn-color-icon);\n",
       "}\n",
       "\n",
       "#sk-container-id-1 label.sk-toggleable__label-arrow:hover:before {\n",
       "  color: var(--sklearn-color-text);\n",
       "}\n",
       "\n",
       "/* Toggleable content - dropdown */\n",
       "\n",
       "#sk-container-id-1 div.sk-toggleable__content {\n",
       "  max-height: 0;\n",
       "  max-width: 0;\n",
       "  overflow: hidden;\n",
       "  text-align: left;\n",
       "  /* unfitted */\n",
       "  background-color: var(--sklearn-color-unfitted-level-0);\n",
       "}\n",
       "\n",
       "#sk-container-id-1 div.sk-toggleable__content.fitted {\n",
       "  /* fitted */\n",
       "  background-color: var(--sklearn-color-fitted-level-0);\n",
       "}\n",
       "\n",
       "#sk-container-id-1 div.sk-toggleable__content pre {\n",
       "  margin: 0.2em;\n",
       "  border-radius: 0.25em;\n",
       "  color: var(--sklearn-color-text);\n",
       "  /* unfitted */\n",
       "  background-color: var(--sklearn-color-unfitted-level-0);\n",
       "}\n",
       "\n",
       "#sk-container-id-1 div.sk-toggleable__content.fitted pre {\n",
       "  /* unfitted */\n",
       "  background-color: var(--sklearn-color-fitted-level-0);\n",
       "}\n",
       "\n",
       "#sk-container-id-1 input.sk-toggleable__control:checked~div.sk-toggleable__content {\n",
       "  /* Expand drop-down */\n",
       "  max-height: 200px;\n",
       "  max-width: 100%;\n",
       "  overflow: auto;\n",
       "}\n",
       "\n",
       "#sk-container-id-1 input.sk-toggleable__control:checked~label.sk-toggleable__label-arrow:before {\n",
       "  content: \"▾\";\n",
       "}\n",
       "\n",
       "/* Pipeline/ColumnTransformer-specific style */\n",
       "\n",
       "#sk-container-id-1 div.sk-label input.sk-toggleable__control:checked~label.sk-toggleable__label {\n",
       "  color: var(--sklearn-color-text);\n",
       "  background-color: var(--sklearn-color-unfitted-level-2);\n",
       "}\n",
       "\n",
       "#sk-container-id-1 div.sk-label.fitted input.sk-toggleable__control:checked~label.sk-toggleable__label {\n",
       "  background-color: var(--sklearn-color-fitted-level-2);\n",
       "}\n",
       "\n",
       "/* Estimator-specific style */\n",
       "\n",
       "/* Colorize estimator box */\n",
       "#sk-container-id-1 div.sk-estimator input.sk-toggleable__control:checked~label.sk-toggleable__label {\n",
       "  /* unfitted */\n",
       "  background-color: var(--sklearn-color-unfitted-level-2);\n",
       "}\n",
       "\n",
       "#sk-container-id-1 div.sk-estimator.fitted input.sk-toggleable__control:checked~label.sk-toggleable__label {\n",
       "  /* fitted */\n",
       "  background-color: var(--sklearn-color-fitted-level-2);\n",
       "}\n",
       "\n",
       "#sk-container-id-1 div.sk-label label.sk-toggleable__label,\n",
       "#sk-container-id-1 div.sk-label label {\n",
       "  /* The background is the default theme color */\n",
       "  color: var(--sklearn-color-text-on-default-background);\n",
       "}\n",
       "\n",
       "/* On hover, darken the color of the background */\n",
       "#sk-container-id-1 div.sk-label:hover label.sk-toggleable__label {\n",
       "  color: var(--sklearn-color-text);\n",
       "  background-color: var(--sklearn-color-unfitted-level-2);\n",
       "}\n",
       "\n",
       "/* Label box, darken color on hover, fitted */\n",
       "#sk-container-id-1 div.sk-label.fitted:hover label.sk-toggleable__label.fitted {\n",
       "  color: var(--sklearn-color-text);\n",
       "  background-color: var(--sklearn-color-fitted-level-2);\n",
       "}\n",
       "\n",
       "/* Estimator label */\n",
       "\n",
       "#sk-container-id-1 div.sk-label label {\n",
       "  font-family: monospace;\n",
       "  font-weight: bold;\n",
       "  display: inline-block;\n",
       "  line-height: 1.2em;\n",
       "}\n",
       "\n",
       "#sk-container-id-1 div.sk-label-container {\n",
       "  text-align: center;\n",
       "}\n",
       "\n",
       "/* Estimator-specific */\n",
       "#sk-container-id-1 div.sk-estimator {\n",
       "  font-family: monospace;\n",
       "  border: 1px dotted var(--sklearn-color-border-box);\n",
       "  border-radius: 0.25em;\n",
       "  box-sizing: border-box;\n",
       "  margin-bottom: 0.5em;\n",
       "  /* unfitted */\n",
       "  background-color: var(--sklearn-color-unfitted-level-0);\n",
       "}\n",
       "\n",
       "#sk-container-id-1 div.sk-estimator.fitted {\n",
       "  /* fitted */\n",
       "  background-color: var(--sklearn-color-fitted-level-0);\n",
       "}\n",
       "\n",
       "/* on hover */\n",
       "#sk-container-id-1 div.sk-estimator:hover {\n",
       "  /* unfitted */\n",
       "  background-color: var(--sklearn-color-unfitted-level-2);\n",
       "}\n",
       "\n",
       "#sk-container-id-1 div.sk-estimator.fitted:hover {\n",
       "  /* fitted */\n",
       "  background-color: var(--sklearn-color-fitted-level-2);\n",
       "}\n",
       "\n",
       "/* Specification for estimator info (e.g. \"i\" and \"?\") */\n",
       "\n",
       "/* Common style for \"i\" and \"?\" */\n",
       "\n",
       ".sk-estimator-doc-link,\n",
       "a:link.sk-estimator-doc-link,\n",
       "a:visited.sk-estimator-doc-link {\n",
       "  float: right;\n",
       "  font-size: smaller;\n",
       "  line-height: 1em;\n",
       "  font-family: monospace;\n",
       "  background-color: var(--sklearn-color-background);\n",
       "  border-radius: 1em;\n",
       "  height: 1em;\n",
       "  width: 1em;\n",
       "  text-decoration: none !important;\n",
       "  margin-left: 0.5em;\n",
       "  text-align: center;\n",
       "  /* unfitted */\n",
       "  border: var(--sklearn-color-unfitted-level-1) 1pt solid;\n",
       "  color: var(--sklearn-color-unfitted-level-1);\n",
       "}\n",
       "\n",
       ".sk-estimator-doc-link.fitted,\n",
       "a:link.sk-estimator-doc-link.fitted,\n",
       "a:visited.sk-estimator-doc-link.fitted {\n",
       "  /* fitted */\n",
       "  border: var(--sklearn-color-fitted-level-1) 1pt solid;\n",
       "  color: var(--sklearn-color-fitted-level-1);\n",
       "}\n",
       "\n",
       "/* On hover */\n",
       "div.sk-estimator:hover .sk-estimator-doc-link:hover,\n",
       ".sk-estimator-doc-link:hover,\n",
       "div.sk-label-container:hover .sk-estimator-doc-link:hover,\n",
       ".sk-estimator-doc-link:hover {\n",
       "  /* unfitted */\n",
       "  background-color: var(--sklearn-color-unfitted-level-3);\n",
       "  color: var(--sklearn-color-background);\n",
       "  text-decoration: none;\n",
       "}\n",
       "\n",
       "div.sk-estimator.fitted:hover .sk-estimator-doc-link.fitted:hover,\n",
       ".sk-estimator-doc-link.fitted:hover,\n",
       "div.sk-label-container:hover .sk-estimator-doc-link.fitted:hover,\n",
       ".sk-estimator-doc-link.fitted:hover {\n",
       "  /* fitted */\n",
       "  background-color: var(--sklearn-color-fitted-level-3);\n",
       "  color: var(--sklearn-color-background);\n",
       "  text-decoration: none;\n",
       "}\n",
       "\n",
       "/* Span, style for the box shown on hovering the info icon */\n",
       ".sk-estimator-doc-link span {\n",
       "  display: none;\n",
       "  z-index: 9999;\n",
       "  position: relative;\n",
       "  font-weight: normal;\n",
       "  right: .2ex;\n",
       "  padding: .5ex;\n",
       "  margin: .5ex;\n",
       "  width: min-content;\n",
       "  min-width: 20ex;\n",
       "  max-width: 50ex;\n",
       "  color: var(--sklearn-color-text);\n",
       "  box-shadow: 2pt 2pt 4pt #999;\n",
       "  /* unfitted */\n",
       "  background: var(--sklearn-color-unfitted-level-0);\n",
       "  border: .5pt solid var(--sklearn-color-unfitted-level-3);\n",
       "}\n",
       "\n",
       ".sk-estimator-doc-link.fitted span {\n",
       "  /* fitted */\n",
       "  background: var(--sklearn-color-fitted-level-0);\n",
       "  border: var(--sklearn-color-fitted-level-3);\n",
       "}\n",
       "\n",
       ".sk-estimator-doc-link:hover span {\n",
       "  display: block;\n",
       "}\n",
       "\n",
       "/* \"?\"-specific style due to the `<a>` HTML tag */\n",
       "\n",
       "#sk-container-id-1 a.estimator_doc_link {\n",
       "  float: right;\n",
       "  font-size: 1rem;\n",
       "  line-height: 1em;\n",
       "  font-family: monospace;\n",
       "  background-color: var(--sklearn-color-background);\n",
       "  border-radius: 1rem;\n",
       "  height: 1rem;\n",
       "  width: 1rem;\n",
       "  text-decoration: none;\n",
       "  /* unfitted */\n",
       "  color: var(--sklearn-color-unfitted-level-1);\n",
       "  border: var(--sklearn-color-unfitted-level-1) 1pt solid;\n",
       "}\n",
       "\n",
       "#sk-container-id-1 a.estimator_doc_link.fitted {\n",
       "  /* fitted */\n",
       "  border: var(--sklearn-color-fitted-level-1) 1pt solid;\n",
       "  color: var(--sklearn-color-fitted-level-1);\n",
       "}\n",
       "\n",
       "/* On hover */\n",
       "#sk-container-id-1 a.estimator_doc_link:hover {\n",
       "  /* unfitted */\n",
       "  background-color: var(--sklearn-color-unfitted-level-3);\n",
       "  color: var(--sklearn-color-background);\n",
       "  text-decoration: none;\n",
       "}\n",
       "\n",
       "#sk-container-id-1 a.estimator_doc_link.fitted:hover {\n",
       "  /* fitted */\n",
       "  background-color: var(--sklearn-color-fitted-level-3);\n",
       "}\n",
       "</style><div id=\"sk-container-id-1\" class=\"sk-top-container\"><div class=\"sk-text-repr-fallback\"><pre>RandomForestRegressor(max_depth=15, min_samples_leaf=5, min_samples_split=10,\n",
       "                      n_jobs=-1, random_state=42)</pre><b>In a Jupyter environment, please rerun this cell to show the HTML representation or trust the notebook. <br />On GitHub, the HTML representation is unable to render, please try loading this page with nbviewer.org.</b></div><div class=\"sk-container\" hidden><div class=\"sk-item\"><div class=\"sk-estimator fitted sk-toggleable\"><input class=\"sk-toggleable__control sk-hidden--visually\" id=\"sk-estimator-id-1\" type=\"checkbox\" checked><label for=\"sk-estimator-id-1\" class=\"sk-toggleable__label fitted sk-toggleable__label-arrow\"><div><div>RandomForestRegressor</div></div><div><a class=\"sk-estimator-doc-link fitted\" rel=\"noreferrer\" target=\"_blank\" href=\"https://scikit-learn.org/1.6/modules/generated/sklearn.ensemble.RandomForestRegressor.html\">?<span>Documentation for RandomForestRegressor</span></a><span class=\"sk-estimator-doc-link fitted\">i<span>Fitted</span></span></div></label><div class=\"sk-toggleable__content fitted\"><pre>RandomForestRegressor(max_depth=15, min_samples_leaf=5, min_samples_split=10,\n",
       "                      n_jobs=-1, random_state=42)</pre></div> </div></div></div></div>"
      ],
      "text/plain": [
       "RandomForestRegressor(max_depth=15, min_samples_leaf=5, min_samples_split=10,\n",
       "                      n_jobs=-1, random_state=42)"
      ]
     },
     "execution_count": 59,
     "metadata": {},
     "output_type": "execute_result"
    }
   ],
   "source": [
    "from sklearn.ensemble import RandomForestRegressor\n",
    "rf_model = RandomForestRegressor(\n",
    "    n_estimators=100,  # Reduce trees if needed for performance\n",
    "    max_depth=15,  # Limit depth to avoid overfitting\n",
    "    min_samples_split=10,\n",
    "    min_samples_leaf=5,\n",
    "    random_state=42,\n",
    "    n_jobs=-1  # Use all available processors\n",
    ")\n",
    "rf_model.fit(X_train, y_train)"
   ]
  },
  {
   "cell_type": "markdown",
   "id": "d90a4685-d2cc-46db-aa29-b061860c2497",
   "metadata": {},
   "source": [
    "In a Jupyter environment, please rerun this cell to show the HTML representation or trust the notebook.\n",
    "On GitHub, the HTML representation is unable to render, please try loading this page with nbviewer.org."
   ]
  },
  {
   "cell_type": "code",
   "execution_count": 61,
   "id": "b7d440cc-d0c9-4a19-a348-00964598057a",
   "metadata": {},
   "outputs": [],
   "source": [
    "y_pred = rf_model.predict(X_test)\n",
    "mae=mean_absolute_error( y_test, y_pred)\n",
    "mse = mean_squared_error(y_test, y_pred)\n",
    "r2 = r2_score(y_test, y_pred)"
   ]
  },
  {
   "cell_type": "code",
   "execution_count": 62,
   "id": "0129252b-61ca-4991-83a0-6444054e8ec7",
   "metadata": {},
   "outputs": [
    {
     "name": "stdout",
     "output_type": "stream",
     "text": [
      "MAE: 0.4011\n",
      "MSE: 0.2526\n",
      "R² Score: 0.9122\n"
     ]
    }
   ],
   "source": [
    "print(f\"MAE: {mae:.4f}\")\n",
    "print(f\"MSE: {mse:.4f}\")\n",
    "print(f\"R² Score: {r2:.4f}\")"
   ]
  },
  {
   "cell_type": "markdown",
   "id": "ac414e50-d4fb-4b4e-82bb-b385364199e6",
   "metadata": {},
   "source": [
    "#  Gradient Boosting\n",
    "Gradient Boosting is a method that combines multiple simple models to create a stronger one. Each new model learns from the mistakes of the previous ones, improving accuracy step by step. This process helps make better predictions over time."
   ]
  },
  {
   "cell_type": "code",
   "execution_count": 64,
   "id": "7319cae5-b252-4a28-90ad-d2b3f3622ee5",
   "metadata": {},
   "outputs": [
    {
     "data": {
      "text/html": [
       "<style>#sk-container-id-2 {\n",
       "  /* Definition of color scheme common for light and dark mode */\n",
       "  --sklearn-color-text: #000;\n",
       "  --sklearn-color-text-muted: #666;\n",
       "  --sklearn-color-line: gray;\n",
       "  /* Definition of color scheme for unfitted estimators */\n",
       "  --sklearn-color-unfitted-level-0: #fff5e6;\n",
       "  --sklearn-color-unfitted-level-1: #f6e4d2;\n",
       "  --sklearn-color-unfitted-level-2: #ffe0b3;\n",
       "  --sklearn-color-unfitted-level-3: chocolate;\n",
       "  /* Definition of color scheme for fitted estimators */\n",
       "  --sklearn-color-fitted-level-0: #f0f8ff;\n",
       "  --sklearn-color-fitted-level-1: #d4ebff;\n",
       "  --sklearn-color-fitted-level-2: #b3dbfd;\n",
       "  --sklearn-color-fitted-level-3: cornflowerblue;\n",
       "\n",
       "  /* Specific color for light theme */\n",
       "  --sklearn-color-text-on-default-background: var(--sg-text-color, var(--theme-code-foreground, var(--jp-content-font-color1, black)));\n",
       "  --sklearn-color-background: var(--sg-background-color, var(--theme-background, var(--jp-layout-color0, white)));\n",
       "  --sklearn-color-border-box: var(--sg-text-color, var(--theme-code-foreground, var(--jp-content-font-color1, black)));\n",
       "  --sklearn-color-icon: #696969;\n",
       "\n",
       "  @media (prefers-color-scheme: dark) {\n",
       "    /* Redefinition of color scheme for dark theme */\n",
       "    --sklearn-color-text-on-default-background: var(--sg-text-color, var(--theme-code-foreground, var(--jp-content-font-color1, white)));\n",
       "    --sklearn-color-background: var(--sg-background-color, var(--theme-background, var(--jp-layout-color0, #111)));\n",
       "    --sklearn-color-border-box: var(--sg-text-color, var(--theme-code-foreground, var(--jp-content-font-color1, white)));\n",
       "    --sklearn-color-icon: #878787;\n",
       "  }\n",
       "}\n",
       "\n",
       "#sk-container-id-2 {\n",
       "  color: var(--sklearn-color-text);\n",
       "}\n",
       "\n",
       "#sk-container-id-2 pre {\n",
       "  padding: 0;\n",
       "}\n",
       "\n",
       "#sk-container-id-2 input.sk-hidden--visually {\n",
       "  border: 0;\n",
       "  clip: rect(1px 1px 1px 1px);\n",
       "  clip: rect(1px, 1px, 1px, 1px);\n",
       "  height: 1px;\n",
       "  margin: -1px;\n",
       "  overflow: hidden;\n",
       "  padding: 0;\n",
       "  position: absolute;\n",
       "  width: 1px;\n",
       "}\n",
       "\n",
       "#sk-container-id-2 div.sk-dashed-wrapped {\n",
       "  border: 1px dashed var(--sklearn-color-line);\n",
       "  margin: 0 0.4em 0.5em 0.4em;\n",
       "  box-sizing: border-box;\n",
       "  padding-bottom: 0.4em;\n",
       "  background-color: var(--sklearn-color-background);\n",
       "}\n",
       "\n",
       "#sk-container-id-2 div.sk-container {\n",
       "  /* jupyter's `normalize.less` sets `[hidden] { display: none; }`\n",
       "     but bootstrap.min.css set `[hidden] { display: none !important; }`\n",
       "     so we also need the `!important` here to be able to override the\n",
       "     default hidden behavior on the sphinx rendered scikit-learn.org.\n",
       "     See: https://github.com/scikit-learn/scikit-learn/issues/21755 */\n",
       "  display: inline-block !important;\n",
       "  position: relative;\n",
       "}\n",
       "\n",
       "#sk-container-id-2 div.sk-text-repr-fallback {\n",
       "  display: none;\n",
       "}\n",
       "\n",
       "div.sk-parallel-item,\n",
       "div.sk-serial,\n",
       "div.sk-item {\n",
       "  /* draw centered vertical line to link estimators */\n",
       "  background-image: linear-gradient(var(--sklearn-color-text-on-default-background), var(--sklearn-color-text-on-default-background));\n",
       "  background-size: 2px 100%;\n",
       "  background-repeat: no-repeat;\n",
       "  background-position: center center;\n",
       "}\n",
       "\n",
       "/* Parallel-specific style estimator block */\n",
       "\n",
       "#sk-container-id-2 div.sk-parallel-item::after {\n",
       "  content: \"\";\n",
       "  width: 100%;\n",
       "  border-bottom: 2px solid var(--sklearn-color-text-on-default-background);\n",
       "  flex-grow: 1;\n",
       "}\n",
       "\n",
       "#sk-container-id-2 div.sk-parallel {\n",
       "  display: flex;\n",
       "  align-items: stretch;\n",
       "  justify-content: center;\n",
       "  background-color: var(--sklearn-color-background);\n",
       "  position: relative;\n",
       "}\n",
       "\n",
       "#sk-container-id-2 div.sk-parallel-item {\n",
       "  display: flex;\n",
       "  flex-direction: column;\n",
       "}\n",
       "\n",
       "#sk-container-id-2 div.sk-parallel-item:first-child::after {\n",
       "  align-self: flex-end;\n",
       "  width: 50%;\n",
       "}\n",
       "\n",
       "#sk-container-id-2 div.sk-parallel-item:last-child::after {\n",
       "  align-self: flex-start;\n",
       "  width: 50%;\n",
       "}\n",
       "\n",
       "#sk-container-id-2 div.sk-parallel-item:only-child::after {\n",
       "  width: 0;\n",
       "}\n",
       "\n",
       "/* Serial-specific style estimator block */\n",
       "\n",
       "#sk-container-id-2 div.sk-serial {\n",
       "  display: flex;\n",
       "  flex-direction: column;\n",
       "  align-items: center;\n",
       "  background-color: var(--sklearn-color-background);\n",
       "  padding-right: 1em;\n",
       "  padding-left: 1em;\n",
       "}\n",
       "\n",
       "\n",
       "/* Toggleable style: style used for estimator/Pipeline/ColumnTransformer box that is\n",
       "clickable and can be expanded/collapsed.\n",
       "- Pipeline and ColumnTransformer use this feature and define the default style\n",
       "- Estimators will overwrite some part of the style using the `sk-estimator` class\n",
       "*/\n",
       "\n",
       "/* Pipeline and ColumnTransformer style (default) */\n",
       "\n",
       "#sk-container-id-2 div.sk-toggleable {\n",
       "  /* Default theme specific background. It is overwritten whether we have a\n",
       "  specific estimator or a Pipeline/ColumnTransformer */\n",
       "  background-color: var(--sklearn-color-background);\n",
       "}\n",
       "\n",
       "/* Toggleable label */\n",
       "#sk-container-id-2 label.sk-toggleable__label {\n",
       "  cursor: pointer;\n",
       "  display: flex;\n",
       "  width: 100%;\n",
       "  margin-bottom: 0;\n",
       "  padding: 0.5em;\n",
       "  box-sizing: border-box;\n",
       "  text-align: center;\n",
       "  align-items: start;\n",
       "  justify-content: space-between;\n",
       "  gap: 0.5em;\n",
       "}\n",
       "\n",
       "#sk-container-id-2 label.sk-toggleable__label .caption {\n",
       "  font-size: 0.6rem;\n",
       "  font-weight: lighter;\n",
       "  color: var(--sklearn-color-text-muted);\n",
       "}\n",
       "\n",
       "#sk-container-id-2 label.sk-toggleable__label-arrow:before {\n",
       "  /* Arrow on the left of the label */\n",
       "  content: \"▸\";\n",
       "  float: left;\n",
       "  margin-right: 0.25em;\n",
       "  color: var(--sklearn-color-icon);\n",
       "}\n",
       "\n",
       "#sk-container-id-2 label.sk-toggleable__label-arrow:hover:before {\n",
       "  color: var(--sklearn-color-text);\n",
       "}\n",
       "\n",
       "/* Toggleable content - dropdown */\n",
       "\n",
       "#sk-container-id-2 div.sk-toggleable__content {\n",
       "  max-height: 0;\n",
       "  max-width: 0;\n",
       "  overflow: hidden;\n",
       "  text-align: left;\n",
       "  /* unfitted */\n",
       "  background-color: var(--sklearn-color-unfitted-level-0);\n",
       "}\n",
       "\n",
       "#sk-container-id-2 div.sk-toggleable__content.fitted {\n",
       "  /* fitted */\n",
       "  background-color: var(--sklearn-color-fitted-level-0);\n",
       "}\n",
       "\n",
       "#sk-container-id-2 div.sk-toggleable__content pre {\n",
       "  margin: 0.2em;\n",
       "  border-radius: 0.25em;\n",
       "  color: var(--sklearn-color-text);\n",
       "  /* unfitted */\n",
       "  background-color: var(--sklearn-color-unfitted-level-0);\n",
       "}\n",
       "\n",
       "#sk-container-id-2 div.sk-toggleable__content.fitted pre {\n",
       "  /* unfitted */\n",
       "  background-color: var(--sklearn-color-fitted-level-0);\n",
       "}\n",
       "\n",
       "#sk-container-id-2 input.sk-toggleable__control:checked~div.sk-toggleable__content {\n",
       "  /* Expand drop-down */\n",
       "  max-height: 200px;\n",
       "  max-width: 100%;\n",
       "  overflow: auto;\n",
       "}\n",
       "\n",
       "#sk-container-id-2 input.sk-toggleable__control:checked~label.sk-toggleable__label-arrow:before {\n",
       "  content: \"▾\";\n",
       "}\n",
       "\n",
       "/* Pipeline/ColumnTransformer-specific style */\n",
       "\n",
       "#sk-container-id-2 div.sk-label input.sk-toggleable__control:checked~label.sk-toggleable__label {\n",
       "  color: var(--sklearn-color-text);\n",
       "  background-color: var(--sklearn-color-unfitted-level-2);\n",
       "}\n",
       "\n",
       "#sk-container-id-2 div.sk-label.fitted input.sk-toggleable__control:checked~label.sk-toggleable__label {\n",
       "  background-color: var(--sklearn-color-fitted-level-2);\n",
       "}\n",
       "\n",
       "/* Estimator-specific style */\n",
       "\n",
       "/* Colorize estimator box */\n",
       "#sk-container-id-2 div.sk-estimator input.sk-toggleable__control:checked~label.sk-toggleable__label {\n",
       "  /* unfitted */\n",
       "  background-color: var(--sklearn-color-unfitted-level-2);\n",
       "}\n",
       "\n",
       "#sk-container-id-2 div.sk-estimator.fitted input.sk-toggleable__control:checked~label.sk-toggleable__label {\n",
       "  /* fitted */\n",
       "  background-color: var(--sklearn-color-fitted-level-2);\n",
       "}\n",
       "\n",
       "#sk-container-id-2 div.sk-label label.sk-toggleable__label,\n",
       "#sk-container-id-2 div.sk-label label {\n",
       "  /* The background is the default theme color */\n",
       "  color: var(--sklearn-color-text-on-default-background);\n",
       "}\n",
       "\n",
       "/* On hover, darken the color of the background */\n",
       "#sk-container-id-2 div.sk-label:hover label.sk-toggleable__label {\n",
       "  color: var(--sklearn-color-text);\n",
       "  background-color: var(--sklearn-color-unfitted-level-2);\n",
       "}\n",
       "\n",
       "/* Label box, darken color on hover, fitted */\n",
       "#sk-container-id-2 div.sk-label.fitted:hover label.sk-toggleable__label.fitted {\n",
       "  color: var(--sklearn-color-text);\n",
       "  background-color: var(--sklearn-color-fitted-level-2);\n",
       "}\n",
       "\n",
       "/* Estimator label */\n",
       "\n",
       "#sk-container-id-2 div.sk-label label {\n",
       "  font-family: monospace;\n",
       "  font-weight: bold;\n",
       "  display: inline-block;\n",
       "  line-height: 1.2em;\n",
       "}\n",
       "\n",
       "#sk-container-id-2 div.sk-label-container {\n",
       "  text-align: center;\n",
       "}\n",
       "\n",
       "/* Estimator-specific */\n",
       "#sk-container-id-2 div.sk-estimator {\n",
       "  font-family: monospace;\n",
       "  border: 1px dotted var(--sklearn-color-border-box);\n",
       "  border-radius: 0.25em;\n",
       "  box-sizing: border-box;\n",
       "  margin-bottom: 0.5em;\n",
       "  /* unfitted */\n",
       "  background-color: var(--sklearn-color-unfitted-level-0);\n",
       "}\n",
       "\n",
       "#sk-container-id-2 div.sk-estimator.fitted {\n",
       "  /* fitted */\n",
       "  background-color: var(--sklearn-color-fitted-level-0);\n",
       "}\n",
       "\n",
       "/* on hover */\n",
       "#sk-container-id-2 div.sk-estimator:hover {\n",
       "  /* unfitted */\n",
       "  background-color: var(--sklearn-color-unfitted-level-2);\n",
       "}\n",
       "\n",
       "#sk-container-id-2 div.sk-estimator.fitted:hover {\n",
       "  /* fitted */\n",
       "  background-color: var(--sklearn-color-fitted-level-2);\n",
       "}\n",
       "\n",
       "/* Specification for estimator info (e.g. \"i\" and \"?\") */\n",
       "\n",
       "/* Common style for \"i\" and \"?\" */\n",
       "\n",
       ".sk-estimator-doc-link,\n",
       "a:link.sk-estimator-doc-link,\n",
       "a:visited.sk-estimator-doc-link {\n",
       "  float: right;\n",
       "  font-size: smaller;\n",
       "  line-height: 1em;\n",
       "  font-family: monospace;\n",
       "  background-color: var(--sklearn-color-background);\n",
       "  border-radius: 1em;\n",
       "  height: 1em;\n",
       "  width: 1em;\n",
       "  text-decoration: none !important;\n",
       "  margin-left: 0.5em;\n",
       "  text-align: center;\n",
       "  /* unfitted */\n",
       "  border: var(--sklearn-color-unfitted-level-1) 1pt solid;\n",
       "  color: var(--sklearn-color-unfitted-level-1);\n",
       "}\n",
       "\n",
       ".sk-estimator-doc-link.fitted,\n",
       "a:link.sk-estimator-doc-link.fitted,\n",
       "a:visited.sk-estimator-doc-link.fitted {\n",
       "  /* fitted */\n",
       "  border: var(--sklearn-color-fitted-level-1) 1pt solid;\n",
       "  color: var(--sklearn-color-fitted-level-1);\n",
       "}\n",
       "\n",
       "/* On hover */\n",
       "div.sk-estimator:hover .sk-estimator-doc-link:hover,\n",
       ".sk-estimator-doc-link:hover,\n",
       "div.sk-label-container:hover .sk-estimator-doc-link:hover,\n",
       ".sk-estimator-doc-link:hover {\n",
       "  /* unfitted */\n",
       "  background-color: var(--sklearn-color-unfitted-level-3);\n",
       "  color: var(--sklearn-color-background);\n",
       "  text-decoration: none;\n",
       "}\n",
       "\n",
       "div.sk-estimator.fitted:hover .sk-estimator-doc-link.fitted:hover,\n",
       ".sk-estimator-doc-link.fitted:hover,\n",
       "div.sk-label-container:hover .sk-estimator-doc-link.fitted:hover,\n",
       ".sk-estimator-doc-link.fitted:hover {\n",
       "  /* fitted */\n",
       "  background-color: var(--sklearn-color-fitted-level-3);\n",
       "  color: var(--sklearn-color-background);\n",
       "  text-decoration: none;\n",
       "}\n",
       "\n",
       "/* Span, style for the box shown on hovering the info icon */\n",
       ".sk-estimator-doc-link span {\n",
       "  display: none;\n",
       "  z-index: 9999;\n",
       "  position: relative;\n",
       "  font-weight: normal;\n",
       "  right: .2ex;\n",
       "  padding: .5ex;\n",
       "  margin: .5ex;\n",
       "  width: min-content;\n",
       "  min-width: 20ex;\n",
       "  max-width: 50ex;\n",
       "  color: var(--sklearn-color-text);\n",
       "  box-shadow: 2pt 2pt 4pt #999;\n",
       "  /* unfitted */\n",
       "  background: var(--sklearn-color-unfitted-level-0);\n",
       "  border: .5pt solid var(--sklearn-color-unfitted-level-3);\n",
       "}\n",
       "\n",
       ".sk-estimator-doc-link.fitted span {\n",
       "  /* fitted */\n",
       "  background: var(--sklearn-color-fitted-level-0);\n",
       "  border: var(--sklearn-color-fitted-level-3);\n",
       "}\n",
       "\n",
       ".sk-estimator-doc-link:hover span {\n",
       "  display: block;\n",
       "}\n",
       "\n",
       "/* \"?\"-specific style due to the `<a>` HTML tag */\n",
       "\n",
       "#sk-container-id-2 a.estimator_doc_link {\n",
       "  float: right;\n",
       "  font-size: 1rem;\n",
       "  line-height: 1em;\n",
       "  font-family: monospace;\n",
       "  background-color: var(--sklearn-color-background);\n",
       "  border-radius: 1rem;\n",
       "  height: 1rem;\n",
       "  width: 1rem;\n",
       "  text-decoration: none;\n",
       "  /* unfitted */\n",
       "  color: var(--sklearn-color-unfitted-level-1);\n",
       "  border: var(--sklearn-color-unfitted-level-1) 1pt solid;\n",
       "}\n",
       "\n",
       "#sk-container-id-2 a.estimator_doc_link.fitted {\n",
       "  /* fitted */\n",
       "  border: var(--sklearn-color-fitted-level-1) 1pt solid;\n",
       "  color: var(--sklearn-color-fitted-level-1);\n",
       "}\n",
       "\n",
       "/* On hover */\n",
       "#sk-container-id-2 a.estimator_doc_link:hover {\n",
       "  /* unfitted */\n",
       "  background-color: var(--sklearn-color-unfitted-level-3);\n",
       "  color: var(--sklearn-color-background);\n",
       "  text-decoration: none;\n",
       "}\n",
       "\n",
       "#sk-container-id-2 a.estimator_doc_link.fitted:hover {\n",
       "  /* fitted */\n",
       "  background-color: var(--sklearn-color-fitted-level-3);\n",
       "}\n",
       "</style><div id=\"sk-container-id-2\" class=\"sk-top-container\"><div class=\"sk-text-repr-fallback\"><pre>GradientBoostingRegressor(learning_rate=0.05, max_depth=5, min_samples_leaf=5,\n",
       "                          min_samples_split=10, n_estimators=200,\n",
       "                          random_state=42, subsample=0.8)</pre><b>In a Jupyter environment, please rerun this cell to show the HTML representation or trust the notebook. <br />On GitHub, the HTML representation is unable to render, please try loading this page with nbviewer.org.</b></div><div class=\"sk-container\" hidden><div class=\"sk-item\"><div class=\"sk-estimator fitted sk-toggleable\"><input class=\"sk-toggleable__control sk-hidden--visually\" id=\"sk-estimator-id-2\" type=\"checkbox\" checked><label for=\"sk-estimator-id-2\" class=\"sk-toggleable__label fitted sk-toggleable__label-arrow\"><div><div>GradientBoostingRegressor</div></div><div><a class=\"sk-estimator-doc-link fitted\" rel=\"noreferrer\" target=\"_blank\" href=\"https://scikit-learn.org/1.6/modules/generated/sklearn.ensemble.GradientBoostingRegressor.html\">?<span>Documentation for GradientBoostingRegressor</span></a><span class=\"sk-estimator-doc-link fitted\">i<span>Fitted</span></span></div></label><div class=\"sk-toggleable__content fitted\"><pre>GradientBoostingRegressor(learning_rate=0.05, max_depth=5, min_samples_leaf=5,\n",
       "                          min_samples_split=10, n_estimators=200,\n",
       "                          random_state=42, subsample=0.8)</pre></div> </div></div></div></div>"
      ],
      "text/plain": [
       "GradientBoostingRegressor(learning_rate=0.05, max_depth=5, min_samples_leaf=5,\n",
       "                          min_samples_split=10, n_estimators=200,\n",
       "                          random_state=42, subsample=0.8)"
      ]
     },
     "execution_count": 64,
     "metadata": {},
     "output_type": "execute_result"
    }
   ],
   "source": [
    "from sklearn.ensemble import GradientBoostingRegressor\n",
    "gb_model = GradientBoostingRegressor(\n",
    "    n_estimators=200,  # Number of trees\n",
    "    learning_rate=0.05,  # Step size\n",
    "    max_depth=5,\n",
    "    min_samples_split=10,\n",
    "    min_samples_leaf=5,\n",
    "    subsample=0.8,  # Use 80% of data per tree\n",
    "    random_state=42\n",
    ")\n",
    "\n",
    "gb_model.fit(X_train, y_train)"
   ]
  },
  {
   "cell_type": "markdown",
   "id": "98c3918f-94d2-4c8f-9c03-981687a442b7",
   "metadata": {},
   "source": [
    "In a Jupyter environment, please rerun this cell to show the HTML representation or trust the notebook.\n",
    "On GitHub, the HTML representation is unable to render, please try loading this page with nbviewer.org."
   ]
  },
  {
   "cell_type": "code",
   "execution_count": 66,
   "id": "10a4b792-6b55-47b9-9d0d-59b65e281fe6",
   "metadata": {},
   "outputs": [],
   "source": [
    "y_pred = gb_model.predict(X_test)\n",
    "mae=mean_absolute_error( y_test, y_pred)\n",
    "mse = mean_squared_error(y_test, y_pred)\n",
    "r2 = r2_score(y_test, y_pred)"
   ]
  },
  {
   "cell_type": "code",
   "execution_count": 67,
   "id": "043f8867-a2ce-44ae-ae6c-0d0d55ad42d7",
   "metadata": {},
   "outputs": [
    {
     "name": "stdout",
     "output_type": "stream",
     "text": [
      "MAE: 0.3987\n",
      "MSE: 0.2496\n",
      "R² Score: 0.9133\n"
     ]
    }
   ],
   "source": [
    "print(f\"MAE: {mae:.4f}\")\n",
    "print(f\"MSE: {mse:.4f}\")\n",
    "print(f\"R² Score: {r2:.4f}\")"
   ]
  },
  {
   "cell_type": "markdown",
   "id": "208c68a1-417d-48e4-aded-331b432efa30",
   "metadata": {},
   "source": [
    "#  Neural Networks"
   ]
  },
  {
   "cell_type": "code",
   "execution_count": 69,
   "id": "ad24a2d9-7910-4eb6-b5b4-4955c806db28",
   "metadata": {},
   "outputs": [],
   "source": [
    "from tensorflow.keras import Sequential\n",
    "from tensorflow.keras.layers import Dense, Dropout"
   ]
  },
  {
   "cell_type": "code",
   "execution_count": 70,
   "id": "b96a6b7b-f077-4b6d-a5ee-1a693502dc2f",
   "metadata": {},
   "outputs": [
    {
     "data": {
      "text/plain": [
       "20"
      ]
     },
     "execution_count": 70,
     "metadata": {},
     "output_type": "execute_result"
    }
   ],
   "source": [
    "n_features = X_train.shape[1]\n",
    "n_features"
   ]
  },
  {
   "cell_type": "code",
   "execution_count": 71,
   "id": "6cfad88c-eae7-43be-a46f-607a5e4c9c14",
   "metadata": {},
   "outputs": [
    {
     "name": "stderr",
     "output_type": "stream",
     "text": [
      "P:\\Users\\Lenovo\\anaconda3\\Lib\\site-packages\\keras\\src\\layers\\core\\dense.py:92: UserWarning: Do not pass an `input_shape`/`input_dim` argument to a layer. When using Sequential models, prefer using an `Input(shape)` object as the first layer in the model instead.\n",
      "  super().__init__(activity_regularizer=activity_regularizer, **kwargs)\n"
     ]
    }
   ],
   "source": [
    "# define model\n",
    "model1 = Sequential()\n",
    "model1.add(Dense(5, activation='relu', input_shape=(n_features,)))\n",
    "model1.add(Dense(100, activation='relu'))\n",
    "# model1.add(Dense(800, activation='relu'))\n",
    "# model1.add(Dense(8, activation='relu'))\n",
    "# model1.add(Dropout(0.2))\n",
    "model1.add(Dense(1, activation='linear'))"
   ]
  },
  {
   "cell_type": "code",
   "execution_count": 72,
   "id": "05aadf3a-8846-4ef6-aa4d-6aa977851884",
   "metadata": {},
   "outputs": [
    {
     "data": {
      "text/html": [
       "<pre style=\"white-space:pre;overflow-x:auto;line-height:normal;font-family:Menlo,'DejaVu Sans Mono',consolas,'Courier New',monospace\"><span style=\"font-weight: bold\">Model: \"sequential\"</span>\n",
       "</pre>\n"
      ],
      "text/plain": [
       "\u001b[1mModel: \"sequential\"\u001b[0m\n"
      ]
     },
     "metadata": {},
     "output_type": "display_data"
    },
    {
     "data": {
      "text/html": [
       "<pre style=\"white-space:pre;overflow-x:auto;line-height:normal;font-family:Menlo,'DejaVu Sans Mono',consolas,'Courier New',monospace\">┏━━━━━━━━━━━━━━━━━━━━━━━━━━━━━━━━━━━━━━┳━━━━━━━━━━━━━━━━━━━━━━━━━━━━━┳━━━━━━━━━━━━━━━━━┓\n",
       "┃<span style=\"font-weight: bold\"> Layer (type)                         </span>┃<span style=\"font-weight: bold\"> Output Shape                </span>┃<span style=\"font-weight: bold\">         Param # </span>┃\n",
       "┡━━━━━━━━━━━━━━━━━━━━━━━━━━━━━━━━━━━━━━╇━━━━━━━━━━━━━━━━━━━━━━━━━━━━━╇━━━━━━━━━━━━━━━━━┩\n",
       "│ dense (<span style=\"color: #0087ff; text-decoration-color: #0087ff\">Dense</span>)                        │ (<span style=\"color: #00d7ff; text-decoration-color: #00d7ff\">None</span>, <span style=\"color: #00af00; text-decoration-color: #00af00\">5</span>)                   │             <span style=\"color: #00af00; text-decoration-color: #00af00\">105</span> │\n",
       "├──────────────────────────────────────┼─────────────────────────────┼─────────────────┤\n",
       "│ dense_1 (<span style=\"color: #0087ff; text-decoration-color: #0087ff\">Dense</span>)                      │ (<span style=\"color: #00d7ff; text-decoration-color: #00d7ff\">None</span>, <span style=\"color: #00af00; text-decoration-color: #00af00\">100</span>)                 │             <span style=\"color: #00af00; text-decoration-color: #00af00\">600</span> │\n",
       "├──────────────────────────────────────┼─────────────────────────────┼─────────────────┤\n",
       "│ dense_2 (<span style=\"color: #0087ff; text-decoration-color: #0087ff\">Dense</span>)                      │ (<span style=\"color: #00d7ff; text-decoration-color: #00d7ff\">None</span>, <span style=\"color: #00af00; text-decoration-color: #00af00\">1</span>)                   │             <span style=\"color: #00af00; text-decoration-color: #00af00\">101</span> │\n",
       "└──────────────────────────────────────┴─────────────────────────────┴─────────────────┘\n",
       "</pre>\n"
      ],
      "text/plain": [
       "┏━━━━━━━━━━━━━━━━━━━━━━━━━━━━━━━━━━━━━━┳━━━━━━━━━━━━━━━━━━━━━━━━━━━━━┳━━━━━━━━━━━━━━━━━┓\n",
       "┃\u001b[1m \u001b[0m\u001b[1mLayer (type)                        \u001b[0m\u001b[1m \u001b[0m┃\u001b[1m \u001b[0m\u001b[1mOutput Shape               \u001b[0m\u001b[1m \u001b[0m┃\u001b[1m \u001b[0m\u001b[1m        Param #\u001b[0m\u001b[1m \u001b[0m┃\n",
       "┡━━━━━━━━━━━━━━━━━━━━━━━━━━━━━━━━━━━━━━╇━━━━━━━━━━━━━━━━━━━━━━━━━━━━━╇━━━━━━━━━━━━━━━━━┩\n",
       "│ dense (\u001b[38;5;33mDense\u001b[0m)                        │ (\u001b[38;5;45mNone\u001b[0m, \u001b[38;5;34m5\u001b[0m)                   │             \u001b[38;5;34m105\u001b[0m │\n",
       "├──────────────────────────────────────┼─────────────────────────────┼─────────────────┤\n",
       "│ dense_1 (\u001b[38;5;33mDense\u001b[0m)                      │ (\u001b[38;5;45mNone\u001b[0m, \u001b[38;5;34m100\u001b[0m)                 │             \u001b[38;5;34m600\u001b[0m │\n",
       "├──────────────────────────────────────┼─────────────────────────────┼─────────────────┤\n",
       "│ dense_2 (\u001b[38;5;33mDense\u001b[0m)                      │ (\u001b[38;5;45mNone\u001b[0m, \u001b[38;5;34m1\u001b[0m)                   │             \u001b[38;5;34m101\u001b[0m │\n",
       "└──────────────────────────────────────┴─────────────────────────────┴─────────────────┘\n"
      ]
     },
     "metadata": {},
     "output_type": "display_data"
    },
    {
     "data": {
      "text/html": [
       "<pre style=\"white-space:pre;overflow-x:auto;line-height:normal;font-family:Menlo,'DejaVu Sans Mono',consolas,'Courier New',monospace\"><span style=\"font-weight: bold\"> Total params: </span><span style=\"color: #00af00; text-decoration-color: #00af00\">806</span> (3.15 KB)\n",
       "</pre>\n"
      ],
      "text/plain": [
       "\u001b[1m Total params: \u001b[0m\u001b[38;5;34m806\u001b[0m (3.15 KB)\n"
      ]
     },
     "metadata": {},
     "output_type": "display_data"
    },
    {
     "data": {
      "text/html": [
       "<pre style=\"white-space:pre;overflow-x:auto;line-height:normal;font-family:Menlo,'DejaVu Sans Mono',consolas,'Courier New',monospace\"><span style=\"font-weight: bold\"> Trainable params: </span><span style=\"color: #00af00; text-decoration-color: #00af00\">806</span> (3.15 KB)\n",
       "</pre>\n"
      ],
      "text/plain": [
       "\u001b[1m Trainable params: \u001b[0m\u001b[38;5;34m806\u001b[0m (3.15 KB)\n"
      ]
     },
     "metadata": {},
     "output_type": "display_data"
    },
    {
     "data": {
      "text/html": [
       "<pre style=\"white-space:pre;overflow-x:auto;line-height:normal;font-family:Menlo,'DejaVu Sans Mono',consolas,'Courier New',monospace\"><span style=\"font-weight: bold\"> Non-trainable params: </span><span style=\"color: #00af00; text-decoration-color: #00af00\">0</span> (0.00 B)\n",
       "</pre>\n"
      ],
      "text/plain": [
       "\u001b[1m Non-trainable params: \u001b[0m\u001b[38;5;34m0\u001b[0m (0.00 B)\n"
      ]
     },
     "metadata": {},
     "output_type": "display_data"
    }
   ],
   "source": [
    "model1.summary()"
   ]
  },
  {
   "cell_type": "code",
   "execution_count": 73,
   "id": "7e939312-f408-40b0-819c-299e9c2b6b7c",
   "metadata": {},
   "outputs": [],
   "source": [
    "model1.compile(optimizer='adam',loss=\"mse\", metrics=['mae'])"
   ]
  },
  {
   "cell_type": "code",
   "execution_count": 74,
   "id": "712bea9d-ea17-4618-bda5-255fc2bfea72",
   "metadata": {},
   "outputs": [
    {
     "name": "stdout",
     "output_type": "stream",
     "text": [
      "Epoch 1/100\n",
      "8750/8750 - 11s - 1ms/step - loss: 1.2611 - mae: 0.6051 - val_loss: 0.2617 - val_mae: 0.4082\n",
      "Epoch 2/100\n",
      "8750/8750 - 10s - 1ms/step - loss: 0.3015 - mae: 0.4374 - val_loss: 0.3599 - val_mae: 0.4827\n",
      "Epoch 3/100\n",
      "8750/8750 - 10s - 1ms/step - loss: 0.2913 - mae: 0.4301 - val_loss: 0.3362 - val_mae: 0.4654\n",
      "Epoch 4/100\n",
      "8750/8750 - 10s - 1ms/step - loss: 0.2809 - mae: 0.4224 - val_loss: 0.2564 - val_mae: 0.4042\n",
      "Epoch 5/100\n",
      "8750/8750 - 10s - 1ms/step - loss: 0.2717 - mae: 0.4156 - val_loss: 0.2569 - val_mae: 0.4045\n",
      "Epoch 6/100\n",
      "8750/8750 - 12s - 1ms/step - loss: 0.2626 - mae: 0.4088 - val_loss: 0.2713 - val_mae: 0.4156\n",
      "Epoch 7/100\n",
      "8750/8750 - 11s - 1ms/step - loss: 0.2594 - mae: 0.4063 - val_loss: 0.2637 - val_mae: 0.4099\n",
      "Epoch 8/100\n",
      "8750/8750 - 10s - 1ms/step - loss: 0.2582 - mae: 0.4054 - val_loss: 0.2635 - val_mae: 0.4096\n",
      "Epoch 9/100\n",
      "8750/8750 - 10s - 1ms/step - loss: 0.2575 - mae: 0.4048 - val_loss: 0.2597 - val_mae: 0.4067\n",
      "Epoch 10/100\n",
      "8750/8750 - 10s - 1ms/step - loss: 0.2570 - mae: 0.4044 - val_loss: 0.2574 - val_mae: 0.4049\n",
      "Epoch 11/100\n",
      "8750/8750 - 10s - 1ms/step - loss: 0.2566 - mae: 0.4042 - val_loss: 0.2566 - val_mae: 0.4043\n",
      "Epoch 12/100\n",
      "8750/8750 - 13s - 2ms/step - loss: 0.2564 - mae: 0.4040 - val_loss: 0.2560 - val_mae: 0.4038\n",
      "Epoch 13/100\n",
      "8750/8750 - 10s - 1ms/step - loss: 0.2562 - mae: 0.4038 - val_loss: 0.2554 - val_mae: 0.4033\n",
      "Epoch 14/100\n",
      "8750/8750 - 10s - 1ms/step - loss: 0.2561 - mae: 0.4037 - val_loss: 0.2550 - val_mae: 0.4029\n",
      "Epoch 15/100\n",
      "8750/8750 - 10s - 1ms/step - loss: 0.2559 - mae: 0.4035 - val_loss: 0.2545 - val_mae: 0.4025\n",
      "Epoch 16/100\n",
      "8750/8750 - 10s - 1ms/step - loss: 0.2557 - mae: 0.4034 - val_loss: 0.2542 - val_mae: 0.4023\n",
      "Epoch 17/100\n",
      "8750/8750 - 11s - 1ms/step - loss: 0.2556 - mae: 0.4033 - val_loss: 0.2537 - val_mae: 0.4020\n",
      "Epoch 18/100\n",
      "8750/8750 - 10s - 1ms/step - loss: 0.2555 - mae: 0.4032 - val_loss: 0.2534 - val_mae: 0.4017\n",
      "Epoch 19/100\n",
      "8750/8750 - 10s - 1ms/step - loss: 0.2554 - mae: 0.4032 - val_loss: 0.2530 - val_mae: 0.4014\n",
      "Epoch 20/100\n",
      "8750/8750 - 10s - 1ms/step - loss: 0.2553 - mae: 0.4031 - val_loss: 0.2526 - val_mae: 0.4011\n",
      "Epoch 21/100\n",
      "8750/8750 - 10s - 1ms/step - loss: 0.2552 - mae: 0.4030 - val_loss: 0.2522 - val_mae: 0.4007\n",
      "Epoch 22/100\n",
      "8750/8750 - 10s - 1ms/step - loss: 0.2551 - mae: 0.4029 - val_loss: 0.2517 - val_mae: 0.4003\n",
      "Epoch 23/100\n",
      "8750/8750 - 10s - 1ms/step - loss: 0.2549 - mae: 0.4028 - val_loss: 0.2514 - val_mae: 0.4001\n",
      "Epoch 24/100\n",
      "8750/8750 - 10s - 1ms/step - loss: 0.2548 - mae: 0.4027 - val_loss: 0.2515 - val_mae: 0.4002\n",
      "Epoch 25/100\n",
      "8750/8750 - 10s - 1ms/step - loss: 0.2548 - mae: 0.4027 - val_loss: 0.2518 - val_mae: 0.4004\n",
      "Epoch 26/100\n",
      "8750/8750 - 10s - 1ms/step - loss: 0.2546 - mae: 0.4026 - val_loss: 0.2530 - val_mae: 0.4014\n",
      "Epoch 27/100\n",
      "8750/8750 - 10s - 1ms/step - loss: 0.2545 - mae: 0.4025 - val_loss: 0.2533 - val_mae: 0.4017\n",
      "Epoch 28/100\n",
      "8750/8750 - 10s - 1ms/step - loss: 0.2544 - mae: 0.4024 - val_loss: 0.2537 - val_mae: 0.4019\n",
      "Epoch 29/100\n",
      "8750/8750 - 11s - 1ms/step - loss: 0.2544 - mae: 0.4024 - val_loss: 0.2541 - val_mae: 0.4023\n",
      "Epoch 30/100\n",
      "8750/8750 - 10s - 1ms/step - loss: 0.2543 - mae: 0.4024 - val_loss: 0.2548 - val_mae: 0.4028\n",
      "Epoch 31/100\n",
      "8750/8750 - 10s - 1ms/step - loss: 0.2543 - mae: 0.4023 - val_loss: 0.2550 - val_mae: 0.4030\n",
      "Epoch 32/100\n",
      "8750/8750 - 10s - 1ms/step - loss: 0.2542 - mae: 0.4023 - val_loss: 0.2552 - val_mae: 0.4031\n",
      "Epoch 33/100\n",
      "8750/8750 - 16s - 2ms/step - loss: 0.2542 - mae: 0.4023 - val_loss: 0.2554 - val_mae: 0.4033\n",
      "Epoch 34/100\n",
      "8750/8750 - 17s - 2ms/step - loss: 0.2542 - mae: 0.4022 - val_loss: 0.2555 - val_mae: 0.4034\n",
      "Epoch 35/100\n",
      "8750/8750 - 15s - 2ms/step - loss: 0.2542 - mae: 0.4022 - val_loss: 0.2556 - val_mae: 0.4035\n",
      "Epoch 36/100\n",
      "8750/8750 - 13s - 1ms/step - loss: 0.2541 - mae: 0.4022 - val_loss: 0.2557 - val_mae: 0.4036\n",
      "Epoch 37/100\n",
      "8750/8750 - 12s - 1ms/step - loss: 0.2541 - mae: 0.4022 - val_loss: 0.2558 - val_mae: 0.4036\n",
      "Epoch 38/100\n",
      "8750/8750 - 13s - 1ms/step - loss: 0.2541 - mae: 0.4022 - val_loss: 0.2559 - val_mae: 0.4037\n",
      "Epoch 39/100\n",
      "8750/8750 - 14s - 2ms/step - loss: 0.2541 - mae: 0.4022 - val_loss: 0.2560 - val_mae: 0.4038\n",
      "Epoch 40/100\n",
      "8750/8750 - 12s - 1ms/step - loss: 0.2540 - mae: 0.4021 - val_loss: 0.2560 - val_mae: 0.4038\n",
      "Epoch 41/100\n",
      "8750/8750 - 11s - 1ms/step - loss: 0.2540 - mae: 0.4021 - val_loss: 0.2561 - val_mae: 0.4038\n",
      "Epoch 42/100\n",
      "8750/8750 - 11s - 1ms/step - loss: 0.2540 - mae: 0.4021 - val_loss: 0.2561 - val_mae: 0.4039\n",
      "Epoch 43/100\n",
      "8750/8750 - 11s - 1ms/step - loss: 0.2540 - mae: 0.4021 - val_loss: 0.2561 - val_mae: 0.4039\n",
      "Epoch 44/100\n",
      "8750/8750 - 12s - 1ms/step - loss: 0.2540 - mae: 0.4021 - val_loss: 0.2561 - val_mae: 0.4039\n",
      "Epoch 45/100\n",
      "8750/8750 - 11s - 1ms/step - loss: 0.2540 - mae: 0.4021 - val_loss: 0.2562 - val_mae: 0.4039\n",
      "Epoch 46/100\n",
      "8750/8750 - 11s - 1ms/step - loss: 0.2539 - mae: 0.4020 - val_loss: 0.2562 - val_mae: 0.4039\n",
      "Epoch 47/100\n",
      "8750/8750 - 10s - 1ms/step - loss: 0.2539 - mae: 0.4020 - val_loss: 0.2562 - val_mae: 0.4039\n",
      "Epoch 48/100\n",
      "8750/8750 - 10s - 1ms/step - loss: 0.2539 - mae: 0.4020 - val_loss: 0.2561 - val_mae: 0.4039\n",
      "Epoch 49/100\n",
      "8750/8750 - 10s - 1ms/step - loss: 0.2539 - mae: 0.4020 - val_loss: 0.2561 - val_mae: 0.4039\n",
      "Epoch 50/100\n",
      "8750/8750 - 10s - 1ms/step - loss: 0.2539 - mae: 0.4020 - val_loss: 0.2561 - val_mae: 0.4039\n",
      "Epoch 51/100\n",
      "8750/8750 - 10s - 1ms/step - loss: 0.2538 - mae: 0.4020 - val_loss: 0.2561 - val_mae: 0.4038\n",
      "Epoch 52/100\n",
      "8750/8750 - 11s - 1ms/step - loss: 0.2538 - mae: 0.4019 - val_loss: 0.2560 - val_mae: 0.4038\n",
      "Epoch 53/100\n",
      "8750/8750 - 12s - 1ms/step - loss: 0.2538 - mae: 0.4019 - val_loss: 0.2560 - val_mae: 0.4038\n",
      "Epoch 54/100\n",
      "8750/8750 - 13s - 1ms/step - loss: 0.2537 - mae: 0.4019 - val_loss: 0.2558 - val_mae: 0.4037\n",
      "Epoch 55/100\n",
      "8750/8750 - 15s - 2ms/step - loss: 0.2537 - mae: 0.4018 - val_loss: 0.2556 - val_mae: 0.4034\n",
      "Epoch 56/100\n",
      "8750/8750 - 13s - 2ms/step - loss: 0.2536 - mae: 0.4018 - val_loss: 0.2555 - val_mae: 0.4034\n",
      "Epoch 57/100\n",
      "8750/8750 - 13s - 1ms/step - loss: 0.2536 - mae: 0.4018 - val_loss: 0.2555 - val_mae: 0.4033\n",
      "Epoch 58/100\n",
      "8750/8750 - 12s - 1ms/step - loss: 0.2536 - mae: 0.4018 - val_loss: 0.2554 - val_mae: 0.4033\n",
      "Epoch 59/100\n",
      "8750/8750 - 11s - 1ms/step - loss: 0.2536 - mae: 0.4018 - val_loss: 0.2553 - val_mae: 0.4033\n",
      "Epoch 60/100\n",
      "8750/8750 - 12s - 1ms/step - loss: 0.2536 - mae: 0.4018 - val_loss: 0.2553 - val_mae: 0.4032\n",
      "Epoch 61/100\n",
      "8750/8750 - 11s - 1ms/step - loss: 0.2536 - mae: 0.4017 - val_loss: 0.2552 - val_mae: 0.4032\n",
      "Epoch 62/100\n",
      "8750/8750 - 12s - 1ms/step - loss: 0.2536 - mae: 0.4017 - val_loss: 0.2552 - val_mae: 0.4031\n",
      "Epoch 63/100\n",
      "8750/8750 - 10s - 1ms/step - loss: 0.2535 - mae: 0.4017 - val_loss: 0.2551 - val_mae: 0.4031\n",
      "Epoch 64/100\n",
      "8750/8750 - 10s - 1ms/step - loss: 0.2535 - mae: 0.4017 - val_loss: 0.2550 - val_mae: 0.4030\n",
      "Epoch 65/100\n",
      "8750/8750 - 11s - 1ms/step - loss: 0.2535 - mae: 0.4017 - val_loss: 0.2550 - val_mae: 0.4030\n",
      "Epoch 66/100\n",
      "8750/8750 - 11s - 1ms/step - loss: 0.2535 - mae: 0.4017 - val_loss: 0.2549 - val_mae: 0.4029\n",
      "Epoch 67/100\n",
      "8750/8750 - 10s - 1ms/step - loss: 0.2535 - mae: 0.4017 - val_loss: 0.2549 - val_mae: 0.4029\n",
      "Epoch 68/100\n",
      "8750/8750 - 10s - 1ms/step - loss: 0.2535 - mae: 0.4017 - val_loss: 0.2548 - val_mae: 0.4028\n",
      "Epoch 69/100\n",
      "8750/8750 - 10s - 1ms/step - loss: 0.2535 - mae: 0.4017 - val_loss: 0.2547 - val_mae: 0.4028\n",
      "Epoch 70/100\n",
      "8750/8750 - 11s - 1ms/step - loss: 0.2535 - mae: 0.4017 - val_loss: 0.2547 - val_mae: 0.4027\n",
      "Epoch 71/100\n",
      "8750/8750 - 10s - 1ms/step - loss: 0.2535 - mae: 0.4017 - val_loss: 0.2546 - val_mae: 0.4027\n",
      "Epoch 72/100\n",
      "8750/8750 - 10s - 1ms/step - loss: 0.2534 - mae: 0.4016 - val_loss: 0.2545 - val_mae: 0.4026\n",
      "Epoch 73/100\n",
      "8750/8750 - 10s - 1ms/step - loss: 0.2534 - mae: 0.4016 - val_loss: 0.2545 - val_mae: 0.4025\n",
      "Epoch 74/100\n",
      "8750/8750 - 10s - 1ms/step - loss: 0.2534 - mae: 0.4016 - val_loss: 0.2544 - val_mae: 0.4025\n",
      "Epoch 75/100\n",
      "8750/8750 - 10s - 1ms/step - loss: 0.2534 - mae: 0.4016 - val_loss: 0.2543 - val_mae: 0.4024\n",
      "Epoch 76/100\n",
      "8750/8750 - 10s - 1ms/step - loss: 0.2534 - mae: 0.4016 - val_loss: 0.2542 - val_mae: 0.4023\n",
      "Epoch 77/100\n",
      "8750/8750 - 11s - 1ms/step - loss: 0.2534 - mae: 0.4016 - val_loss: 0.2541 - val_mae: 0.4022\n",
      "Epoch 78/100\n",
      "8750/8750 - 10s - 1ms/step - loss: 0.2534 - mae: 0.4016 - val_loss: 0.2540 - val_mae: 0.4022\n",
      "Epoch 79/100\n",
      "8750/8750 - 10s - 1ms/step - loss: 0.2533 - mae: 0.4016 - val_loss: 0.2538 - val_mae: 0.4020\n",
      "Epoch 80/100\n",
      "8750/8750 - 10s - 1ms/step - loss: 0.2533 - mae: 0.4015 - val_loss: 0.2536 - val_mae: 0.4019\n",
      "Epoch 81/100\n",
      "8750/8750 - 10s - 1ms/step - loss: 0.2533 - mae: 0.4015 - val_loss: 0.2534 - val_mae: 0.4017\n",
      "Epoch 82/100\n",
      "8750/8750 - 10s - 1ms/step - loss: 0.2532 - mae: 0.4015 - val_loss: 0.2530 - val_mae: 0.4014\n",
      "Epoch 83/100\n",
      "8750/8750 - 10s - 1ms/step - loss: 0.2531 - mae: 0.4014 - val_loss: 0.2528 - val_mae: 0.4012\n",
      "Epoch 84/100\n",
      "8750/8750 - 10s - 1ms/step - loss: 0.2531 - mae: 0.4014 - val_loss: 0.2527 - val_mae: 0.4012\n",
      "Epoch 85/100\n",
      "8750/8750 - 10s - 1ms/step - loss: 0.2531 - mae: 0.4014 - val_loss: 0.2527 - val_mae: 0.4011\n",
      "Epoch 86/100\n",
      "8750/8750 - 10s - 1ms/step - loss: 0.2531 - mae: 0.4014 - val_loss: 0.2526 - val_mae: 0.4011\n",
      "Epoch 87/100\n",
      "8750/8750 - 10s - 1ms/step - loss: 0.2531 - mae: 0.4014 - val_loss: 0.2526 - val_mae: 0.4011\n",
      "Epoch 88/100\n",
      "8750/8750 - 12s - 1ms/step - loss: 0.2531 - mae: 0.4014 - val_loss: 0.2526 - val_mae: 0.4010\n",
      "Epoch 89/100\n",
      "8750/8750 - 11s - 1ms/step - loss: 0.2531 - mae: 0.4014 - val_loss: 0.2526 - val_mae: 0.4010\n",
      "Epoch 90/100\n",
      "8750/8750 - 10s - 1ms/step - loss: 0.2531 - mae: 0.4014 - val_loss: 0.2525 - val_mae: 0.4010\n",
      "Epoch 91/100\n",
      "8750/8750 - 11s - 1ms/step - loss: 0.2531 - mae: 0.4014 - val_loss: 0.2525 - val_mae: 0.4010\n",
      "Epoch 92/100\n",
      "8750/8750 - 10s - 1ms/step - loss: 0.2531 - mae: 0.4014 - val_loss: 0.2525 - val_mae: 0.4010\n",
      "Epoch 93/100\n",
      "8750/8750 - 10s - 1ms/step - loss: 0.2531 - mae: 0.4013 - val_loss: 0.2524 - val_mae: 0.4009\n",
      "Epoch 94/100\n",
      "8750/8750 - 10s - 1ms/step - loss: 0.2530 - mae: 0.4013 - val_loss: 0.2524 - val_mae: 0.4009\n",
      "Epoch 95/100\n",
      "8750/8750 - 10s - 1ms/step - loss: 0.2530 - mae: 0.4013 - val_loss: 0.2524 - val_mae: 0.4009\n",
      "Epoch 96/100\n",
      "8750/8750 - 10s - 1ms/step - loss: 0.2530 - mae: 0.4013 - val_loss: 0.2524 - val_mae: 0.4009\n",
      "Epoch 97/100\n",
      "8750/8750 - 24s - 3ms/step - loss: 0.2530 - mae: 0.4013 - val_loss: 0.2523 - val_mae: 0.4009\n",
      "Epoch 98/100\n",
      "8750/8750 - 30s - 3ms/step - loss: 0.2530 - mae: 0.4013 - val_loss: 0.2523 - val_mae: 0.4008\n",
      "Epoch 99/100\n",
      "8750/8750 - 27s - 3ms/step - loss: 0.2530 - mae: 0.4013 - val_loss: 0.2523 - val_mae: 0.4008\n",
      "Epoch 100/100\n",
      "8750/8750 - 27s - 3ms/step - loss: 0.2530 - mae: 0.4013 - val_loss: 0.2523 - val_mae: 0.4008\n"
     ]
    }
   ],
   "source": [
    "# fit the model (training)\n",
    "history = model1.fit( X_train, y_train, epochs=100, batch_size=64,\n",
    "                     validation_split=0.3, verbose=2,shuffle=False)"
   ]
  },
  {
   "cell_type": "code",
   "execution_count": 75,
   "id": "d2330733-0853-42a8-88a1-d74b6aff852a",
   "metadata": {},
   "outputs": [
    {
     "name": "stdout",
     "output_type": "stream",
     "text": [
      "Test mae: 0.3993\n"
     ]
    }
   ],
   "source": [
    "loss, mae = model1.evaluate(X_test, y_test, verbose=0)\n",
    "print('Test mae: %.4f' % mae)"
   ]
  },
  {
   "cell_type": "code",
   "execution_count": 76,
   "id": "c2c98744-d946-4c9d-b1ea-c320b0e9ec35",
   "metadata": {},
   "outputs": [
    {
     "data": {
      "image/png": "[encoded data removed]",
      "text/plain": [
       "<Figure size 640x480 with 1 Axes>"
      ]
     },
     "metadata": {},
     "output_type": "display_data"
    }
   ],
   "source": [
    "import matplotlib.pyplot as plt\n",
    "plt.plot(history.history['loss'], label='Training Loss')  # Training Loss\n",
    "plt.plot(history.history['val_loss'], label='Validation Loss')  # Validation Loss\n",
    "plt.xlabel(\"Epochs\")\n",
    "plt.ylabel(\"Loss\")\n",
    "plt.legend()\n",
    "plt.title(\"Training vs Validation Loss\")\n",
    "plt.show()"
   ]
  },
  {
   "cell_type": "code",
   "execution_count": 77,
   "id": "5cccc7bb-77c0-417a-8852-7f3cfdd4086a",
   "metadata": {},
   "outputs": [
    {
     "name": "stdout",
     "output_type": "stream",
     "text": [
      "\u001b[1m6250/6250\u001b[0m \u001b[32m━━━━━━━━━━━━━━━━━━━━\u001b[0m\u001b[37m\u001b[0m \u001b[1m9s\u001b[0m 1ms/step\n"
     ]
    }
   ],
   "source": [
    "y_pred = model1.predict(X_test)"
   ]
  },
  {
   "cell_type": "code",
   "execution_count": 78,
   "id": "b4f22bfb-e9d9-4de9-b4e1-ffa4b0af3b6d",
   "metadata": {},
   "outputs": [
    {
     "name": "stdout",
     "output_type": "stream",
     "text": [
      "Testing MAE: 0.39931463538999384\n",
      "Testing MSE: 0.2503292877668835\n",
      "Testing R²: 0.9130175701415671\n"
     ]
    }
   ],
   "source": [
    "test_mae=mean_absolute_error( y_test, y_pred)\n",
    "print(f\"Testing MAE: {test_mae}\")\n",
    "test_mse=mean_squared_error( y_test, y_pred)\n",
    "print(f\"Testing MSE: {test_mse}\")\n",
    "test_r2 = r2_score(y_test, y_pred)\n",
    "print(f\"Testing R²: {test_r2}\")"
   ]
  },
  {
   "cell_type": "markdown",
   "id": "c53d7978-8903-4985-9a29-bb8c955d142c",
   "metadata": {},
   "source": [
    "#  Dropout Layer"
   ]
  },
  {
   "cell_type": "code",
   "execution_count": 80,
   "id": "26b0a327-b97a-4a18-a5b2-20b781f60544",
   "metadata": {},
   "outputs": [
    {
     "name": "stderr",
     "output_type": "stream",
     "text": [
      "P:\\Users\\Lenovo\\anaconda3\\Lib\\site-packages\\keras\\src\\layers\\core\\dense.py:92: UserWarning: Do not pass an `input_shape`/`input_dim` argument to a layer. When using Sequential models, prefer using an `Input(shape)` object as the first layer in the model instead.\n",
      "  super().__init__(activity_regularizer=activity_regularizer, **kwargs)\n"
     ]
    }
   ],
   "source": [
    "model1 = Sequential()\n",
    "model1.add(Dense(5, activation='relu', input_shape=(n_features,)))\n",
    "model1.add(Dense(100, activation='relu'))\n",
    "#model1.add(Dense(800, activation='relu'))\n",
    "# model1.add(Dense(8, activation='relu'))\n",
    "model1.add(Dropout(0.1))\n",
    "model1.add(Dense(1, activation='linear'))"
   ]
  },
  {
   "cell_type": "code",
   "execution_count": 81,
   "id": "dc321d1c-8cfe-4db8-947e-8225a8afc962",
   "metadata": {},
   "outputs": [],
   "source": [
    "model1.compile(optimizer='Adam',loss=\"mse\", metrics=['mae'])"
   ]
  },
  {
   "cell_type": "code",
   "execution_count": 82,
   "id": "fe290494-49e1-4070-9b79-c801aaf6b2fd",
   "metadata": {},
   "outputs": [
    {
     "name": "stdout",
     "output_type": "stream",
     "text": [
      "Epoch 1/100\n",
      "8750/8750 - 29s - 3ms/step - loss: 11.8466 - mae: 1.3211 - val_loss: 0.2695 - val_mae: 0.4143\n",
      "Epoch 2/100\n",
      "8750/8750 - 28s - 3ms/step - loss: 0.3614 - mae: 0.4767 - val_loss: 0.2636 - val_mae: 0.4098\n",
      "Epoch 3/100\n",
      "8750/8750 - 27s - 3ms/step - loss: 0.3371 - mae: 0.4611 - val_loss: 0.2931 - val_mae: 0.4327\n",
      "Epoch 4/100\n",
      "8750/8750 - 28s - 3ms/step - loss: 0.3220 - mae: 0.4509 - val_loss: 0.2555 - val_mae: 0.4034\n",
      "Epoch 5/100\n",
      "8750/8750 - 27s - 3ms/step - loss: 0.3114 - mae: 0.4439 - val_loss: 0.2806 - val_mae: 0.4231\n",
      "Epoch 6/100\n",
      "8750/8750 - 28s - 3ms/step - loss: 0.3054 - mae: 0.4396 - val_loss: 0.3035 - val_mae: 0.4407\n",
      "Epoch 7/100\n",
      "8750/8750 - 28s - 3ms/step - loss: 0.3022 - mae: 0.4371 - val_loss: 0.2607 - val_mae: 0.4076\n",
      "Epoch 8/100\n",
      "8750/8750 - 28s - 3ms/step - loss: 0.2998 - mae: 0.4352 - val_loss: 0.2591 - val_mae: 0.4063\n",
      "Epoch 9/100\n",
      "8750/8750 - 27s - 3ms/step - loss: 0.2985 - mae: 0.4341 - val_loss: 0.2568 - val_mae: 0.4044\n",
      "Epoch 10/100\n",
      "8750/8750 - 27s - 3ms/step - loss: 0.2968 - mae: 0.4329 - val_loss: 0.2575 - val_mae: 0.4049\n",
      "Epoch 11/100\n",
      "8750/8750 - 27s - 3ms/step - loss: 0.2961 - mae: 0.4323 - val_loss: 0.2561 - val_mae: 0.4039\n",
      "Epoch 12/100\n",
      "8750/8750 - 28s - 3ms/step - loss: 0.2951 - mae: 0.4316 - val_loss: 0.2660 - val_mae: 0.4116\n",
      "Epoch 13/100\n",
      "8750/8750 - 27s - 3ms/step - loss: 0.2944 - mae: 0.4309 - val_loss: 0.2634 - val_mae: 0.4096\n",
      "Epoch 14/100\n",
      "8750/8750 - 41s - 5ms/step - loss: 0.2944 - mae: 0.4307 - val_loss: 0.2601 - val_mae: 0.4070\n",
      "Epoch 15/100\n",
      "8750/8750 - 454s - 52ms/step - loss: 0.2938 - mae: 0.4303 - val_loss: 0.2553 - val_mae: 0.4032\n",
      "Epoch 16/100\n",
      "8750/8750 - 15s - 2ms/step - loss: 0.2936 - mae: 0.4300 - val_loss: 0.2557 - val_mae: 0.4036\n",
      "Epoch 17/100\n",
      "8750/8750 - 14s - 2ms/step - loss: 0.2925 - mae: 0.4292 - val_loss: 0.2761 - val_mae: 0.4196\n",
      "Epoch 18/100\n",
      "8750/8750 - 11s - 1ms/step - loss: 0.2914 - mae: 0.4287 - val_loss: 0.2640 - val_mae: 0.4101\n",
      "Epoch 19/100\n",
      "8750/8750 - 11s - 1ms/step - loss: 0.2872 - mae: 0.4267 - val_loss: 0.2549 - val_mae: 0.4029\n",
      "Epoch 20/100\n",
      "8750/8750 - 11s - 1ms/step - loss: 0.2832 - mae: 0.4238 - val_loss: 0.2609 - val_mae: 0.4077\n",
      "Epoch 21/100\n",
      "8750/8750 - 12s - 1ms/step - loss: 0.2801 - mae: 0.4216 - val_loss: 0.2590 - val_mae: 0.4062\n",
      "Epoch 22/100\n",
      "8750/8750 - 15s - 2ms/step - loss: 0.2778 - mae: 0.4200 - val_loss: 0.2600 - val_mae: 0.4070\n",
      "Epoch 23/100\n",
      "8750/8750 - 13s - 2ms/step - loss: 0.2764 - mae: 0.4190 - val_loss: 0.2540 - val_mae: 0.4022\n",
      "Epoch 24/100\n",
      "8750/8750 - 11s - 1ms/step - loss: 0.2757 - mae: 0.4185 - val_loss: 0.2575 - val_mae: 0.4050\n",
      "Epoch 25/100\n",
      "8750/8750 - 11s - 1ms/step - loss: 0.2751 - mae: 0.4181 - val_loss: 0.2591 - val_mae: 0.4063\n",
      "Epoch 26/100\n",
      "8750/8750 - 11s - 1ms/step - loss: 0.2741 - mae: 0.4174 - val_loss: 0.2533 - val_mae: 0.4016\n",
      "Epoch 27/100\n",
      "8750/8750 - 11s - 1ms/step - loss: 0.2738 - mae: 0.4169 - val_loss: 0.2517 - val_mae: 0.4004\n",
      "Epoch 28/100\n",
      "8750/8750 - 11s - 1ms/step - loss: 0.2730 - mae: 0.4165 - val_loss: 0.2518 - val_mae: 0.4005\n",
      "Epoch 29/100\n",
      "8750/8750 - 11s - 1ms/step - loss: 0.2728 - mae: 0.4163 - val_loss: 0.2547 - val_mae: 0.4028\n",
      "Epoch 30/100\n",
      "8750/8750 - 11s - 1ms/step - loss: 0.2729 - mae: 0.4165 - val_loss: 0.2518 - val_mae: 0.4004\n",
      "Epoch 31/100\n",
      "8750/8750 - 11s - 1ms/step - loss: 0.2728 - mae: 0.4162 - val_loss: 0.2516 - val_mae: 0.4003\n",
      "Epoch 32/100\n",
      "8750/8750 - 11s - 1ms/step - loss: 0.2727 - mae: 0.4162 - val_loss: 0.2518 - val_mae: 0.4005\n",
      "Epoch 33/100\n",
      "8750/8750 - 11s - 1ms/step - loss: 0.2729 - mae: 0.4163 - val_loss: 0.2519 - val_mae: 0.4006\n",
      "Epoch 34/100\n",
      "8750/8750 - 11s - 1ms/step - loss: 0.2729 - mae: 0.4165 - val_loss: 0.2518 - val_mae: 0.4005\n",
      "Epoch 35/100\n",
      "8750/8750 - 11s - 1ms/step - loss: 0.2726 - mae: 0.4163 - val_loss: 0.2516 - val_mae: 0.4003\n",
      "Epoch 36/100\n",
      "8750/8750 - 11s - 1ms/step - loss: 0.2729 - mae: 0.4163 - val_loss: 0.2523 - val_mae: 0.4009\n",
      "Epoch 37/100\n",
      "8750/8750 - 11s - 1ms/step - loss: 0.2724 - mae: 0.4161 - val_loss: 0.2533 - val_mae: 0.4017\n",
      "Epoch 38/100\n",
      "8750/8750 - 11s - 1ms/step - loss: 0.2725 - mae: 0.4161 - val_loss: 0.2522 - val_mae: 0.4008\n",
      "Epoch 39/100\n",
      "8750/8750 - 11s - 1ms/step - loss: 0.2728 - mae: 0.4163 - val_loss: 0.2524 - val_mae: 0.4010\n",
      "Epoch 40/100\n",
      "8750/8750 - 11s - 1ms/step - loss: 0.2725 - mae: 0.4161 - val_loss: 0.2520 - val_mae: 0.4006\n",
      "Epoch 41/100\n",
      "8750/8750 - 11s - 1ms/step - loss: 0.2725 - mae: 0.4161 - val_loss: 0.2530 - val_mae: 0.4014\n",
      "Epoch 42/100\n",
      "8750/8750 - 14s - 2ms/step - loss: 0.2729 - mae: 0.4163 - val_loss: 0.2557 - val_mae: 0.4036\n",
      "Epoch 43/100\n",
      "8750/8750 - 11s - 1ms/step - loss: 0.2729 - mae: 0.4165 - val_loss: 0.2517 - val_mae: 0.4004\n",
      "Epoch 44/100\n",
      "8750/8750 - 11s - 1ms/step - loss: 0.2724 - mae: 0.4160 - val_loss: 0.2532 - val_mae: 0.4016\n",
      "Epoch 45/100\n",
      "8750/8750 - 11s - 1ms/step - loss: 0.2727 - mae: 0.4163 - val_loss: 0.2552 - val_mae: 0.4032\n",
      "Epoch 46/100\n",
      "8750/8750 - 11s - 1ms/step - loss: 0.2726 - mae: 0.4163 - val_loss: 0.2539 - val_mae: 0.4022\n",
      "Epoch 47/100\n",
      "8750/8750 - 11s - 1ms/step - loss: 0.2725 - mae: 0.4162 - val_loss: 0.2523 - val_mae: 0.4009\n",
      "Epoch 48/100\n",
      "8750/8750 - 11s - 1ms/step - loss: 0.2727 - mae: 0.4163 - val_loss: 0.2535 - val_mae: 0.4018\n",
      "Epoch 49/100\n",
      "8750/8750 - 11s - 1ms/step - loss: 0.2726 - mae: 0.4163 - val_loss: 0.2528 - val_mae: 0.4013\n",
      "Epoch 50/100\n",
      "8750/8750 - 11s - 1ms/step - loss: 0.2727 - mae: 0.4162 - val_loss: 0.2542 - val_mae: 0.4024\n",
      "Epoch 51/100\n",
      "8750/8750 - 11s - 1ms/step - loss: 0.2726 - mae: 0.4163 - val_loss: 0.2544 - val_mae: 0.4026\n",
      "Epoch 52/100\n",
      "8750/8750 - 11s - 1ms/step - loss: 0.2726 - mae: 0.4162 - val_loss: 0.2631 - val_mae: 0.4095\n",
      "Epoch 53/100\n",
      "8750/8750 - 11s - 1ms/step - loss: 0.2721 - mae: 0.4158 - val_loss: 0.2536 - val_mae: 0.4019\n",
      "Epoch 54/100\n",
      "8750/8750 - 11s - 1ms/step - loss: 0.2724 - mae: 0.4161 - val_loss: 0.2553 - val_mae: 0.4033\n",
      "Epoch 55/100\n",
      "8750/8750 - 11s - 1ms/step - loss: 0.2724 - mae: 0.4160 - val_loss: 0.2518 - val_mae: 0.4005\n",
      "Epoch 56/100\n",
      "8750/8750 - 11s - 1ms/step - loss: 0.2722 - mae: 0.4158 - val_loss: 0.2563 - val_mae: 0.4041\n",
      "Epoch 57/100\n",
      "8750/8750 - 11s - 1ms/step - loss: 0.2724 - mae: 0.4160 - val_loss: 0.2523 - val_mae: 0.4009\n",
      "Epoch 58/100\n",
      "8750/8750 - 11s - 1ms/step - loss: 0.2723 - mae: 0.4159 - val_loss: 0.2541 - val_mae: 0.4023\n",
      "Epoch 59/100\n",
      "8750/8750 - 11s - 1ms/step - loss: 0.2722 - mae: 0.4160 - val_loss: 0.2577 - val_mae: 0.4052\n",
      "Epoch 60/100\n",
      "8750/8750 - 11s - 1ms/step - loss: 0.2725 - mae: 0.4163 - val_loss: 0.2572 - val_mae: 0.4048\n",
      "Epoch 61/100\n",
      "8750/8750 - 11s - 1ms/step - loss: 0.2725 - mae: 0.4162 - val_loss: 0.2535 - val_mae: 0.4019\n",
      "Epoch 62/100\n",
      "8750/8750 - 11s - 1ms/step - loss: 0.2721 - mae: 0.4158 - val_loss: 0.2529 - val_mae: 0.4014\n",
      "Epoch 63/100\n",
      "8750/8750 - 11s - 1ms/step - loss: 0.2723 - mae: 0.4159 - val_loss: 0.2526 - val_mae: 0.4011\n",
      "Epoch 64/100\n",
      "8750/8750 - 11s - 1ms/step - loss: 0.2722 - mae: 0.4158 - val_loss: 0.2565 - val_mae: 0.4042\n",
      "Epoch 65/100\n",
      "8750/8750 - 11s - 1ms/step - loss: 0.2722 - mae: 0.4159 - val_loss: 0.2557 - val_mae: 0.4036\n",
      "Epoch 66/100\n",
      "8750/8750 - 11s - 1ms/step - loss: 0.2725 - mae: 0.4164 - val_loss: 0.2531 - val_mae: 0.4015\n",
      "Epoch 67/100\n",
      "8750/8750 - 11s - 1ms/step - loss: 0.2719 - mae: 0.4156 - val_loss: 0.2537 - val_mae: 0.4020\n",
      "Epoch 68/100\n",
      "8750/8750 - 11s - 1ms/step - loss: 0.2718 - mae: 0.4157 - val_loss: 0.2540 - val_mae: 0.4022\n",
      "Epoch 69/100\n",
      "8750/8750 - 11s - 1ms/step - loss: 0.2724 - mae: 0.4161 - val_loss: 0.2548 - val_mae: 0.4029\n",
      "Epoch 70/100\n",
      "8750/8750 - 11s - 1ms/step - loss: 0.2723 - mae: 0.4159 - val_loss: 0.2572 - val_mae: 0.4047\n",
      "Epoch 71/100\n",
      "8750/8750 - 11s - 1ms/step - loss: 0.2721 - mae: 0.4158 - val_loss: 0.2554 - val_mae: 0.4033\n",
      "Epoch 72/100\n",
      "8750/8750 - 11s - 1ms/step - loss: 0.2724 - mae: 0.4159 - val_loss: 0.2540 - val_mae: 0.4022\n",
      "Epoch 73/100\n",
      "8750/8750 - 11s - 1ms/step - loss: 0.2724 - mae: 0.4160 - val_loss: 0.2550 - val_mae: 0.4031\n",
      "Epoch 74/100\n",
      "8750/8750 - 11s - 1ms/step - loss: 0.2720 - mae: 0.4159 - val_loss: 0.2548 - val_mae: 0.4028\n",
      "Epoch 75/100\n",
      "8750/8750 - 11s - 1ms/step - loss: 0.2719 - mae: 0.4157 - val_loss: 0.2541 - val_mae: 0.4023\n",
      "Epoch 76/100\n",
      "8750/8750 - 11s - 1ms/step - loss: 0.2719 - mae: 0.4157 - val_loss: 0.2536 - val_mae: 0.4019\n",
      "Epoch 77/100\n",
      "8750/8750 - 11s - 1ms/step - loss: 0.2720 - mae: 0.4157 - val_loss: 0.2521 - val_mae: 0.4008\n",
      "Epoch 78/100\n",
      "8750/8750 - 11s - 1ms/step - loss: 0.2723 - mae: 0.4159 - val_loss: 0.2557 - val_mae: 0.4036\n",
      "Epoch 79/100\n",
      "8750/8750 - 11s - 1ms/step - loss: 0.2720 - mae: 0.4157 - val_loss: 0.2571 - val_mae: 0.4047\n",
      "Epoch 80/100\n",
      "8750/8750 - 11s - 1ms/step - loss: 0.2720 - mae: 0.4159 - val_loss: 0.2524 - val_mae: 0.4010\n",
      "Epoch 81/100\n",
      "8750/8750 - 12s - 1ms/step - loss: 0.2719 - mae: 0.4157 - val_loss: 0.2551 - val_mae: 0.4031\n",
      "Epoch 82/100\n",
      "8750/8750 - 12s - 1ms/step - loss: 0.2719 - mae: 0.4156 - val_loss: 0.2536 - val_mae: 0.4019\n",
      "Epoch 83/100\n",
      "8750/8750 - 12s - 1ms/step - loss: 0.2723 - mae: 0.4159 - val_loss: 0.2571 - val_mae: 0.4048\n",
      "Epoch 84/100\n",
      "8750/8750 - 12s - 1ms/step - loss: 0.2722 - mae: 0.4158 - val_loss: 0.2562 - val_mae: 0.4040\n",
      "Epoch 85/100\n",
      "8750/8750 - 12s - 1ms/step - loss: 0.2722 - mae: 0.4159 - val_loss: 0.2587 - val_mae: 0.4059\n",
      "Epoch 86/100\n",
      "8750/8750 - 12s - 1ms/step - loss: 0.2719 - mae: 0.4158 - val_loss: 0.2556 - val_mae: 0.4035\n",
      "Epoch 87/100\n",
      "8750/8750 - 11s - 1ms/step - loss: 0.2718 - mae: 0.4156 - val_loss: 0.2602 - val_mae: 0.4072\n",
      "Epoch 88/100\n",
      "8750/8750 - 11s - 1ms/step - loss: 0.2720 - mae: 0.4158 - val_loss: 0.2575 - val_mae: 0.4051\n",
      "Epoch 89/100\n",
      "8750/8750 - 11s - 1ms/step - loss: 0.2718 - mae: 0.4156 - val_loss: 0.2535 - val_mae: 0.4018\n",
      "Epoch 90/100\n",
      "8750/8750 - 11s - 1ms/step - loss: 0.2721 - mae: 0.4159 - val_loss: 0.2537 - val_mae: 0.4020\n",
      "Epoch 91/100\n",
      "8750/8750 - 11s - 1ms/step - loss: 0.2719 - mae: 0.4157 - val_loss: 0.2558 - val_mae: 0.4036\n",
      "Epoch 92/100\n",
      "8750/8750 - 11s - 1ms/step - loss: 0.2720 - mae: 0.4158 - val_loss: 0.2537 - val_mae: 0.4020\n",
      "Epoch 93/100\n",
      "8750/8750 - 11s - 1ms/step - loss: 0.2723 - mae: 0.4161 - val_loss: 0.2564 - val_mae: 0.4041\n",
      "Epoch 94/100\n",
      "8750/8750 - 11s - 1ms/step - loss: 0.2721 - mae: 0.4158 - val_loss: 0.2540 - val_mae: 0.4023\n",
      "Epoch 95/100\n",
      "8750/8750 - 11s - 1ms/step - loss: 0.2719 - mae: 0.4157 - val_loss: 0.2524 - val_mae: 0.4010\n",
      "Epoch 96/100\n",
      "8750/8750 - 11s - 1ms/step - loss: 0.2720 - mae: 0.4158 - val_loss: 0.2558 - val_mae: 0.4037\n",
      "Epoch 97/100\n",
      "8750/8750 - 11s - 1ms/step - loss: 0.2717 - mae: 0.4156 - val_loss: 0.2535 - val_mae: 0.4019\n",
      "Epoch 98/100\n",
      "8750/8750 - 11s - 1ms/step - loss: 0.2721 - mae: 0.4159 - val_loss: 0.2563 - val_mae: 0.4041\n",
      "Epoch 99/100\n",
      "8750/8750 - 11s - 1ms/step - loss: 0.2722 - mae: 0.4157 - val_loss: 0.2628 - val_mae: 0.4092\n",
      "Epoch 100/100\n",
      "8750/8750 - 11s - 1ms/step - loss: 0.2727 - mae: 0.4162 - val_loss: 0.2565 - val_mae: 0.4042\n"
     ]
    }
   ],
   "source": [
    "# fit the model (training)\n",
    "#from tensorflow.keras.callbacks import EarlyStopping\n",
    "\n",
    "#early_stop = EarlyStopping(monitor='val_loss', patience=5, restore_best_weights=True)\n",
    "history = model1.fit(X_train, y_train, epochs=100, batch_size=64,\n",
    "                     validation_split=0.3, verbose=2, shuffle=False\n",
    "                    )"
   ]
  },
  {
   "cell_type": "code",
   "execution_count": 151,
   "id": "7645d2d6-eade-42cc-b7b7-a4709d72b209",
   "metadata": {},
   "outputs": [
    {
     "name": "stdout",
     "output_type": "stream",
     "text": [
      "Test mae: 0.403\n"
     ]
    }
   ],
   "source": [
    "loss, mae = model1.evaluate(X_test, y_test, verbose=0)\n",
    "print('Test mae: %.3f' % mae)"
   ]
  },
  {
   "cell_type": "code",
   "execution_count": 153,
   "id": "86036eb7-35d8-4ba7-9806-c1da25ddc42b",
   "metadata": {},
   "outputs": [
    {
     "data": {
      "image/png": "[encoded data removed]",
      "text/plain": [
       "<Figure size 640x480 with 1 Axes>"
      ]
     },
     "metadata": {},
     "output_type": "display_data"
    }
   ],
   "source": [
    "import matplotlib.pyplot as plt\n",
    "plt.plot(history.history['loss'], label='Training Loss')  # Training Loss\n",
    "plt.plot(history.history['val_loss'], label='Validation Loss')  # Validation Loss\n",
    "plt.xlabel(\"Epochs\")\n",
    "plt.ylabel(\"Loss\")\n",
    "plt.legend()\n",
    "plt.title(\"Training vs Validation Loss\")\n",
    "plt.show()"
   ]
  },
  {
   "cell_type": "code",
   "execution_count": 155,
   "id": "06ee3b8a-01bf-4ed6-9a9d-41ead64f4c82",
   "metadata": {},
   "outputs": [
    {
     "name": "stdout",
     "output_type": "stream",
     "text": [
      "\u001b[1m6250/6250\u001b[0m \u001b[32m━━━━━━━━━━━━━━━━━━━━\u001b[0m\u001b[37m\u001b[0m \u001b[1m5s\u001b[0m 747us/step\n"
     ]
    }
   ],
   "source": [
    "y_pred = model1.predict(X_test)"
   ]
  },
  {
   "cell_type": "code",
   "execution_count": 157,
   "id": "6c6c1c66-7554-4236-93a3-1134b3dc1b4d",
   "metadata": {},
   "outputs": [
    {
     "name": "stdout",
     "output_type": "stream",
     "text": [
      "Testing MAE: 0.4026994508993097\n",
      "Testing MSE: 0.25455126376421855\n",
      "Testing R²: 0.911550551502525\n"
     ]
    }
   ],
   "source": [
    "test_mae=mean_absolute_error( y_test, y_pred)\n",
    "print(f\"Testing MAE: {test_mae}\")\n",
    "test_mse=mean_squared_error( y_test, y_pred)\n",
    "print(f\"Testing MSE: {test_mse}\")\n",
    "test_r2 = r2_score(y_test, y_pred)\n",
    "print(f\"Testing R²: {test_r2}\")"
   ]
  },
  {
   "cell_type": "markdown",
   "id": "803f2fc9-1f52-4318-839a-7fa851b6c86f",
   "metadata": {},
   "source": [
    "#  Batch Normalization layer"
   ]
  },
  {
   "cell_type": "code",
   "execution_count": 160,
   "id": "5efd609e-c6bb-413f-ba0c-14b1a12de518",
   "metadata": {},
   "outputs": [
    {
     "name": "stderr",
     "output_type": "stream",
     "text": [
      "P:\\Users\\Lenovo\\anaconda3\\Lib\\site-packages\\keras\\src\\layers\\core\\dense.py:92: UserWarning: Do not pass an `input_shape`/`input_dim` argument to a layer. When using Sequential models, prefer using an `Input(shape)` object as the first layer in the model instead.\n",
      "  super().__init__(activity_regularizer=activity_regularizer, **kwargs)\n"
     ]
    }
   ],
   "source": [
    "from tensorflow.keras.layers import BatchNormalization\n",
    "model1 = Sequential()\n",
    "model1.add(Dense(5, activation='relu', input_shape=(n_features,)))\n",
    "model1.add(Dense(100, activation='relu'))\n",
    "# model1.add(Dense(800, activation='relu'))\n",
    "# model1.add(Dense(8, activation='relu'))\n",
    "model1.add(BatchNormalization())\n",
    "model1.add(Dense(1, activation='linear'))"
   ]
  },
  {
   "cell_type": "code",
   "execution_count": 162,
   "id": "fbe4bb61-1cc2-4c90-8e11-15c6ec927c80",
   "metadata": {},
   "outputs": [],
   "source": [
    "model1.compile(optimizer='adam',loss=\"mse\", metrics=['mae'])"
   ]
  },
  {
   "cell_type": "code",
   "execution_count": 164,
   "id": "4252c887-664f-4016-9083-f2121353ea85",
   "metadata": {},
   "outputs": [
    {
     "name": "stdout",
     "output_type": "stream",
     "text": [
      "Epoch 1/100\n",
      "8750/8750 - 18s - 2ms/step - loss: 3.0456 - mae: 1.4172 - val_loss: 2.8804 - val_mae: 1.3898\n",
      "Epoch 2/100\n",
      "8750/8750 - 12s - 1ms/step - loss: 2.8811 - mae: 1.3896 - val_loss: 2.8804 - val_mae: 1.3898\n",
      "Epoch 3/100\n",
      "8750/8750 - 12s - 1ms/step - loss: 2.8811 - mae: 1.3896 - val_loss: 2.8803 - val_mae: 1.3898\n",
      "Epoch 4/100\n",
      "8750/8750 - 12s - 1ms/step - loss: 2.8811 - mae: 1.3896 - val_loss: 2.8803 - val_mae: 1.3898\n",
      "Epoch 5/100\n",
      "8750/8750 - 12s - 1ms/step - loss: 2.8810 - mae: 1.3896 - val_loss: 2.8803 - val_mae: 1.3898\n",
      "Epoch 6/100\n",
      "8750/8750 - 12s - 1ms/step - loss: 2.8810 - mae: 1.3896 - val_loss: 2.8803 - val_mae: 1.3898\n",
      "Epoch 7/100\n",
      "8750/8750 - 12s - 1ms/step - loss: 2.8810 - mae: 1.3896 - val_loss: 2.8803 - val_mae: 1.3898\n",
      "Epoch 8/100\n",
      "8750/8750 - 13s - 1ms/step - loss: 2.8810 - mae: 1.3896 - val_loss: 2.8803 - val_mae: 1.3898\n",
      "Epoch 9/100\n",
      "8750/8750 - 13s - 1ms/step - loss: 2.8809 - mae: 1.3896 - val_loss: 2.8802 - val_mae: 1.3898\n",
      "Epoch 10/100\n",
      "8750/8750 - 12s - 1ms/step - loss: 2.8809 - mae: 1.3896 - val_loss: 2.8802 - val_mae: 1.3898\n",
      "Epoch 11/100\n",
      "8750/8750 - 16s - 2ms/step - loss: 2.8809 - mae: 1.3896 - val_loss: 2.8802 - val_mae: 1.3898\n",
      "Epoch 12/100\n",
      "8750/8750 - 12s - 1ms/step - loss: 2.8808 - mae: 1.3896 - val_loss: 2.8802 - val_mae: 1.3898\n",
      "Epoch 13/100\n",
      "8750/8750 - 12s - 1ms/step - loss: 2.8808 - mae: 1.3896 - val_loss: 2.8802 - val_mae: 1.3898\n",
      "Epoch 14/100\n",
      "8750/8750 - 12s - 1ms/step - loss: 2.8808 - mae: 1.3896 - val_loss: 2.8801 - val_mae: 1.3898\n",
      "Epoch 15/100\n",
      "8750/8750 - 12s - 1ms/step - loss: 2.8807 - mae: 1.3896 - val_loss: 2.8801 - val_mae: 1.3898\n",
      "Epoch 16/100\n",
      "8750/8750 - 12s - 1ms/step - loss: 2.8806 - mae: 1.3895 - val_loss: 2.8801 - val_mae: 1.3898\n",
      "Epoch 17/100\n",
      "8750/8750 - 15s - 2ms/step - loss: 2.8805 - mae: 1.3895 - val_loss: 2.8800 - val_mae: 1.3897\n",
      "Epoch 18/100\n",
      "8750/8750 - 14s - 2ms/step - loss: 2.8804 - mae: 1.3895 - val_loss: 2.8799 - val_mae: 1.3897\n",
      "Epoch 19/100\n",
      "8750/8750 - 30s - 3ms/step - loss: 2.8803 - mae: 1.3895 - val_loss: 2.8799 - val_mae: 1.3897\n",
      "Epoch 20/100\n",
      "8750/8750 - 29s - 3ms/step - loss: 2.8802 - mae: 1.3895 - val_loss: 2.8799 - val_mae: 1.3897\n",
      "Epoch 21/100\n",
      "8750/8750 - 29s - 3ms/step - loss: 2.8802 - mae: 1.3895 - val_loss: 2.8798 - val_mae: 1.3897\n",
      "Epoch 22/100\n",
      "8750/8750 - 29s - 3ms/step - loss: 2.8801 - mae: 1.3895 - val_loss: 2.8798 - val_mae: 1.3897\n",
      "Epoch 23/100\n",
      "8750/8750 - 29s - 3ms/step - loss: 2.8801 - mae: 1.3894 - val_loss: 2.8798 - val_mae: 1.3897\n",
      "Epoch 24/100\n",
      "8750/8750 - 29s - 3ms/step - loss: 2.8801 - mae: 1.3894 - val_loss: 2.8798 - val_mae: 1.3897\n",
      "Epoch 25/100\n",
      "8750/8750 - 29s - 3ms/step - loss: 2.8800 - mae: 1.3894 - val_loss: 2.8798 - val_mae: 1.3897\n",
      "Epoch 26/100\n",
      "8750/8750 - 28s - 3ms/step - loss: 2.8800 - mae: 1.3894 - val_loss: 2.8797 - val_mae: 1.3897\n",
      "Epoch 27/100\n",
      "8750/8750 - 28s - 3ms/step - loss: 2.8799 - mae: 1.3894 - val_loss: 2.8797 - val_mae: 1.3897\n",
      "Epoch 28/100\n",
      "8750/8750 - 26s - 3ms/step - loss: 2.8799 - mae: 1.3894 - val_loss: 2.8797 - val_mae: 1.3897\n",
      "Epoch 29/100\n",
      "8750/8750 - 29s - 3ms/step - loss: 2.8798 - mae: 1.3894 - val_loss: 2.8797 - val_mae: 1.3897\n",
      "Epoch 30/100\n",
      "8750/8750 - 28s - 3ms/step - loss: 2.8798 - mae: 1.3894 - val_loss: 2.8796 - val_mae: 1.3897\n",
      "Epoch 31/100\n",
      "8750/8750 - 46s - 5ms/step - loss: 2.8797 - mae: 1.3894 - val_loss: 2.8796 - val_mae: 1.3897\n",
      "Epoch 32/100\n",
      "8750/8750 - 29s - 3ms/step - loss: 2.8797 - mae: 1.3894 - val_loss: 2.8796 - val_mae: 1.3897\n",
      "Epoch 33/100\n",
      "8750/8750 - 29s - 3ms/step - loss: 2.8797 - mae: 1.3894 - val_loss: 2.8796 - val_mae: 1.3897\n",
      "Epoch 34/100\n",
      "8750/8750 - 28s - 3ms/step - loss: 2.8796 - mae: 1.3893 - val_loss: 2.8796 - val_mae: 1.3897\n",
      "Epoch 35/100\n",
      "8750/8750 - 29s - 3ms/step - loss: 2.8796 - mae: 1.3893 - val_loss: 2.8796 - val_mae: 1.3897\n",
      "Epoch 36/100\n",
      "8750/8750 - 30s - 3ms/step - loss: 2.8795 - mae: 1.3893 - val_loss: 2.8795 - val_mae: 1.3897\n",
      "Epoch 37/100\n",
      "8750/8750 - 29s - 3ms/step - loss: 2.8795 - mae: 1.3893 - val_loss: 2.8795 - val_mae: 1.3897\n",
      "Epoch 38/100\n",
      "8750/8750 - 29s - 3ms/step - loss: 2.8795 - mae: 1.3893 - val_loss: 2.8795 - val_mae: 1.3897\n",
      "Epoch 39/100\n",
      "8750/8750 - 41s - 5ms/step - loss: 2.8795 - mae: 1.3893 - val_loss: 2.8795 - val_mae: 1.3896\n",
      "Epoch 40/100\n",
      "8750/8750 - 29s - 3ms/step - loss: 2.8794 - mae: 1.3893 - val_loss: 2.8795 - val_mae: 1.3896\n",
      "Epoch 41/100\n",
      "8750/8750 - 29s - 3ms/step - loss: 2.8794 - mae: 1.3893 - val_loss: 2.8795 - val_mae: 1.3896\n",
      "Epoch 42/100\n",
      "8750/8750 - 28s - 3ms/step - loss: 2.8794 - mae: 1.3893 - val_loss: 2.8795 - val_mae: 1.3896\n",
      "Epoch 43/100\n",
      "8750/8750 - 28s - 3ms/step - loss: 2.8794 - mae: 1.3893 - val_loss: 2.8795 - val_mae: 1.3896\n",
      "Epoch 44/100\n",
      "8750/8750 - 29s - 3ms/step - loss: 2.8794 - mae: 1.3893 - val_loss: 2.8795 - val_mae: 1.3896\n",
      "Epoch 45/100\n",
      "8750/8750 - 29s - 3ms/step - loss: 2.8794 - mae: 1.3893 - val_loss: 2.8794 - val_mae: 1.3896\n",
      "Epoch 46/100\n",
      "8750/8750 - 29s - 3ms/step - loss: 2.8793 - mae: 1.3893 - val_loss: 2.8794 - val_mae: 1.3896\n",
      "Epoch 47/100\n",
      "8750/8750 - 29s - 3ms/step - loss: 2.8793 - mae: 1.3893 - val_loss: 2.8794 - val_mae: 1.3896\n",
      "Epoch 48/100\n",
      "8750/8750 - 30s - 3ms/step - loss: 2.8793 - mae: 1.3893 - val_loss: 2.8794 - val_mae: 1.3896\n",
      "Epoch 49/100\n",
      "8750/8750 - 29s - 3ms/step - loss: 2.8792 - mae: 1.3893 - val_loss: 2.8794 - val_mae: 1.3896\n",
      "Epoch 50/100\n",
      "8750/8750 - 29s - 3ms/step - loss: 2.8792 - mae: 1.3893 - val_loss: 2.8794 - val_mae: 1.3896\n",
      "Epoch 51/100\n",
      "8750/8750 - 29s - 3ms/step - loss: 2.8792 - mae: 1.3893 - val_loss: 2.8793 - val_mae: 1.3896\n",
      "Epoch 52/100\n",
      "8750/8750 - 30s - 3ms/step - loss: 2.8792 - mae: 1.3893 - val_loss: 2.8793 - val_mae: 1.3896\n",
      "Epoch 53/100\n",
      "8750/8750 - 29s - 3ms/step - loss: 2.8791 - mae: 1.3892 - val_loss: 2.8793 - val_mae: 1.3896\n",
      "Epoch 54/100\n",
      "8750/8750 - 28s - 3ms/step - loss: 2.8791 - mae: 1.3892 - val_loss: 2.8793 - val_mae: 1.3896\n",
      "Epoch 55/100\n",
      "8750/8750 - 28s - 3ms/step - loss: 2.8791 - mae: 1.3892 - val_loss: 2.8793 - val_mae: 1.3896\n",
      "Epoch 56/100\n",
      "8750/8750 - 29s - 3ms/step - loss: 2.8791 - mae: 1.3892 - val_loss: 2.8793 - val_mae: 1.3896\n",
      "Epoch 57/100\n",
      "8750/8750 - 29s - 3ms/step - loss: 2.8791 - mae: 1.3892 - val_loss: 2.8792 - val_mae: 1.3896\n",
      "Epoch 58/100\n",
      "8750/8750 - 30s - 3ms/step - loss: 2.8790 - mae: 1.3892 - val_loss: 2.8792 - val_mae: 1.3896\n",
      "Epoch 59/100\n",
      "8750/8750 - 29s - 3ms/step - loss: 2.8790 - mae: 1.3892 - val_loss: 2.8792 - val_mae: 1.3896\n",
      "Epoch 60/100\n",
      "8750/8750 - 29s - 3ms/step - loss: 2.8790 - mae: 1.3892 - val_loss: 2.8792 - val_mae: 1.3896\n",
      "Epoch 61/100\n",
      "8750/8750 - 29s - 3ms/step - loss: 2.8789 - mae: 1.3892 - val_loss: 2.8792 - val_mae: 1.3896\n",
      "Epoch 62/100\n",
      "8750/8750 - 29s - 3ms/step - loss: 2.8789 - mae: 1.3892 - val_loss: 2.8791 - val_mae: 1.3896\n",
      "Epoch 63/100\n",
      "8750/8750 - 29s - 3ms/step - loss: 2.8789 - mae: 1.3892 - val_loss: 2.8791 - val_mae: 1.3896\n",
      "Epoch 64/100\n",
      "8750/8750 - 28s - 3ms/step - loss: 2.8789 - mae: 1.3892 - val_loss: 2.8791 - val_mae: 1.3896\n",
      "Epoch 65/100\n",
      "8750/8750 - 29s - 3ms/step - loss: 2.8788 - mae: 1.3892 - val_loss: 2.8791 - val_mae: 1.3896\n",
      "Epoch 66/100\n",
      "8750/8750 - 29s - 3ms/step - loss: 2.8788 - mae: 1.3892 - val_loss: 2.8790 - val_mae: 1.3896\n",
      "Epoch 67/100\n",
      "8750/8750 - 29s - 3ms/step - loss: 2.8788 - mae: 1.3892 - val_loss: 2.8790 - val_mae: 1.3896\n",
      "Epoch 68/100\n",
      "8750/8750 - 28s - 3ms/step - loss: 2.8787 - mae: 1.3892 - val_loss: 2.8790 - val_mae: 1.3895\n",
      "Epoch 69/100\n",
      "8750/8750 - 29s - 3ms/step - loss: 2.8787 - mae: 1.3891 - val_loss: 2.8789 - val_mae: 1.3895\n",
      "Epoch 70/100\n",
      "8750/8750 - 29s - 3ms/step - loss: 2.8787 - mae: 1.3891 - val_loss: 2.8789 - val_mae: 1.3895\n",
      "Epoch 71/100\n",
      "8750/8750 - 40s - 5ms/step - loss: 2.8786 - mae: 1.3891 - val_loss: 2.8789 - val_mae: 1.3895\n",
      "Epoch 72/100\n",
      "8750/8750 - 28s - 3ms/step - loss: 2.8786 - mae: 1.3891 - val_loss: 2.8789 - val_mae: 1.3895\n",
      "Epoch 73/100\n",
      "8750/8750 - 28s - 3ms/step - loss: 2.8786 - mae: 1.3891 - val_loss: 2.8789 - val_mae: 1.3895\n",
      "Epoch 74/100\n",
      "8750/8750 - 29s - 3ms/step - loss: 2.8786 - mae: 1.3891 - val_loss: 2.8789 - val_mae: 1.3895\n",
      "Epoch 75/100\n",
      "8750/8750 - 28s - 3ms/step - loss: 2.8786 - mae: 1.3891 - val_loss: 2.8789 - val_mae: 1.3895\n",
      "Epoch 76/100\n",
      "8750/8750 - 28s - 3ms/step - loss: 2.8786 - mae: 1.3891 - val_loss: 2.8789 - val_mae: 1.3895\n",
      "Epoch 77/100\n",
      "8750/8750 - 28s - 3ms/step - loss: 2.8786 - mae: 1.3891 - val_loss: 2.8789 - val_mae: 1.3895\n",
      "Epoch 78/100\n",
      "8750/8750 - 28s - 3ms/step - loss: 2.8786 - mae: 1.3891 - val_loss: 2.8788 - val_mae: 1.3895\n",
      "Epoch 79/100\n",
      "8750/8750 - 28s - 3ms/step - loss: 2.8785 - mae: 1.3891 - val_loss: 2.8788 - val_mae: 1.3895\n",
      "Epoch 80/100\n",
      "8750/8750 - 41s - 5ms/step - loss: 2.8785 - mae: 1.3891 - val_loss: 2.8788 - val_mae: 1.3895\n",
      "Epoch 81/100\n",
      "8750/8750 - 28s - 3ms/step - loss: 2.8785 - mae: 1.3891 - val_loss: 2.8788 - val_mae: 1.3895\n",
      "Epoch 82/100\n",
      "8750/8750 - 28s - 3ms/step - loss: 2.8785 - mae: 1.3891 - val_loss: 2.8788 - val_mae: 1.3895\n",
      "Epoch 83/100\n",
      "8750/8750 - 28s - 3ms/step - loss: 2.8785 - mae: 1.3891 - val_loss: 2.8788 - val_mae: 1.3895\n",
      "Epoch 84/100\n",
      "8750/8750 - 190s - 22ms/step - loss: 2.8785 - mae: 1.3891 - val_loss: 2.8788 - val_mae: 1.3895\n",
      "Epoch 85/100\n",
      "8750/8750 - 14s - 2ms/step - loss: 2.8785 - mae: 1.3891 - val_loss: 2.8788 - val_mae: 1.3895\n",
      "Epoch 86/100\n",
      "8750/8750 - 14s - 2ms/step - loss: 2.8785 - mae: 1.3891 - val_loss: 2.8788 - val_mae: 1.3895\n",
      "Epoch 87/100\n",
      "8750/8750 - 13s - 2ms/step - loss: 2.8785 - mae: 1.3891 - val_loss: 2.8788 - val_mae: 1.3895\n",
      "Epoch 88/100\n",
      "8750/8750 - 14s - 2ms/step - loss: 2.8785 - mae: 1.3891 - val_loss: 2.8788 - val_mae: 1.3895\n",
      "Epoch 89/100\n",
      "8750/8750 - 14s - 2ms/step - loss: 2.8785 - mae: 1.3891 - val_loss: 2.8788 - val_mae: 1.3895\n",
      "Epoch 90/100\n",
      "8750/8750 - 14s - 2ms/step - loss: 2.8784 - mae: 1.3891 - val_loss: 2.8787 - val_mae: 1.3895\n",
      "Epoch 91/100\n",
      "8750/8750 - 26s - 3ms/step - loss: 2.8784 - mae: 1.3891 - val_loss: 2.8788 - val_mae: 1.3895\n",
      "Epoch 92/100\n",
      "8750/8750 - 26s - 3ms/step - loss: 2.8784 - mae: 1.3891 - val_loss: 2.8787 - val_mae: 1.3895\n",
      "Epoch 93/100\n",
      "8750/8750 - 26s - 3ms/step - loss: 2.8784 - mae: 1.3891 - val_loss: 2.8788 - val_mae: 1.3895\n",
      "Epoch 94/100\n",
      "8750/8750 - 27s - 3ms/step - loss: 2.8784 - mae: 1.3891 - val_loss: 2.8788 - val_mae: 1.3895\n",
      "Epoch 95/100\n",
      "8750/8750 - 26s - 3ms/step - loss: 2.8784 - mae: 1.3891 - val_loss: 2.8787 - val_mae: 1.3895\n",
      "Epoch 96/100\n",
      "8750/8750 - 26s - 3ms/step - loss: 2.8784 - mae: 1.3891 - val_loss: 2.8787 - val_mae: 1.3895\n",
      "Epoch 97/100\n",
      "8750/8750 - 26s - 3ms/step - loss: 2.8784 - mae: 1.3891 - val_loss: 2.8787 - val_mae: 1.3895\n",
      "Epoch 98/100\n",
      "8750/8750 - 26s - 3ms/step - loss: 2.8784 - mae: 1.3891 - val_loss: 2.8787 - val_mae: 1.3895\n",
      "Epoch 99/100\n",
      "8750/8750 - 41s - 5ms/step - loss: 2.8784 - mae: 1.3891 - val_loss: 2.8787 - val_mae: 1.3895\n",
      "Epoch 100/100\n",
      "8750/8750 - 26s - 3ms/step - loss: 2.8784 - mae: 1.3891 - val_loss: 2.8787 - val_mae: 1.3895\n"
     ]
    }
   ],
   "source": [
    "# fit the model (training)\n",
    "history = model1.fit( X_train, y_train, epochs=100, batch_size=64,\n",
    "                     validation_split=0.3, verbose=2,shuffle=False)"
   ]
  },
  {
   "cell_type": "code",
   "execution_count": 165,
   "id": "0520970e-2349-4736-88e4-45b4f030b121",
   "metadata": {},
   "outputs": [
    {
     "name": "stdout",
     "output_type": "stream",
     "text": [
      "Test mae: 1.389\n"
     ]
    }
   ],
   "source": [
    "loss, mae = model1.evaluate(X_test, y_test, verbose=0)\n",
    "print('Test mae: %.3f' % mae)"
   ]
  },
  {
   "cell_type": "code",
   "execution_count": 166,
   "id": "9f54ce9c-7256-45d4-b3d4-7d60ebb2583a",
   "metadata": {},
   "outputs": [
    {
     "data": {
      "image/png": "[encoded data removed]",
      "text/plain": [
       "<Figure size 640x480 with 1 Axes>"
      ]
     },
     "metadata": {},
     "output_type": "display_data"
    }
   ],
   "source": [
    "import matplotlib.pyplot as plt\n",
    "plt.plot(history.history['loss'], label='Training Loss')  # Training Loss\n",
    "plt.plot(history.history['val_loss'], label='Validation Loss')  # Validation Loss\n",
    "plt.xlabel(\"Epochs\")\n",
    "plt.ylabel(\"Loss\")\n",
    "plt.legend()\n",
    "plt.title(\"Training vs Validation Loss\")\n",
    "plt.show()"
   ]
  },
  {
   "cell_type": "code",
   "execution_count": 167,
   "id": "84707de7-237d-4532-ac98-2e0147129375",
   "metadata": {},
   "outputs": [
    {
     "name": "stdout",
     "output_type": "stream",
     "text": [
      "\u001b[1m6250/6250\u001b[0m \u001b[32m━━━━━━━━━━━━━━━━━━━━\u001b[0m\u001b[37m\u001b[0m \u001b[1m11s\u001b[0m 2ms/step\n"
     ]
    }
   ],
   "source": [
    "y_pred = model1.predict(X_test)"
   ]
  },
  {
   "cell_type": "code",
   "execution_count": 168,
   "id": "a621112a-9776-47ac-bb28-36e6c3cd4a48",
   "metadata": {},
   "outputs": [
    {
     "name": "stdout",
     "output_type": "stream",
     "text": [
      "Testing MAE: 1.3893280946384352\n",
      "Testing MSE: 2.878835761487136\n",
      "Testing R²: -0.0003149528819526015\n"
     ]
    }
   ],
   "source": [
    "test_mae=mean_absolute_error( y_test, y_pred)\n",
    "print(f\"Testing MAE: {test_mae}\")\n",
    "test_mse=mean_squared_error( y_test, y_pred)\n",
    "print(f\"Testing MSE: {test_mse}\")\n",
    "test_r2 = r2_score(y_test, y_pred)\n",
    "print(f\"Testing R²: {test_r2}\")"
   ]
  },
  {
   "cell_type": "markdown",
   "id": "6f89d799-05c3-4d59-8666-5b23204d5b08",
   "metadata": {},
   "source": [
    "#  L1 & L2 regularization"
   ]
  },
  {
   "cell_type": "code",
   "execution_count": 170,
   "id": "2c1b9a94-19a1-4226-98d6-49c36109cd33",
   "metadata": {},
   "outputs": [
    {
     "name": "stderr",
     "output_type": "stream",
     "text": [
      "P:\\Users\\Lenovo\\anaconda3\\Lib\\site-packages\\keras\\src\\layers\\core\\dense.py:92: UserWarning: Do not pass an `input_shape`/`input_dim` argument to a layer. When using Sequential models, prefer using an `Input(shape)` object as the first layer in the model instead.\n",
      "  super().__init__(activity_regularizer=activity_regularizer, **kwargs)\n"
     ]
    }
   ],
   "source": [
    "from tensorflow.keras import regularizers\n",
    "model1 = Sequential()\n",
    "model1.add(Dense(5,  kernel_regularizer=regularizers.L1L2(),\n",
    "                 activation='relu', input_shape=(n_features,)))\n",
    "model1.add(Dense(100, activation='relu'))\n",
    "#model1.add(Dense(400, activation='relu'))\n",
    "# model1.add(Dense(8, activation='relu'))\n",
    "model1.add(Dense(1, activation='linear'))"
   ]
  },
  {
   "cell_type": "code",
   "execution_count": 171,
   "id": "de7992dc-5c2f-48e4-93c4-99a0470f93a0",
   "metadata": {},
   "outputs": [],
   "source": [
    "from tensorflow.keras.optimizers import Adam\n",
    "model1.compile(optimizer=Adam(learning_rate=0.001),loss=\"mse\", metrics=['mae'])"
   ]
  },
  {
   "cell_type": "code",
   "execution_count": 172,
   "id": "ddddb24c-4e11-438a-b3f2-ac4627f3426f",
   "metadata": {},
   "outputs": [
    {
     "name": "stdout",
     "output_type": "stream",
     "text": [
      "Epoch 1/100\n",
      "8750/8750 - 27s - 3ms/step - loss: 0.6047 - mae: 0.5660 - val_loss: 0.4068 - val_mae: 0.5146\n",
      "Epoch 2/100\n",
      "8750/8750 - 26s - 3ms/step - loss: 0.3155 - mae: 0.4472 - val_loss: 0.2638 - val_mae: 0.4099\n",
      "Epoch 3/100\n",
      "8750/8750 - 24s - 3ms/step - loss: 0.3028 - mae: 0.4385 - val_loss: 0.2767 - val_mae: 0.4201\n",
      "Epoch 4/100\n",
      "8750/8750 - 26s - 3ms/step - loss: 0.2938 - mae: 0.4319 - val_loss: 0.3967 - val_mae: 0.5089\n",
      "Epoch 5/100\n",
      "8750/8750 - 26s - 3ms/step - loss: 0.2860 - mae: 0.4264 - val_loss: 0.3639 - val_mae: 0.4855\n",
      "Epoch 6/100\n",
      "8750/8750 - 25s - 3ms/step - loss: 0.2798 - mae: 0.4218 - val_loss: 0.2570 - val_mae: 0.4045\n",
      "Epoch 7/100\n",
      "8750/8750 - 24s - 3ms/step - loss: 0.2748 - mae: 0.4179 - val_loss: 0.2524 - val_mae: 0.4009\n",
      "Epoch 8/100\n",
      "8750/8750 - 23s - 3ms/step - loss: 0.2690 - mae: 0.4136 - val_loss: 0.2518 - val_mae: 0.4004\n",
      "Epoch 9/100\n",
      "8750/8750 - 23s - 3ms/step - loss: 0.2650 - mae: 0.4106 - val_loss: 0.2558 - val_mae: 0.4036\n",
      "Epoch 10/100\n",
      "8750/8750 - 27s - 3ms/step - loss: 0.2620 - mae: 0.4083 - val_loss: 0.2595 - val_mae: 0.4066\n",
      "Epoch 11/100\n",
      "8750/8750 - 23s - 3ms/step - loss: 0.2598 - mae: 0.4066 - val_loss: 0.2619 - val_mae: 0.4083\n",
      "Epoch 12/100\n",
      "8750/8750 - 24s - 3ms/step - loss: 0.2583 - mae: 0.4054 - val_loss: 0.2643 - val_mae: 0.4103\n",
      "Epoch 13/100\n",
      "8750/8750 - 23s - 3ms/step - loss: 0.2574 - mae: 0.4048 - val_loss: 0.2596 - val_mae: 0.4066\n",
      "Epoch 14/100\n",
      "8750/8750 - 23s - 3ms/step - loss: 0.2567 - mae: 0.4042 - val_loss: 0.2560 - val_mae: 0.4037\n",
      "Epoch 15/100\n",
      "8750/8750 - 23s - 3ms/step - loss: 0.2561 - mae: 0.4037 - val_loss: 0.2543 - val_mae: 0.4024\n",
      "Epoch 16/100\n",
      "8750/8750 - 23s - 3ms/step - loss: 0.2556 - mae: 0.4033 - val_loss: 0.2535 - val_mae: 0.4018\n",
      "Epoch 17/100\n",
      "8750/8750 - 24s - 3ms/step - loss: 0.2554 - mae: 0.4032 - val_loss: 0.2530 - val_mae: 0.4013\n",
      "Epoch 18/100\n",
      "8750/8750 - 23s - 3ms/step - loss: 0.2553 - mae: 0.4031 - val_loss: 0.2526 - val_mae: 0.4011\n",
      "Epoch 19/100\n",
      "8750/8750 - 23s - 3ms/step - loss: 0.2552 - mae: 0.4030 - val_loss: 0.2523 - val_mae: 0.4008\n",
      "Epoch 20/100\n",
      "8750/8750 - 23s - 3ms/step - loss: 0.2551 - mae: 0.4030 - val_loss: 0.2520 - val_mae: 0.4006\n",
      "Epoch 21/100\n",
      "8750/8750 - 23s - 3ms/step - loss: 0.2550 - mae: 0.4029 - val_loss: 0.2517 - val_mae: 0.4004\n",
      "Epoch 22/100\n",
      "8750/8750 - 24s - 3ms/step - loss: 0.2550 - mae: 0.4028 - val_loss: 0.2516 - val_mae: 0.4002\n",
      "Epoch 23/100\n",
      "8750/8750 - 23s - 3ms/step - loss: 0.2549 - mae: 0.4028 - val_loss: 0.2515 - val_mae: 0.4002\n",
      "Epoch 24/100\n",
      "8750/8750 - 23s - 3ms/step - loss: 0.2549 - mae: 0.4028 - val_loss: 0.2515 - val_mae: 0.4002\n",
      "Epoch 25/100\n",
      "8750/8750 - 23s - 3ms/step - loss: 0.2548 - mae: 0.4027 - val_loss: 0.2515 - val_mae: 0.4002\n",
      "Epoch 26/100\n",
      "8750/8750 - 23s - 3ms/step - loss: 0.2548 - mae: 0.4027 - val_loss: 0.2517 - val_mae: 0.4003\n",
      "Epoch 27/100\n",
      "8750/8750 - 23s - 3ms/step - loss: 0.2547 - mae: 0.4026 - val_loss: 0.2518 - val_mae: 0.4005\n",
      "Epoch 28/100\n",
      "8750/8750 - 24s - 3ms/step - loss: 0.2547 - mae: 0.4026 - val_loss: 0.2520 - val_mae: 0.4006\n",
      "Epoch 29/100\n",
      "8750/8750 - 23s - 3ms/step - loss: 0.2546 - mae: 0.4026 - val_loss: 0.2523 - val_mae: 0.4008\n",
      "Epoch 30/100\n",
      "8750/8750 - 23s - 3ms/step - loss: 0.2546 - mae: 0.4025 - val_loss: 0.2526 - val_mae: 0.4011\n",
      "Epoch 31/100\n",
      "8750/8750 - 23s - 3ms/step - loss: 0.2545 - mae: 0.4025 - val_loss: 0.2529 - val_mae: 0.4013\n",
      "Epoch 32/100\n",
      "8750/8750 - 23s - 3ms/step - loss: 0.2545 - mae: 0.4025 - val_loss: 0.2533 - val_mae: 0.4016\n",
      "Epoch 33/100\n",
      "8750/8750 - 24s - 3ms/step - loss: 0.2545 - mae: 0.4025 - val_loss: 0.2536 - val_mae: 0.4019\n",
      "Epoch 34/100\n",
      "8750/8750 - 23s - 3ms/step - loss: 0.2544 - mae: 0.4024 - val_loss: 0.2541 - val_mae: 0.4022\n",
      "Epoch 35/100\n",
      "8750/8750 - 23s - 3ms/step - loss: 0.2544 - mae: 0.4024 - val_loss: 0.2548 - val_mae: 0.4028\n",
      "Epoch 36/100\n",
      "8750/8750 - 23s - 3ms/step - loss: 0.2544 - mae: 0.4024 - val_loss: 0.2559 - val_mae: 0.4037\n",
      "Epoch 37/100\n",
      "8750/8750 - 23s - 3ms/step - loss: 0.2543 - mae: 0.4023 - val_loss: 0.2558 - val_mae: 0.4036\n",
      "Epoch 38/100\n",
      "8750/8750 - 24s - 3ms/step - loss: 0.2543 - mae: 0.4023 - val_loss: 0.2560 - val_mae: 0.4038\n",
      "Epoch 39/100\n",
      "8750/8750 - 23s - 3ms/step - loss: 0.2542 - mae: 0.4023 - val_loss: 0.2561 - val_mae: 0.4039\n",
      "Epoch 40/100\n",
      "8750/8750 - 23s - 3ms/step - loss: 0.2542 - mae: 0.4022 - val_loss: 0.2563 - val_mae: 0.4040\n",
      "Epoch 41/100\n",
      "8750/8750 - 23s - 3ms/step - loss: 0.2542 - mae: 0.4022 - val_loss: 0.2564 - val_mae: 0.4041\n",
      "Epoch 42/100\n",
      "8750/8750 - 23s - 3ms/step - loss: 0.2541 - mae: 0.4022 - val_loss: 0.2563 - val_mae: 0.4040\n",
      "Epoch 43/100\n",
      "8750/8750 - 24s - 3ms/step - loss: 0.2541 - mae: 0.4022 - val_loss: 0.2565 - val_mae: 0.4042\n",
      "Epoch 44/100\n",
      "8750/8750 - 23s - 3ms/step - loss: 0.2541 - mae: 0.4021 - val_loss: 0.2566 - val_mae: 0.4042\n",
      "Epoch 45/100\n",
      "8750/8750 - 23s - 3ms/step - loss: 0.2540 - mae: 0.4021 - val_loss: 0.2566 - val_mae: 0.4043\n",
      "Epoch 46/100\n",
      "8750/8750 - 24s - 3ms/step - loss: 0.2540 - mae: 0.4021 - val_loss: 0.2565 - val_mae: 0.4042\n",
      "Epoch 47/100\n",
      "8750/8750 - 23s - 3ms/step - loss: 0.2540 - mae: 0.4021 - val_loss: 0.2564 - val_mae: 0.4041\n",
      "Epoch 48/100\n",
      "8750/8750 - 23s - 3ms/step - loss: 0.2539 - mae: 0.4021 - val_loss: 0.2564 - val_mae: 0.4041\n",
      "Epoch 49/100\n",
      "8750/8750 - 24s - 3ms/step - loss: 0.2539 - mae: 0.4020 - val_loss: 0.2562 - val_mae: 0.4040\n",
      "Epoch 50/100\n",
      "8750/8750 - 23s - 3ms/step - loss: 0.2539 - mae: 0.4020 - val_loss: 0.2562 - val_mae: 0.4039\n",
      "Epoch 51/100\n",
      "8750/8750 - 23s - 3ms/step - loss: 0.2538 - mae: 0.4019 - val_loss: 0.2559 - val_mae: 0.4037\n",
      "Epoch 52/100\n",
      "8750/8750 - 23s - 3ms/step - loss: 0.2537 - mae: 0.4019 - val_loss: 0.2559 - val_mae: 0.4037\n",
      "Epoch 53/100\n",
      "8750/8750 - 23s - 3ms/step - loss: 0.2537 - mae: 0.4019 - val_loss: 0.2558 - val_mae: 0.4036\n",
      "Epoch 54/100\n",
      "8750/8750 - 24s - 3ms/step - loss: 0.2537 - mae: 0.4018 - val_loss: 0.2558 - val_mae: 0.4036\n",
      "Epoch 55/100\n",
      "8750/8750 - 23s - 3ms/step - loss: 0.2537 - mae: 0.4018 - val_loss: 0.2557 - val_mae: 0.4035\n",
      "Epoch 56/100\n",
      "8750/8750 - 23s - 3ms/step - loss: 0.2537 - mae: 0.4018 - val_loss: 0.2556 - val_mae: 0.4035\n",
      "Epoch 57/100\n",
      "8750/8750 - 23s - 3ms/step - loss: 0.2536 - mae: 0.4018 - val_loss: 0.2556 - val_mae: 0.4034\n",
      "Epoch 58/100\n",
      "8750/8750 - 23s - 3ms/step - loss: 0.2536 - mae: 0.4018 - val_loss: 0.2555 - val_mae: 0.4034\n",
      "Epoch 59/100\n",
      "8750/8750 - 25s - 3ms/step - loss: 0.2536 - mae: 0.4018 - val_loss: 0.2554 - val_mae: 0.4033\n",
      "Epoch 60/100\n",
      "8750/8750 - 23s - 3ms/step - loss: 0.2536 - mae: 0.4018 - val_loss: 0.2554 - val_mae: 0.4033\n",
      "Epoch 61/100\n",
      "8750/8750 - 23s - 3ms/step - loss: 0.2536 - mae: 0.4018 - val_loss: 0.2553 - val_mae: 0.4032\n",
      "Epoch 62/100\n",
      "8750/8750 - 23s - 3ms/step - loss: 0.2536 - mae: 0.4017 - val_loss: 0.2552 - val_mae: 0.4031\n",
      "Epoch 63/100\n",
      "8750/8750 - 23s - 3ms/step - loss: 0.2535 - mae: 0.4017 - val_loss: 0.2551 - val_mae: 0.4031\n",
      "Epoch 64/100\n",
      "8750/8750 - 24s - 3ms/step - loss: 0.2535 - mae: 0.4017 - val_loss: 0.2550 - val_mae: 0.4030\n",
      "Epoch 65/100\n",
      "8750/8750 - 23s - 3ms/step - loss: 0.2535 - mae: 0.4017 - val_loss: 0.2549 - val_mae: 0.4029\n",
      "Epoch 66/100\n",
      "8750/8750 - 23s - 3ms/step - loss: 0.2535 - mae: 0.4017 - val_loss: 0.2548 - val_mae: 0.4028\n",
      "Epoch 67/100\n",
      "8750/8750 - 23s - 3ms/step - loss: 0.2535 - mae: 0.4017 - val_loss: 0.2547 - val_mae: 0.4027\n",
      "Epoch 68/100\n",
      "8750/8750 - 23s - 3ms/step - loss: 0.2534 - mae: 0.4017 - val_loss: 0.2546 - val_mae: 0.4026\n",
      "Epoch 69/100\n",
      "8750/8750 - 23s - 3ms/step - loss: 0.2534 - mae: 0.4016 - val_loss: 0.2544 - val_mae: 0.4025\n",
      "Epoch 70/100\n",
      "8750/8750 - 24s - 3ms/step - loss: 0.2534 - mae: 0.4016 - val_loss: 0.2541 - val_mae: 0.4023\n",
      "Epoch 71/100\n",
      "8750/8750 - 23s - 3ms/step - loss: 0.2533 - mae: 0.4016 - val_loss: 0.2538 - val_mae: 0.4020\n",
      "Epoch 72/100\n",
      "8750/8750 - 23s - 3ms/step - loss: 0.2533 - mae: 0.4015 - val_loss: 0.2534 - val_mae: 0.4017\n",
      "Epoch 73/100\n",
      "8750/8750 - 23s - 3ms/step - loss: 0.2532 - mae: 0.4015 - val_loss: 0.2533 - val_mae: 0.4016\n",
      "Epoch 74/100\n",
      "8750/8750 - 23s - 3ms/step - loss: 0.2532 - mae: 0.4015 - val_loss: 0.2533 - val_mae: 0.4016\n",
      "Epoch 75/100\n",
      "8750/8750 - 24s - 3ms/step - loss: 0.2532 - mae: 0.4015 - val_loss: 0.2532 - val_mae: 0.4015\n",
      "Epoch 76/100\n",
      "8750/8750 - 23s - 3ms/step - loss: 0.2532 - mae: 0.4015 - val_loss: 0.2531 - val_mae: 0.4015\n",
      "Epoch 77/100\n",
      "8750/8750 - 23s - 3ms/step - loss: 0.2532 - mae: 0.4014 - val_loss: 0.2531 - val_mae: 0.4015\n",
      "Epoch 78/100\n",
      "8750/8750 - 41s - 5ms/step - loss: 0.2532 - mae: 0.4014 - val_loss: 0.2530 - val_mae: 0.4014\n",
      "Epoch 79/100\n",
      "8750/8750 - 24s - 3ms/step - loss: 0.2532 - mae: 0.4014 - val_loss: 0.2530 - val_mae: 0.4014\n",
      "Epoch 80/100\n",
      "8750/8750 - 23s - 3ms/step - loss: 0.2532 - mae: 0.4014 - val_loss: 0.2530 - val_mae: 0.4013\n",
      "Epoch 81/100\n",
      "8750/8750 - 23s - 3ms/step - loss: 0.2532 - mae: 0.4014 - val_loss: 0.2529 - val_mae: 0.4013\n",
      "Epoch 82/100\n",
      "8750/8750 - 23s - 3ms/step - loss: 0.2531 - mae: 0.4014 - val_loss: 0.2529 - val_mae: 0.4013\n",
      "Epoch 83/100\n",
      "8750/8750 - 23s - 3ms/step - loss: 0.2531 - mae: 0.4014 - val_loss: 0.2528 - val_mae: 0.4012\n",
      "Epoch 84/100\n",
      "8750/8750 - 23s - 3ms/step - loss: 0.2531 - mae: 0.4014 - val_loss: 0.2528 - val_mae: 0.4012\n",
      "Epoch 85/100\n",
      "8750/8750 - 25s - 3ms/step - loss: 0.2531 - mae: 0.4014 - val_loss: 0.2527 - val_mae: 0.4012\n",
      "Epoch 86/100\n",
      "8750/8750 - 23s - 3ms/step - loss: 0.2531 - mae: 0.4014 - val_loss: 0.2527 - val_mae: 0.4012\n",
      "Epoch 87/100\n",
      "8750/8750 - 23s - 3ms/step - loss: 0.2531 - mae: 0.4014 - val_loss: 0.2527 - val_mae: 0.4011\n",
      "Epoch 88/100\n",
      "8750/8750 - 25s - 3ms/step - loss: 0.2531 - mae: 0.4014 - val_loss: 0.2526 - val_mae: 0.4011\n",
      "Epoch 89/100\n",
      "8750/8750 - 29s - 3ms/step - loss: 0.2531 - mae: 0.4014 - val_loss: 0.2526 - val_mae: 0.4011\n",
      "Epoch 90/100\n",
      "8750/8750 - 24s - 3ms/step - loss: 0.2531 - mae: 0.4014 - val_loss: 0.2526 - val_mae: 0.4010\n",
      "Epoch 91/100\n",
      "8750/8750 - 25s - 3ms/step - loss: 0.2531 - mae: 0.4014 - val_loss: 0.2525 - val_mae: 0.4010\n",
      "Epoch 92/100\n",
      "8750/8750 - 23s - 3ms/step - loss: 0.2531 - mae: 0.4014 - val_loss: 0.2525 - val_mae: 0.4010\n",
      "Epoch 93/100\n",
      "8750/8750 - 41s - 5ms/step - loss: 0.2531 - mae: 0.4014 - val_loss: 0.2525 - val_mae: 0.4010\n",
      "Epoch 94/100\n",
      "8750/8750 - 24s - 3ms/step - loss: 0.2531 - mae: 0.4014 - val_loss: 0.2525 - val_mae: 0.4010\n",
      "Epoch 95/100\n",
      "8750/8750 - 23s - 3ms/step - loss: 0.2531 - mae: 0.4013 - val_loss: 0.2524 - val_mae: 0.4009\n",
      "Epoch 96/100\n",
      "8750/8750 - 23s - 3ms/step - loss: 0.2530 - mae: 0.4013 - val_loss: 0.2524 - val_mae: 0.4009\n",
      "Epoch 97/100\n",
      "8750/8750 - 23s - 3ms/step - loss: 0.2530 - mae: 0.4013 - val_loss: 0.2524 - val_mae: 0.4009\n",
      "Epoch 98/100\n",
      "8750/8750 - 23s - 3ms/step - loss: 0.2530 - mae: 0.4013 - val_loss: 0.2524 - val_mae: 0.4009\n",
      "Epoch 99/100\n",
      "8750/8750 - 24s - 3ms/step - loss: 0.2530 - mae: 0.4013 - val_loss: 0.2523 - val_mae: 0.4009\n",
      "Epoch 100/100\n",
      "8750/8750 - 23s - 3ms/step - loss: 0.2530 - mae: 0.4013 - val_loss: 0.2523 - val_mae: 0.4008\n"
     ]
    }
   ],
   "source": [
    "# fit the model (training)\n",
    "history = model1.fit( X_train, y_train, epochs=100, batch_size=64,\n",
    "                     validation_split=0.3, verbose=2,shuffle=False)"
   ]
  },
  {
   "cell_type": "code",
   "execution_count": 173,
   "id": "23dc9512-2191-4f9a-8a00-82ad92d401c6",
   "metadata": {},
   "outputs": [
    {
     "name": "stdout",
     "output_type": "stream",
     "text": [
      "Test mae: 0.399\n"
     ]
    }
   ],
   "source": [
    "loss, mae = model1.evaluate(X_test, y_test, verbose=0)\n",
    "print('Test mae: %.3f' % mae)"
   ]
  },
  {
   "cell_type": "code",
   "execution_count": 174,
   "id": "6d896230-b882-4f1b-a28b-8c8b95b24fb0",
   "metadata": {},
   "outputs": [
    {
     "data": {
      "image/png": "[encoded data removed]",
      "text/plain": [
       "<Figure size 640x480 with 1 Axes>"
      ]
     },
     "metadata": {},
     "output_type": "display_data"
    }
   ],
   "source": [
    "import matplotlib.pyplot as plt\n",
    "plt.plot(history.history['loss'], label='Training Loss')  # Training Loss\n",
    "plt.plot(history.history['val_loss'], label='Validation Loss')  # Validation Loss\n",
    "plt.xlabel(\"Epochs\")\n",
    "plt.ylabel(\"Loss\")\n",
    "plt.legend()\n",
    "plt.title(\"Training vs Validation Loss\")\n",
    "plt.show()"
   ]
  },
  {
   "cell_type": "code",
   "execution_count": 175,
   "id": "32e61f12-0eb1-4d2f-b0fb-6d194926dccf",
   "metadata": {},
   "outputs": [
    {
     "name": "stdout",
     "output_type": "stream",
     "text": [
      "\u001b[1m6250/6250\u001b[0m \u001b[32m━━━━━━━━━━━━━━━━━━━━\u001b[0m\u001b[37m\u001b[0m \u001b[1m9s\u001b[0m 1ms/step\n"
     ]
    }
   ],
   "source": [
    "y_pred = model1.predict(X_test)"
   ]
  },
  {
   "cell_type": "code",
   "execution_count": 176,
   "id": "35c5f6f1-2a04-4ecc-b226-5a2159e53002",
   "metadata": {},
   "outputs": [
    {
     "name": "stdout",
     "output_type": "stream",
     "text": [
      "Testing MAE: 0.3993460352948709\n",
      "Testing MSE: 0.2503684924708351\n",
      "Testing R²: 0.9130039476028622\n"
     ]
    }
   ],
   "source": [
    "test_mae=mean_absolute_error( y_test, y_pred)\n",
    "print(f\"Testing MAE: {test_mae}\")\n",
    "test_mse=mean_squared_error( y_test, y_pred)\n",
    "print(f\"Testing MSE: {test_mse}\")\n",
    "test_r2 = r2_score(y_test, y_pred)\n",
    "print(f\"Testing R²: {test_r2}\")"
   ]
  },
  {
   "cell_type": "markdown",
   "id": "c6fbbc10-54fa-4af6-bf0e-51fb18dce272",
   "metadata": {},
   "source": [
    "creating pickle file"
   ]
  },
  {
   "cell_type": "code",
   "execution_count": 178,
   "id": "d0514fa8-84f0-4e17-a731-035b345887fd",
   "metadata": {},
   "outputs": [],
   "source": [
    "import pickle\n",
    "pickle.dump(ridge,open('model.pkl','wb'))"
   ]
  },
  {
   "cell_type": "code",
   "execution_count": 179,
   "id": "eba5d5c4-624d-47a9-a8ac-1a1a9229b9cc",
   "metadata": {},
   "outputs": [],
   "source": [
    "import pickle\n",
    "\n",
    "# Save the column names after one-hot encoding\n",
    "X_ohe_columns = X_ohe.columns.to_list()\n",
    "pickle.dump(X_ohe_columns, open('X_columns.pkl', 'wb'))"
   ]
  },
  {
   "cell_type": "code",
   "execution_count": 180,
   "id": "5890e69b-0e1f-48e0-8bf9-74bc5ecba9ff",
   "metadata": {},
   "outputs": [
    {
     "name": "stdout",
     "output_type": "stream",
     "text": [
      "Prediction: [6.23680871]\n"
     ]
    },
    {
     "name": "stderr",
     "output_type": "stream",
     "text": [
      "P:\\Users\\Lenovo\\anaconda3\\Lib\\site-packages\\sklearn\\utils\\validation.py:2739: UserWarning: X does not have valid feature names, but PolynomialFeatures was fitted with feature names\n",
      "  warnings.warn(\n"
     ]
    }
   ],
   "source": [
    "import numpy as np\n",
    "\n",
    "# Example input data after One-Hot Encoding\n",
    "encoded_input = [\n",
    "    897.077239,  # Rainfall_mm\n",
    "    27.676966,   # Temperature_Celsius\n",
    "    0,            # Fertilizer_Used (False -> 0)\n",
    "    1,            # Irrigation_Used (True -> 1)\n",
    "    122,          # Days_to_Harvest\n",
    "    0,            # Region_North (encoded)\n",
    "    0,            # Region_South (encoded)\n",
    "    1,            # Region_West (encoded)\n",
    "    0,            # Soil_Type_Clay (encoded)\n",
    "    0,            # Soil_Type_Loam (encoded)\n",
    "    0,            # Soil_Type_Peaty (encoded)\n",
    "    1,            # Soil_Type_Sandy (encoded)\n",
    "    0,            # Soil_Type_Silt (encoded)\n",
    "    1,            # Crop_Cotton (encoded)\n",
    "    0,            # Crop_Maize (encoded)\n",
    "    0,            # Crop_Rice (encoded)\n",
    "    0,            # Crop_Soybean (encoded)\n",
    "    0,            # Crop_Wheat (encoded)\n",
    "    0,            # Weather_Condition_Rainy (encoded)\n",
    "    0             # Weather_Condition_Sunny (encoded)\n",
    "]\n",
    "\n",
    "# Convert the input into a 2D NumPy array (1 row, number_of_features columns)\n",
    "encoded_input = np.array([encoded_input])\n",
    "\n",
    "# Load the pickled model\n",
    "model = pickle.load(open('model.pkl', 'rb'))\n",
    "\n",
    "# Make the prediction\n",
    "y_pred = model.predict(encoded_input)\n",
    "\n",
    "# Output the prediction\n",
    "print(\"Prediction:\", y_pred)"
   ]
  },
  {
   "cell_type": "code",
   "execution_count": 196,
   "id": "d988f079-c49a-49ed-bc05-338b0ec70b21",
   "metadata": {},
   "outputs": [
    {
     "name": "stdout",
     "output_type": "stream",
     "text": [
      "Python 3.12.7\n"
     ]
    }
   ],
   "source": [
    "!python --version"
   ]
  },
  {
   "cell_type": "code",
   "execution_count": null,
   "id": "b2eb0c0c-7148-4f15-b21d-2553a45f5733",
   "metadata": {},
   "outputs": [],
   "source": []
  }
 ],
 "metadata": {
  "kernelspec": {
   "display_name": "Python [conda env:base] *",
   "language": "python",
   "name": "conda-base-py"
  },
  "language_info": {
   "codemirror_mode": {
    "name": "ipython",
    "version": 3
   },
   "file_extension": ".py",
   "mimetype": "text/x-python",
   "name": "python",
   "nbconvert_exporter": "python",
   "pygments_lexer": "ipython3",
   "version": "3.12.7"
  }
 },
 "nbformat": 4,
 "nbformat_minor": 5
}
